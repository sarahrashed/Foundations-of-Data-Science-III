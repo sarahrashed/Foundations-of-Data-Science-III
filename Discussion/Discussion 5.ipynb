{
 "cells": [
  {
   "cell_type": "markdown",
   "metadata": {},
   "source": [
    "# **Discussion 5 Notes**"
   ]
  },
  {
   "cell_type": "code",
   "execution_count": 4,
   "metadata": {},
   "outputs": [
    {
     "data": {
      "text/plain": [
       "Ttest_indResult(statistic=-14.884168150705014, pvalue=1.9399001031076677e-17)"
      ]
     },
     "execution_count": 4,
     "metadata": {},
     "output_type": "execute_result"
    }
   ],
   "source": [
    "from scipy import stats\n",
    "\n",
    "mean_heights = [25,27,26]\n",
    "std_devs = [2,3,2.5]\n",
    "\n",
    "n = 20\n",
    "\n",
    "alpha = 0.05\n",
    "\n",
    "num_treatments = len(mean_heights)\n",
    "\n",
    "num_experiments = num_treatments*(num_treatments-1)/2\n",
    "\n",
    "\n",
    "treatA = stats.ttest_ind_from_stats(25,2,20,37,3,20)\n",
    "treatA"
   ]
  }
 ],
 "metadata": {
  "kernelspec": {
   "display_name": "Python 3",
   "language": "python",
   "name": "python3"
  },
  "language_info": {
   "codemirror_mode": {
    "name": "ipython",
    "version": 3
   },
   "file_extension": ".py",
   "mimetype": "text/x-python",
   "name": "python",
   "nbconvert_exporter": "python",
   "pygments_lexer": "ipython3",
   "version": "3.11.8"
  }
 },
 "nbformat": 4,
 "nbformat_minor": 2
}
