{
 "cells": [
  {
   "cell_type": "code",
   "execution_count": 3,
   "id": "d4c0cc67",
   "metadata": {
    "hide_input": true,
    "slideshow": {
     "slide_type": "skip"
    },
    "tags": [
     "remove-cell"
    ]
   },
   "outputs": [],
   "source": [
    "%matplotlib inline\n",
    "%config InlineBackend.figure_format='retina'\n",
    "import numpy as np\n",
    "import pandas as pd\n",
    "import matplotlib.pyplot as plt\n",
    "import seaborn as sns\n",
    "from IPython.display import Image, display_html, display, Math, HTML"
   ]
  },
  {
   "cell_type": "markdown",
   "id": "2f8d3b5e",
   "metadata": {
    "slideshow": {
     "slide_type": "slide"
    }
   },
   "source": [
    "# Classification"
   ]
  },
  {
   "cell_type": "markdown",
   "id": "1afda9c9",
   "metadata": {
    "slideshow": {
     "slide_type": "skip"
    }
   },
   "source": [
    "```{margin}\n",
    "These sections continue to draw on [Think Bayes](https://greenteapress.com/wp/think-bayes) by Allen B. Downey.\n",
    "```"
   ]
  },
  {
   "cell_type": "markdown",
   "id": "8b2c5b87",
   "metadata": {
    "slideshow": {
     "slide_type": "slide"
    }
   },
   "source": [
    "## Is this a cat or a dog?"
   ]
  },
  {
   "cell_type": "markdown",
   "id": "3efe551a",
   "metadata": {
    "slideshow": {
     "slide_type": "skip"
    }
   },
   "source": [
    "```{margin} \n",
    "Image credit: Atchoum, from https://atchoumthecat.com/\n",
    "```"
   ]
  },
  {
   "cell_type": "markdown",
   "id": "368c5307",
   "metadata": {
    "slideshow": {
     "slide_type": "-"
    }
   },
   "source": [
    "<center>\n",
    "    \n",
    "<img src=\"images/cat_or_dog.jpg\" width=\"800px\">\n",
    "    \n",
    "</center>"
   ]
  },
  {
   "cell_type": "markdown",
   "id": "052c9f96",
   "metadata": {
    "slideshow": {
     "slide_type": "fragment"
    }
   },
   "source": [
    "Classification might be the most well-known application of Bayesian methods, made famous in the 1990s as the basis of the first generation of spam filters."
   ]
  },
  {
   "cell_type": "markdown",
   "id": "3c28789a",
   "metadata": {
    "slideshow": {
     "slide_type": "skip"
    }
   },
   "source": [
    "```{margin} \n",
    "Image credit: DALLE, prompt: \"A penguin eating a can of spam\"\n",
    "```"
   ]
  },
  {
   "cell_type": "markdown",
   "id": "0227e8a1",
   "metadata": {
    "slideshow": {
     "slide_type": "slide"
    }
   },
   "source": [
    "## Classifying Penguins\n",
    "\n",
    "Today we'll learn to use Bayesian classification to classify penguins by species.\n",
    "\n",
    "<center>\n",
    "    \n",
    "<img src=\"images/DALLE-A-penguin-eating-a-can-of-spam.png\" width=\"600px\">\n",
    "    \n",
    "</center>\n"
   ]
  },
  {
   "cell_type": "markdown",
   "id": "3753bc36",
   "metadata": {
    "slideshow": {
     "slide_type": "slide"
    }
   },
   "source": [
    "### Approaching the problem \n",
    "\n",
    "Using a dataset of measurements of three types of penguins, we'll learn to classify a penguin as one one of those three types: Adélie, Chinstrap and Gentoo. "
   ]
  },
  {
   "cell_type": "markdown",
   "id": "d55c624c",
   "metadata": {
    "slideshow": {
     "slide_type": "fragment"
    }
   },
   "source": [
    "We'll consider a dataset with two measurements:\n",
    "\n",
    "   - Flipper Length in millimeters\n",
    "\n",
    "\n",
    "   - Culmen (beak) Length in millimeters\n"
   ]
  },
  {
   "cell_type": "markdown",
   "id": "2010ea5e",
   "metadata": {
    "slideshow": {
     "slide_type": "fragment"
    }
   },
   "source": [
    " And we'll begin to approach the problem in our typical way:"
   ]
  },
  {
   "cell_type": "markdown",
   "id": "6c8544d3",
   "metadata": {
    "slideshow": {
     "slide_type": "fragment"
    }
   },
   "source": [
    "   - Define a prior distribution for how likely we think our unknown example is to belong to each of the three possible species"
   ]
  },
  {
   "cell_type": "markdown",
   "id": "a4d3c9df",
   "metadata": {
    "slideshow": {
     "slide_type": "fragment"
    }
   },
   "source": [
    "   - Compute the likelihood of the data for each species"
   ]
  },
  {
   "cell_type": "markdown",
   "id": "da512ea4",
   "metadata": {
    "slideshow": {
     "slide_type": "fragment"
    }
   },
   "source": [
    "   - Compute the posterior probability of each hypothesis"
   ]
  },
  {
   "cell_type": "markdown",
   "id": "48470edf",
   "metadata": {
    "slideshow": {
     "slide_type": "slide"
    }
   },
   "source": [
    "### The Prior\n",
    "\n",
    "First let's read in the data to get the possible classification options:"
   ]
  },
  {
   "cell_type": "code",
   "execution_count": 4,
   "id": "7f1dc968",
   "metadata": {
    "slideshow": {
     "slide_type": "fragment"
    }
   },
   "outputs": [
    {
     "data": {
      "text/plain": [
       "array(['Adelie Penguin (Pygoscelis adeliae)',\n",
       "       'Chinstrap penguin (Pygoscelis antarctica)',\n",
       "       'Gentoo penguin (Pygoscelis papua)'], dtype=object)"
      ]
     },
     "execution_count": 4,
     "metadata": {},
     "output_type": "execute_result"
    }
   ],
   "source": [
    "#read in the data \n",
    "df = pd.read_csv('images/penguins.csv')\n",
    "\n",
    "#check species names\n",
    "np.sort(df.Species.unique())"
   ]
  },
  {
   "cell_type": "markdown",
   "id": "541856df",
   "metadata": {
    "slideshow": {
     "slide_type": "fragment"
    }
   },
   "source": [
    "We don't know anything about our sample, so we can say it is equally likely to belong to each of the three species."
   ]
  },
  {
   "cell_type": "code",
   "execution_count": 46,
   "id": "cdafe98b",
   "metadata": {
    "slideshow": {
     "slide_type": "fragment"
    }
   },
   "outputs": [
    {
     "data": {
      "text/html": [
       "<div>\n",
       "<style scoped>\n",
       "    .dataframe tbody tr th:only-of-type {\n",
       "        vertical-align: middle;\n",
       "    }\n",
       "\n",
       "    .dataframe tbody tr th {\n",
       "        vertical-align: top;\n",
       "    }\n",
       "\n",
       "    .dataframe thead th {\n",
       "        text-align: right;\n",
       "    }\n",
       "</style>\n",
       "<table border=\"1\" class=\"dataframe\">\n",
       "  <thead>\n",
       "    <tr style=\"text-align: right;\">\n",
       "      <th></th>\n",
       "      <th>Species</th>\n",
       "      <th>probs</th>\n",
       "    </tr>\n",
       "  </thead>\n",
       "  <tbody>\n",
       "    <tr>\n",
       "      <th>0</th>\n",
       "      <td>Adelie Penguin (Pygoscelis adeliae)</td>\n",
       "      <td>0.333333</td>\n",
       "    </tr>\n",
       "    <tr>\n",
       "      <th>1</th>\n",
       "      <td>Chinstrap penguin (Pygoscelis antarctica)</td>\n",
       "      <td>0.333333</td>\n",
       "    </tr>\n",
       "    <tr>\n",
       "      <th>2</th>\n",
       "      <td>Gentoo penguin (Pygoscelis papua)</td>\n",
       "      <td>0.333333</td>\n",
       "    </tr>\n",
       "  </tbody>\n",
       "</table>\n",
       "</div>"
      ],
      "text/plain": [
       "                                     Species     probs\n",
       "0        Adelie Penguin (Pygoscelis adeliae)  0.333333\n",
       "1  Chinstrap penguin (Pygoscelis antarctica)  0.333333\n",
       "2          Gentoo penguin (Pygoscelis papua)  0.333333"
      ]
     },
     "execution_count": 46,
     "metadata": {},
     "output_type": "execute_result"
    }
   ],
   "source": [
    "#Set equal priors\n",
    "p_dist = pd.DataFrame(np.sort(df.Species.unique()), columns = [\"Species\"])\n",
    "p_dist['probs'] = 1/3\n",
    "p_dist"
   ]
  },
  {
   "cell_type": "markdown",
   "id": "933b899b",
   "metadata": {
    "slideshow": {
     "slide_type": "slide"
    }
   },
   "source": [
    "### The Likelihood"
   ]
  },
  {
   "cell_type": "markdown",
   "id": "24b3929e",
   "metadata": {
    "slideshow": {
     "slide_type": "-"
    }
   },
   "source": [
    "For any given observation, we'll need to calculate it's likelihood for each of the three species. We'll assume each trait is normally distributed for each species. "
   ]
  },
  {
   "cell_type": "markdown",
   "id": "9d9c71c7",
   "metadata": {
    "slideshow": {
     "slide_type": "fragment"
    }
   },
   "source": [
    "This will require making 6 normal distributions (3 species and two traits) based on the mean and standard deviation of the observed data for each. We'll write a helper function to make those distributions for us from a data frame of data:"
   ]
  },
  {
   "cell_type": "code",
   "execution_count": 27,
   "id": "f589f6bc",
   "metadata": {
    "slideshow": {
     "slide_type": "fragment"
    }
   },
   "outputs": [],
   "source": [
    "from scipy.stats import norm\n",
    "\n",
    "def make_norm_map(df, colname, by='Species'):\n",
    "    \"\"\"Make a map from species to norm object.\"\"\"\n",
    "    norm_map = {}\n",
    "    grouped = df.groupby(by)[colname]\n",
    "    for species, group in grouped:\n",
    "        mean = group.mean()\n",
    "        std = group.std()\n",
    "        norm_map[species] = norm(mean, std)\n",
    "    return norm_map"
   ]
  },
  {
   "cell_type": "code",
   "execution_count": 47,
   "id": "a53f1e07",
   "metadata": {
    "slideshow": {
     "slide_type": "fragment"
    }
   },
   "outputs": [
    {
     "data": {
      "text/plain": [
       "dict_keys(['Adelie Penguin (Pygoscelis adeliae)', 'Chinstrap penguin (Pygoscelis antarctica)', 'Gentoo penguin (Pygoscelis papua)'])"
      ]
     },
     "execution_count": 47,
     "metadata": {},
     "output_type": "execute_result"
    }
   ],
   "source": [
    "flipper_map = make_norm_map(df, 'Flipper Length (mm)')\n",
    "flipper_map.keys()"
   ]
  },
  {
   "cell_type": "markdown",
   "id": "b2e109ed",
   "metadata": {
    "slideshow": {
     "slide_type": "slide"
    }
   },
   "source": [
    "Let's make sure it works but checking the probability that a single flipper measure length for a single species has some associated probability:"
   ]
  },
  {
   "cell_type": "code",
   "execution_count": 48,
   "id": "f33f7d1b",
   "metadata": {
    "slideshow": {
     "slide_type": "fragment"
    }
   },
   "outputs": [
    {
     "data": {
      "text/plain": [
       "0.054732511875530694"
      ]
     },
     "execution_count": 48,
     "metadata": {},
     "output_type": "execute_result"
    }
   ],
   "source": [
    "data = 193\n",
    "flipper_map['Adelie Penguin (Pygoscelis adeliae)'].pdf(data)"
   ]
  },
  {
   "cell_type": "markdown",
   "id": "4ae5e76f",
   "metadata": {
    "slideshow": {
     "slide_type": "fragment"
    }
   },
   "source": [
    "Now our likelihood for a single observation is just that calculation for all three species:"
   ]
  },
  {
   "cell_type": "code",
   "execution_count": 49,
   "id": "82b3fa19",
   "metadata": {
    "slideshow": {
     "slide_type": "fragment"
    }
   },
   "outputs": [
    {
     "data": {
      "text/plain": [
       "[0.054732511875530694, 0.051721356158881626, 5.866045366199098e-05]"
      ]
     },
     "execution_count": 49,
     "metadata": {},
     "output_type": "execute_result"
    }
   ],
   "source": [
    "likelihood = [flipper_map[hypo].pdf(data) for hypo in flipper_map.keys()]\n",
    "likelihood"
   ]
  },
  {
   "cell_type": "markdown",
   "id": "3e2926fe",
   "metadata": {
    "slideshow": {
     "slide_type": "slide"
    }
   },
   "source": [
    "### The Update\n",
    "\n",
    "Again, like usual, the update is just the prior times the likelihood divided by a normalizer:"
   ]
  },
  {
   "cell_type": "code",
   "execution_count": 50,
   "id": "da1d7226",
   "metadata": {
    "slideshow": {
     "slide_type": "fragment"
    }
   },
   "outputs": [
    {
     "data": {
      "text/html": [
       "<div>\n",
       "<style scoped>\n",
       "    .dataframe tbody tr th:only-of-type {\n",
       "        vertical-align: middle;\n",
       "    }\n",
       "\n",
       "    .dataframe tbody tr th {\n",
       "        vertical-align: top;\n",
       "    }\n",
       "\n",
       "    .dataframe thead th {\n",
       "        text-align: right;\n",
       "    }\n",
       "</style>\n",
       "<table border=\"1\" class=\"dataframe\">\n",
       "  <thead>\n",
       "    <tr style=\"text-align: right;\">\n",
       "      <th></th>\n",
       "      <th>Species</th>\n",
       "      <th>probs</th>\n",
       "    </tr>\n",
       "  </thead>\n",
       "  <tbody>\n",
       "    <tr>\n",
       "      <th>0</th>\n",
       "      <td>Adelie Penguin (Pygoscelis adeliae)</td>\n",
       "      <td>0.513860</td>\n",
       "    </tr>\n",
       "    <tr>\n",
       "      <th>1</th>\n",
       "      <td>Chinstrap penguin (Pygoscelis antarctica)</td>\n",
       "      <td>0.485589</td>\n",
       "    </tr>\n",
       "    <tr>\n",
       "      <th>2</th>\n",
       "      <td>Gentoo penguin (Pygoscelis papua)</td>\n",
       "      <td>0.000551</td>\n",
       "    </tr>\n",
       "  </tbody>\n",
       "</table>\n",
       "</div>"
      ],
      "text/plain": [
       "                                     Species     probs\n",
       "0        Adelie Penguin (Pygoscelis adeliae)  0.513860\n",
       "1  Chinstrap penguin (Pygoscelis antarctica)  0.485589\n",
       "2          Gentoo penguin (Pygoscelis papua)  0.000551"
      ]
     },
     "execution_count": 50,
     "metadata": {},
     "output_type": "execute_result"
    }
   ],
   "source": [
    "# our usual update function\n",
    "def update(distribution, likelihood):\n",
    "    distribution['probs'] = distribution['probs'] * likelihood\n",
    "    prob_data = distribution['probs'].sum()\n",
    "    distribution['probs'] = distribution['probs'] / prob_data\n",
    "    return distribution\n",
    "\n",
    "update(p_dist,likelihood)"
   ]
  },
  {
   "cell_type": "markdown",
   "id": "982b72ec",
   "metadata": {
    "slideshow": {
     "slide_type": "fragment"
    }
   },
   "source": [
    "It seems like that flipper length does not distinguish strongly between Adélie and Chinstrap penguins.\n",
    "\n",
    "But maybe culmen length can make this distinction, so let’s use it to do a second round of classification"
   ]
  },
  {
   "cell_type": "markdown",
   "id": "fcf1f47b",
   "metadata": {
    "slideshow": {
     "slide_type": "slide"
    }
   },
   "source": [
    "Repeating our steps for the flipper length with culmen length:"
   ]
  },
  {
   "cell_type": "code",
   "execution_count": 51,
   "id": "b694c062",
   "metadata": {
    "slideshow": {
     "slide_type": "fragment"
    }
   },
   "outputs": [
    {
     "data": {
      "text/html": [
       "<div>\n",
       "<style scoped>\n",
       "    .dataframe tbody tr th:only-of-type {\n",
       "        vertical-align: middle;\n",
       "    }\n",
       "\n",
       "    .dataframe tbody tr th {\n",
       "        vertical-align: top;\n",
       "    }\n",
       "\n",
       "    .dataframe thead th {\n",
       "        text-align: right;\n",
       "    }\n",
       "</style>\n",
       "<table border=\"1\" class=\"dataframe\">\n",
       "  <thead>\n",
       "    <tr style=\"text-align: right;\">\n",
       "      <th></th>\n",
       "      <th>Species</th>\n",
       "      <th>probs</th>\n",
       "    </tr>\n",
       "  </thead>\n",
       "  <tbody>\n",
       "    <tr>\n",
       "      <th>0</th>\n",
       "      <td>Adelie Penguin (Pygoscelis adeliae)</td>\n",
       "      <td>0.003455</td>\n",
       "    </tr>\n",
       "    <tr>\n",
       "      <th>1</th>\n",
       "      <td>Chinstrap penguin (Pygoscelis antarctica)</td>\n",
       "      <td>0.995299</td>\n",
       "    </tr>\n",
       "    <tr>\n",
       "      <th>2</th>\n",
       "      <td>Gentoo penguin (Pygoscelis papua)</td>\n",
       "      <td>0.001246</td>\n",
       "    </tr>\n",
       "  </tbody>\n",
       "</table>\n",
       "</div>"
      ],
      "text/plain": [
       "                                     Species     probs\n",
       "0        Adelie Penguin (Pygoscelis adeliae)  0.003455\n",
       "1  Chinstrap penguin (Pygoscelis antarctica)  0.995299\n",
       "2          Gentoo penguin (Pygoscelis papua)  0.001246"
      ]
     },
     "execution_count": 51,
     "metadata": {},
     "output_type": "execute_result"
    }
   ],
   "source": [
    "# make normal distributions for each species from data\n",
    "culmen_map  = make_norm_map(df, 'Culmen Length (mm)')\n",
    "\n",
    "# lets say we observed a culmen length of 48 mm\n",
    "likelihood = [culmen_map[hypo].pdf(48) for hypo in culmen_map.keys()]\n",
    "\n",
    "# update \n",
    "update(p_dist,likelihood)"
   ]
  },
  {
   "cell_type": "markdown",
   "id": "16337c55",
   "metadata": {
    "slideshow": {
     "slide_type": "slide"
    }
   },
   "source": [
    "### Naive Bayesian Classifier\n",
    "\n",
    "What we just implemented is the famous Naive Bayes Classifier! It simply ignores any correlation between features and use independent updates for each observation."
   ]
  },
  {
   "cell_type": "markdown",
   "id": "2717a0a3",
   "metadata": {
    "slideshow": {
     "slide_type": "fragment"
    }
   },
   "source": [
    "Naive Bayes Classifiers, while perhaps \"naive\" in ignoring correlations between featues, are surprisngly accurate. This classifer alone can classify 94.7% of the penguins in our dataset correctly!"
   ]
  },
  {
   "cell_type": "markdown",
   "id": "527279fa",
   "metadata": {
    "slideshow": {
     "slide_type": "slide"
    }
   },
   "source": [
    "### Making the Classifier Slightly Less Naive"
   ]
  },
  {
   "cell_type": "markdown",
   "id": "cb9189c3",
   "metadata": {
    "slideshow": {
     "slide_type": "fragment"
    }
   },
   "source": [
    "We actually already have all the tools to make a less Naive classifier. We were previosuly using univariate normal distributions for each feature for each species. Instead, we can just use a single multivariate normal for each species."
   ]
  },
  {
   "cell_type": "markdown",
   "id": "720ef243",
   "metadata": {
    "slideshow": {
     "slide_type": "fragment"
    }
   },
   "source": [
    "To review, a multivariate normal is captured by a vector of means and a covariance matrix. "
   ]
  },
  {
   "cell_type": "code",
   "execution_count": 6,
   "id": "fdca3d8d",
   "metadata": {
    "slideshow": {
     "slide_type": "fragment"
    }
   },
   "outputs": [
    {
     "data": {
      "text/plain": [
       "Flipper Length (mm)    200.915205\n",
       "Culmen Length (mm)      43.921930\n",
       "dtype: float64"
      ]
     },
     "execution_count": 6,
     "metadata": {},
     "output_type": "execute_result"
    }
   ],
   "source": [
    "var1 = 'Flipper Length (mm)'\n",
    "var2 = 'Culmen Length (mm)'\n",
    "features = df[[var1, var2]]\n",
    "\n",
    "# the vector of means\n",
    "mean = features.mean()\n",
    "mean"
   ]
  },
  {
   "cell_type": "code",
   "execution_count": 57,
   "id": "44d86cc3",
   "metadata": {
    "slideshow": {
     "slide_type": "fragment"
    }
   },
   "outputs": [
    {
     "data": {
      "text/html": [
       "<div>\n",
       "<style scoped>\n",
       "    .dataframe tbody tr th:only-of-type {\n",
       "        vertical-align: middle;\n",
       "    }\n",
       "\n",
       "    .dataframe tbody tr th {\n",
       "        vertical-align: top;\n",
       "    }\n",
       "\n",
       "    .dataframe thead th {\n",
       "        text-align: right;\n",
       "    }\n",
       "</style>\n",
       "<table border=\"1\" class=\"dataframe\">\n",
       "  <thead>\n",
       "    <tr style=\"text-align: right;\">\n",
       "      <th></th>\n",
       "      <th>Flipper Length (mm)</th>\n",
       "      <th>Culmen Length (mm)</th>\n",
       "    </tr>\n",
       "  </thead>\n",
       "  <tbody>\n",
       "    <tr>\n",
       "      <th>Flipper Length (mm)</th>\n",
       "      <td>197.731792</td>\n",
       "      <td>50.375765</td>\n",
       "    </tr>\n",
       "    <tr>\n",
       "      <th>Culmen Length (mm)</th>\n",
       "      <td>50.375765</td>\n",
       "      <td>29.807054</td>\n",
       "    </tr>\n",
       "  </tbody>\n",
       "</table>\n",
       "</div>"
      ],
      "text/plain": [
       "                     Flipper Length (mm)  Culmen Length (mm)\n",
       "Flipper Length (mm)           197.731792           50.375765\n",
       "Culmen Length (mm)             50.375765           29.807054"
      ]
     },
     "execution_count": 57,
     "metadata": {},
     "output_type": "execute_result"
    }
   ],
   "source": [
    "# the covariance matrix\n",
    "cov = features.cov()\n",
    "cov"
   ]
  },
  {
   "cell_type": "markdown",
   "id": "a00e0de5",
   "metadata": {
    "slideshow": {
     "slide_type": "slide"
    }
   },
   "source": [
    "Luckily, in addition to the usual normal distribution in SciPy, there is also a multivariate normal. We can plug our means and covariance into that to get back probabilities of observations:"
   ]
  },
  {
   "cell_type": "code",
   "execution_count": 63,
   "id": "44fe0b34",
   "metadata": {
    "slideshow": {
     "slide_type": "fragment"
    }
   },
   "outputs": [
    {
     "data": {
      "text/plain": [
       "0.0007850305643354616"
      ]
     },
     "execution_count": 63,
     "metadata": {},
     "output_type": "execute_result"
    }
   ],
   "source": [
    "from scipy.stats import multivariate_normal\n",
    "\n",
    "# make multivariate normal from means and covariance\n",
    "multinorm = multivariate_normal(mean, cov)\n",
    "\n",
    "# try an example datapoint\n",
    "multinorm.pdf([193,48])"
   ]
  },
  {
   "cell_type": "markdown",
   "id": "8f1cee96",
   "metadata": {
    "slideshow": {
     "slide_type": "slide"
    }
   },
   "source": [
    "Like before, lets write a function that creates a distribution for each species from the data. This time we just need one multivariate normal per species."
   ]
  },
  {
   "cell_type": "code",
   "execution_count": 62,
   "id": "67ea25c8",
   "metadata": {
    "slideshow": {
     "slide_type": "fragment"
    }
   },
   "outputs": [],
   "source": [
    "def make_multinorm_map(df, colnames):\n",
    "    \"\"\"Make a map from each species to a multivariate normal.\"\"\"\n",
    "    multinorm_map = {}\n",
    "    grouped = df.groupby('Species')\n",
    "    for species, group in grouped:\n",
    "        features = group[colnames]\n",
    "        mean = features.mean()\n",
    "        cov = features.cov()\n",
    "        multinorm_map[species] = multivariate_normal(mean, cov)\n",
    "    return multinorm_map\n",
    "\n",
    "multinorm_map = make_multinorm_map(df, [var1, var2])"
   ]
  },
  {
   "cell_type": "markdown",
   "id": "f667a388",
   "metadata": {
    "slideshow": {
     "slide_type": "slide"
    }
   },
   "source": [
    "And now lets run our whole procedure: prior, likelihood, and update:"
   ]
  },
  {
   "cell_type": "code",
   "execution_count": 64,
   "id": "202ba702",
   "metadata": {
    "slideshow": {
     "slide_type": "fragment"
    }
   },
   "outputs": [
    {
     "data": {
      "text/html": [
       "<div>\n",
       "<style scoped>\n",
       "    .dataframe tbody tr th:only-of-type {\n",
       "        vertical-align: middle;\n",
       "    }\n",
       "\n",
       "    .dataframe tbody tr th {\n",
       "        vertical-align: top;\n",
       "    }\n",
       "\n",
       "    .dataframe thead th {\n",
       "        text-align: right;\n",
       "    }\n",
       "</style>\n",
       "<table border=\"1\" class=\"dataframe\">\n",
       "  <thead>\n",
       "    <tr style=\"text-align: right;\">\n",
       "      <th></th>\n",
       "      <th>Species</th>\n",
       "      <th>probs</th>\n",
       "    </tr>\n",
       "  </thead>\n",
       "  <tbody>\n",
       "    <tr>\n",
       "      <th>0</th>\n",
       "      <td>Adelie Penguin (Pygoscelis adeliae)</td>\n",
       "      <td>0.002740</td>\n",
       "    </tr>\n",
       "    <tr>\n",
       "      <th>1</th>\n",
       "      <td>Chinstrap penguin (Pygoscelis antarctica)</td>\n",
       "      <td>0.997257</td>\n",
       "    </tr>\n",
       "    <tr>\n",
       "      <th>2</th>\n",
       "      <td>Gentoo penguin (Pygoscelis papua)</td>\n",
       "      <td>0.000003</td>\n",
       "    </tr>\n",
       "  </tbody>\n",
       "</table>\n",
       "</div>"
      ],
      "text/plain": [
       "                                     Species     probs\n",
       "0        Adelie Penguin (Pygoscelis adeliae)  0.002740\n",
       "1  Chinstrap penguin (Pygoscelis antarctica)  0.997257\n",
       "2          Gentoo penguin (Pygoscelis papua)  0.000003"
      ]
     },
     "execution_count": 64,
     "metadata": {},
     "output_type": "execute_result"
    }
   ],
   "source": [
    "#Set equal priors\n",
    "p_dist = pd.DataFrame(np.sort(df.Species.unique()), columns = [\"Species\"])\n",
    "p_dist['probs'] = 1/3\n",
    "\n",
    "# Like before, we observed a flipper length of 193 and a culmen length of 48 mm\n",
    "likelihood = [multinorm_map[hypo].pdf([193,48]) for hypo in multinorm_map.keys()]\n",
    "\n",
    "# update \n",
    "update(p_dist,likelihood)"
   ]
  },
  {
   "cell_type": "markdown",
   "id": "591a1a7b",
   "metadata": {
    "slideshow": {
     "slide_type": "fragment"
    }
   },
   "source": [
    "A penguin with those measurements is almost certainly a Chinstrap!"
   ]
  },
  {
   "cell_type": "markdown",
   "id": "56904767",
   "metadata": {
    "slideshow": {
     "slide_type": "fragment"
    }
   },
   "source": [
    "Interestingly, it turns out this more complicated classifer can classify 95.3% of the penguins in our dataset correctly, just barely more than the 94.7% of the naive classifier. "
   ]
  },
  {
   "cell_type": "markdown",
   "id": "11af4b94",
   "metadata": {
    "slideshow": {
     "slide_type": "fragment"
    }
   },
   "source": [
    "In fact it turns out simple Naive Bayes classifiers are great for many classification tasks. This is great news: they're very easy to implement and take very little computational power."
   ]
  }
 ],
 "metadata": {
  "celltoolbar": "Slideshow",
  "kernelspec": {
   "display_name": "Python 3 (ipykernel)",
   "language": "python",
   "name": "python3"
  },
  "language_info": {
   "codemirror_mode": {
    "name": "ipython",
    "version": 3
   },
   "file_extension": ".py",
   "mimetype": "text/x-python",
   "name": "python",
   "nbconvert_exporter": "python",
   "pygments_lexer": "ipython3",
   "version": "3.9.12"
  },
  "rise": {
   "scroll": false,
   "theme": "serif",
   "transition": "fade"
  }
 },
 "nbformat": 4,
 "nbformat_minor": 5
}
