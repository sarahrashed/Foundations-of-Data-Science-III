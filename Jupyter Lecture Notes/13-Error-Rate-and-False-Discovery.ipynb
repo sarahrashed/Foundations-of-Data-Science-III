{
 "cells": [
  {
   "cell_type": "code",
   "execution_count": 1,
   "id": "d4c0cc67",
   "metadata": {
    "hide_input": true,
    "tags": [
     "remove-cell"
    ]
   },
   "outputs": [],
   "source": [
    "%matplotlib inline\n",
    "%config InlineBackend.figure_format='retina'\n",
    "import numpy as np\n",
    "import pandas as pd\n",
    "import matplotlib.pyplot as plt\n",
    "import seaborn as sns\n",
    "from IPython.display import Image, display_html, display, Math, HTML"
   ]
  },
  {
   "cell_type": "markdown",
   "id": "2f8d3b5e",
   "metadata": {
    "slideshow": {
     "slide_type": "slide"
    }
   },
   "source": [
    "# Error Rate and False Discovery"
   ]
  },
  {
   "cell_type": "markdown",
   "id": "e267417b",
   "metadata": {
    "slideshow": {
     "slide_type": "fragment"
    }
   },
   "source": [
    "## Review Family-Wise Error Rate\n",
    "Last class we learned about the family-wise error rate (FWER), which is the probability that that we make one or more false positive errors across many hypothesis tests.\n",
    "\n",
    "We then saw that Bonferroni correction, where we divide the *p*-value threshold you would normally use by the total number of hyptheses being tested to control the FWER, is a good but conservative method to control FWER when testing many hypotheses."
   ]
  },
  {
   "cell_type": "markdown",
   "id": "b920b597",
   "metadata": {
    "slideshow": {
     "slide_type": "slide"
    }
   },
   "source": [
    "## The p-value Histogram\n",
    "Given what we saw with Bonferroni correction, maybe there's a better way to control for false positives? One great first step towards understanding how many false positives there might be among the hyphothesis that you tested is to actually plot the distribution of *p*-values with a *p*-value histogram.\n",
    "\n",
    "This plot will include all your *p*-values, meaning ones for which the null hypothesis is true and for which it is not true, and you can visually see the proportion of those in this type of plot."
   ]
  },
  {
   "cell_type": "markdown",
   "id": "18a2e9ae",
   "metadata": {
    "slideshow": {
     "slide_type": "slide"
    }
   },
   "source": [
    "In that XCKD example with the jellybeans, they most likely saw a distribution of *p*-values that looks like this:\n",
    "\n",
    "<center>\n",
    "    \n",
    "<img src=\"images/uniform-pval-dist.png\" width=\"500px\">\n",
    "    \n",
    "</center>\n",
    "<center>\n",
    "<sup>David Robinson - Variance Explained</sup>\n",
    "</center>"
   ]
  },
  {
   "cell_type": "markdown",
   "id": "d1e9cae4",
   "metadata": {
    "slideshow": {
     "slide_type": "slide"
    }
   },
   "source": [
    "There are some *p*-values < 0.05, but there are an equal number of every other *p*-value. Do you really believe these low *p*-values are anything more than chance? In fact, the definition of *p*-values tells us that there should exactly be a 5% chance of seeing a *p*-value less than 0.05 under the null hypthesis (and so on for other thresholds)."
   ]
  },
  {
   "cell_type": "markdown",
   "id": "4efd474a",
   "metadata": {
    "slideshow": {
     "slide_type": "slide"
    }
   },
   "source": [
    "On the other hand, you might see a distribution of *p*-values that looks like this, where there is an enrichment for small *p*-values:\n",
    "\n",
    "<center>\n",
    "\n",
    "<img src=\"images/enriched-pval-dist.png\" width=\"400px\">\n",
    "\n",
    "</center>\n",
    "<center>\n",
    "<sup>David Robinson - Variance Explained</sup>\n",
    "</center>\n",
    "\n",
    "This is ideal! The uniform portion of this distribtion is actually exactly the null *p*-values, and everything other than that is the alternative."
   ]
  },
  {
   "cell_type": "markdown",
   "id": "e3a06734",
   "metadata": {
    "slideshow": {
     "slide_type": "slide"
    }
   },
   "source": [
    "<center>\n",
    "\n",
    "<img src=\"images/enriched-pval-dist-color.png\" width=\"500px\">\n",
    "    \n",
    "</center>\n",
    "<center>\n",
    "    <sup>David Robinson - Variance Explained</sup>\n",
    "</center>\n",
    "\n",
    "Just visually examining this, you can see that there are plenty of null hypthesis with low *p*-values still (false positives) and some alternative hypotheses with high *p*-values (false negatives)."
   ]
  },
  {
   "cell_type": "markdown",
   "id": "036c28ba",
   "metadata": {
    "slideshow": {
     "slide_type": "slide"
    }
   },
   "source": [
    "There are of course other distbutions of p-values you might observe, but rather than showing you that there is or isn't enrichment for low *p*-values, these may indicate you're actually testing the wrong hypothesis:\n",
    "\n",
    "<center>\n",
    "\n",
    "<img src=\"images/other-pval-dist.png\" width=\"400px\">\n",
    "    \n",
    "</center>\n",
    "<center>\n",
    "<sup>David Robinson - Variance Explained</sup>\n",
    "</center>\n",
    "\n",
    "(Possible explanations: could be using a one-sided test when a two-sided test is appropriate, or the data may only allow for a certain subset of possible *p*-values).\n"
   ]
  },
  {
   "cell_type": "markdown",
   "id": "11118d7d",
   "metadata": {
    "slideshow": {
     "slide_type": "slide"
    }
   },
   "source": [
    "## The False Discovery Rate\n",
    "So we saw before visually that you can see the number of null hypotheses and alternative hypotheses at any given *p*-value. Could we use this property to directly control for the number of false positives?"
   ]
  },
  {
   "cell_type": "markdown",
   "id": "e5c0345a",
   "metadata": {
    "slideshow": {
     "slide_type": "fragment"
    }
   },
   "source": [
    "Recall our notation from before:\n",
    "\n",
    "|Test vs reality | Null hypothesis is true | ...is false | Total |\n",
    "| --- | --- | --- | --- |\n",
    "|Rejected | V | S | R |\n",
    "|Not rejected | U | T | m−R |\n",
    "|Total | m<sub>0</sub> | m−m<sub>0</sub> | m |"
   ]
  },
  {
   "cell_type": "markdown",
   "id": "e3bbfab0",
   "metadata": {
    "slideshow": {
     "slide_type": "fragment"
    }
   },
   "source": [
    "The false discovery rate (FDR) is defined as:\n",
    "\n",
    "$$\n",
    "\\text{FDR} = E\\left[\\frac{V}{R}\\right]\n",
    "$$\n"
   ]
  },
  {
   "cell_type": "markdown",
   "id": "b290b662",
   "metadata": {
    "slideshow": {
     "slide_type": "slide"
    }
   },
   "source": [
    "Lets imagine that one p-value distrubition turned out looking like this:\n",
    "\n",
    "<center>\n",
    "\n",
    "<img src=\"images/pval-dist-FDR.png\" width=\"600px\">\n",
    "\n",
    "</center>\n",
    "\n",
    "<center>\n",
    "<sup>MSMB</sup>\n",
    "</center>"
   ]
  },
  {
   "cell_type": "markdown",
   "id": "9ac185ca",
   "metadata": {
    "slideshow": {
     "slide_type": "slide"
    }
   },
   "source": [
    "If we say we want to reject all null hypotheses at *p* < 0.025 (those left of the vertical red line) we can imagine a horizontal line such that most of the null hyptheses we observe are below it.\n",
    "\n",
    "<center>\n",
    "    \n",
    "<img src=\"images/pval-dist-FDR-lines.png\" width=\"300px\">\n",
    "    \n",
    "</center>"
   ]
  },
  {
   "cell_type": "markdown",
   "id": "7ff71d36",
   "metadata": {
    "slideshow": {
     "slide_type": "fragment"
    }
   },
   "source": [
    "We can then compute the FDR as the number of *p*-values left of the red line and below the blue line over the number total left of the red line. This results in an FDR of about 0.2 at a *p* < 0.025. \n",
    "\n",
    "Another way to say that is that we can expect about 20% of our positives to be false positives if we set the *p*-value threshold at 0.025."
   ]
  },
  {
   "cell_type": "markdown",
   "id": "202844f4",
   "metadata": {
    "slideshow": {
     "slide_type": "slide"
    }
   },
   "source": [
    "## Controlling the False Discovery Rate\n",
    "So could we then fix the FDR instead of the *p*-value threshold? This can be directly done using the **Benjamini-Hochberg** algorithm. It simply does the following:\n",
    "1. Order the *p*-values in increasing order from $p_1$ to $p_m$\n",
    "2. For a target FDR $\\phi$, find the largest value k that satisifes $p_k <= \\phi \\frac{k}{m}$\n",
    "3. Reject hypotheses 1 to k\n",
    "\n",
    "It's that simple! This explicitly identifies a $p$-value theshold that controls the false disovery rate."
   ]
  },
  {
   "cell_type": "markdown",
   "id": "0ff8ff41",
   "metadata": {
    "slideshow": {
     "slide_type": "slide"
    }
   },
   "source": [
    "#### Example\n",
    "Consider the following set of p-values:"
   ]
  },
  {
   "cell_type": "code",
   "execution_count": 2,
   "id": "0aac6165",
   "metadata": {
    "slideshow": {
     "slide_type": "-"
    }
   },
   "outputs": [],
   "source": [
    "p_values = np.array([.4,.15,.5,.0005,.6,.001,.7,.005,.8, .01,.9,.05,1,.1, .2,.3])"
   ]
  },
  {
   "cell_type": "markdown",
   "id": "fe7b88c7",
   "metadata": {
    "slideshow": {
     "slide_type": "fragment"
    }
   },
   "source": [
    "Lets plot the *p*-value histogram:"
   ]
  },
  {
   "cell_type": "code",
   "execution_count": 3,
   "id": "f10be90c",
   "metadata": {
    "hide_input": true,
    "slideshow": {
     "slide_type": "-"
    },
    "tags": [
     "remove-input"
    ]
   },
   "outputs": [
    {
     "data": {
      "image/png": "[encoded data removed]",
      "text/plain": [
       "<Figure size 640x480 with 1 Axes>"
      ]
     },
     "metadata": {
      "image/png": {
       "height": 437,
       "width": 559
      }
     },
     "output_type": "display_data"
    }
   ],
   "source": [
    "plt.figure()\n",
    "plt.hist(p_values)\n",
    "plt.xlabel('p-value', size=14)\n",
    "plt.ylabel('count', size=14);"
   ]
  },
  {
   "cell_type": "markdown",
   "id": "81f8f92e",
   "metadata": {
    "slideshow": {
     "slide_type": "fragment"
    }
   },
   "source": [
    "Great, it looks like we have an enrichment for small p-values over a uniform distribution. "
   ]
  },
  {
   "cell_type": "markdown",
   "id": "107582c2",
   "metadata": {
    "slideshow": {
     "slide_type": "slide"
    }
   },
   "source": [
    "Let's run the Benjamini-Hochberg procedure with a target FDR of 0.1."
   ]
  },
  {
   "cell_type": "code",
   "execution_count": 4,
   "id": "7fc29322",
   "metadata": {
    "slideshow": {
     "slide_type": "fragment"
    }
   },
   "outputs": [
    {
     "name": "stdout",
     "output_type": "stream",
     "text": [
      "4 0.05\n"
     ]
    }
   ],
   "source": [
    "# Sort the p-values\n",
    "p_values = np.sort(p_values)\n",
    "\n",
    "# Check if values satisfy 0.1 * k / m\n",
    "k = 1\n",
    "while(p_values[k] < 0.1*k/len(p_values)):\n",
    "    k = k+1\n",
    "\n",
    "#reject 1 to k\n",
    "print(k, p_values[k])\n"
   ]
  },
  {
   "cell_type": "markdown",
   "id": "d25710d6",
   "metadata": {
    "slideshow": {
     "slide_type": "fragment"
    }
   },
   "source": [
    "So in this case, for a FDR threshold of 0.1 we reject all $p$-values at a threshold of 0.05. By design, we **expect** 10% of those hypotheses to be false positives."
   ]
  }
 ],
 "metadata": {
  "celltoolbar": "Slideshow",
  "kernelspec": {
   "display_name": "Python 3 (ipykernel)",
   "language": "python",
   "name": "python3"
  },
  "language_info": {
   "codemirror_mode": {
    "name": "ipython",
    "version": 3
   },
   "file_extension": ".py",
   "mimetype": "text/x-python",
   "name": "python",
   "nbconvert_exporter": "python",
   "pygments_lexer": "ipython3",
   "version": "3.11.8"
  },
  "rise": {
   "scroll": false,
   "theme": "serif",
   "transition": "fade"
  }
 },
 "nbformat": 4,
 "nbformat_minor": 5
}
