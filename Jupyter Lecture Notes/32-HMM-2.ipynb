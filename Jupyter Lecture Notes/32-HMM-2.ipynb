{
 "cells": [
  {
   "cell_type": "code",
   "execution_count": 1,
   "id": "d4c0cc67",
   "metadata": {
    "hide_input": true,
    "slideshow": {
     "slide_type": "skip"
    },
    "tags": [
     "remove-cell"
    ]
   },
   "outputs": [],
   "source": [
    "%matplotlib inline\n",
    "%config InlineBackend.figure_format='retina'\n",
    "import numpy as np\n",
    "import pandas as pd\n",
    "import matplotlib.pyplot as plt\n",
    "import seaborn as sns\n",
    "from IPython.display import Image, display_html, display, Math, HTML\n",
    "from scipy.stats import norm\n",
    "from scipy.stats import uniform\n",
    "from numpy.random import default_rng"
   ]
  },
  {
   "cell_type": "markdown",
   "id": "2f8d3b5e",
   "metadata": {
    "slideshow": {
     "slide_type": "slide"
    }
   },
   "source": [
    "# Hidden Markov Models (part 2)"
   ]
  },
  {
   "cell_type": "markdown",
   "id": "edac5c10",
   "metadata": {
    "slideshow": {
     "slide_type": "slide"
    }
   },
   "source": [
    "## Example: Baby-noise problem"
   ]
  },
  {
   "cell_type": "markdown",
   "id": "83ac49c5",
   "metadata": {
    "slideshow": {
     "slide_type": "slide"
    }
   },
   "source": [
    "Let us look at another example.\n",
    "\n",
    "Baby monitors allow new parents to combine caretaking of their baby with other activities, while the baby is napping. Many parents evaluate whether the baby is awake or asleep based on how much noise she makes over a certain period of time, say 2 minutes. For this exercise we assume three possible levels of noise:\n",
    "- 0 - quiet;\n",
    "- 1 - little noise;\n",
    "- 2 - much noise. \n",
    "\n",
    "The table below gives the probabilities of different noise levels for when the baby is awake and when she is asleep.\n",
    "\n",
    "| state\\noise level | 0 | 1 |2 |\n",
    "| ---| --- |  --- |  --- | \n",
    "|Awake  | 0.5  | 0.3 | 0.2  | \n",
    "|Asleep | 0.85 | 0.1 | 0.05 |\n",
    "\n",
    "Moreover, we assume that if the baby was asleep in the last 2 minutes, she will remain asleep with probability 80%. Whereas if she was awake in the last 2 minutes, she will remain awake with probability 60%. Finally, we assume that when the parents start monitoring the baby, the probability of her being asleep is 70%. Find the states of the baby in the last 6 minutes if first there was much noise, then little noise, and then it was quiet."
   ]
  },
  {
   "cell_type": "markdown",
   "id": "3fcec866",
   "metadata": {
    "slideshow": {
     "slide_type": "slide"
    }
   },
   "source": [
    "The corresponding state-transition diagram is given below.\n",
    "<center>\n",
    "\n",
    "<img src=\"images/HMM_baby_monitor.svg\" width=\"500px\">\n",
    "    \n",
    "</center>\n",
    "\n",
    "This model can be described by the following matrices:\n",
    "\n",
    "$$\\pi = \\begin{bmatrix} \n",
    "0.3 \\\\ 0.7\n",
    "\\end{bmatrix},\n",
    "A = \\begin{bmatrix} \n",
    "0.6 & 0.2\\\\\n",
    "0.4 & 0.8\n",
    "\\end{bmatrix}, \\text{ and }\n",
    "B = \\begin{bmatrix} \n",
    "0.5 & 0.85 \\\\\n",
    "0.3 & 0.1  \\\\\n",
    "0.2 & 0.05\n",
    "\\end{bmatrix}.$$\n",
    "\n",
    "The observed sequence is $O = (2,1,0).$ We are asked to find the corresponding hidden states $X = (x_0, x_1, x_2).$"
   ]
  },
  {
   "cell_type": "markdown",
   "id": "ffa4c479",
   "metadata": {
    "slideshow": {
     "slide_type": "slide"
    }
   },
   "source": [
    "### Initialization\n",
    "\n",
    "Recall that the joint probability of $O$ and $X$ of length 3 is given by \n",
    "\n",
    "$$P(O,X) = \\prod_{n=0}^{2} P(o_n | x_n) \\prod_{n=1}^{2} P(x_n | x_{n-1})P(x_0). $$\n",
    "\n",
    "It can be rewritten as \n",
    "\n",
    "$$P(O,X) = P(o_2 | x_2) P(o_1 | x_1) P(o_0 | x_0) P(x_2 | x_1) P(x_1 | x_0) P(x_0).$$\n",
    "\n",
    "In the initialization step of the Viterbi algorithm we compute the first column of $C$, which contains \n",
    "\n",
    "$$C_{i1} = P(o_0 | x_0 = q_i) P(x_0 = q_i).$$\n",
    "\n",
    "Note that $P(x_0 = q_i)$ is the last term and $P(o_0 | x_0 = q_i)$ is the third term from the left in the joint probability formula.\n"
   ]
  },
  {
   "cell_type": "markdown",
   "id": "99657fe3",
   "metadata": {
    "slideshow": {
     "slide_type": "slide"
    }
   },
   "source": [
    "For the hidden state _Awake_ ($Aw$) we find\n",
    "\n",
    "$$C_{11} = P(2|Aw)P(Aw) = B_{31}\\pi_1 = 0.2\\cdot0.3 = 0.06.$$\n",
    "\n",
    "For the hidden state _Asleep_ ($As$) we obtain\n",
    "\n",
    "$$C_{21} = P(2|As)P(As) = B_{32}\\pi_2 = 0.05\\cdot0.7 = 0.035.$$\n",
    "\n",
    "\n",
    "<center>\n",
    "\n",
    "<img src=\"images/Viterbi_diagram_initialization_baby_monitor.svg\" width=\"700px\">\n",
    "    \n",
    "</center>"
   ]
  },
  {
   "cell_type": "markdown",
   "id": "0e063266",
   "metadata": {
    "slideshow": {
     "slide_type": "slide"
    }
   },
   "source": [
    "Therefore, the first columns of $C$ and $D$ become\n",
    "\n",
    "$$C = \\begin{bmatrix}0.06 & \\ast & \\ast \\\\ 0.035 & \\ast & \\ast  \\end{bmatrix} \\text{ and } D = \\begin{bmatrix}0 & \\ast & \\ast  \\\\ 0 & \\ast & \\ast    \\end{bmatrix}.$$"
   ]
  },
  {
   "cell_type": "markdown",
   "id": "2db65b7a",
   "metadata": {
    "slideshow": {
     "slide_type": "slide"
    }
   },
   "source": [
    "### Forward pass\n",
    "\n",
    "The forward pass completes both auxiliary matrices. It populates the matrices in a step-wise manner. <br>\n",
    "First, we compute the probabilities that are required for the second observation in the sequence $O$. Namely, $o_1 = 1$, little noise.\n",
    "\n",
    "$$P(1|Aw)P(Aw|Aw) = B_{21}A_{11} = 0.3\\cdot0.6 = 0.18.$$\n",
    "$$P(1|As)P(As|Aw) = B_{22}A_{21} = 0.1\\cdot0.4 = 0.04.$$\n",
    "$$P(1|As)P(As|As) = B_{22}A_{22} = 0.1\\cdot0.8 = 0.08.$$\n",
    "$$P(1|Aw)P(Aw|As) = B_{21}A_{12} = 0.3\\cdot0.2 = 0.06.$$"
   ]
  },
  {
   "cell_type": "markdown",
   "id": "062e1570",
   "metadata": {
    "slideshow": {
     "slide_type": "slide"
    }
   },
   "source": [
    "<center>\n",
    "\n",
    "<img src=\"images/Viterbi_diagram_forward1a_baby_monitor.svg\" width=\"600px\">\n",
    "    \n",
    "</center>\n",
    "\n",
    "Then, we can find the entries in the second column of $C$ in a recursive manner (i.e., using the entries of its first column).\n",
    "\n",
    "$$C_{12} = \\max\\left(P(1|Aw)P(Aw|Aw)C_{11},  P(1|Aw)P(Aw|As)C_{21} \\right)$$\n",
    "$$ = \\max(0.18\\cdot 0.06, 0.06\\cdot 0.035) = \\max(0.0108, 0.0021) = 0.0108.$$\n",
    "\n",
    "Similarly, we obtain $C_{22}$:\n",
    "\n",
    "$$C_{22} = \\max(0.04\\cdot 0.06, 0.08\\cdot 0.035) = \\max(0.0024, 0.0028) = 0.0028.$$"
   ]
  },
  {
   "cell_type": "markdown",
   "id": "02b3e108",
   "metadata": {
    "slideshow": {
     "slide_type": "slide"
    }
   },
   "source": [
    "Note that $C_{i2}$ corresponds to the part of $P(O,X)$ that is shown in bold\n",
    "\n",
    "$$P(O,X) = P(o_2 | x_2) \\mathbf{P(o_1 | x_1) P(o_0 | x_0)} P(x_2 | x_1) \\mathbf{P(x_1 | x_0) P(x_0)}.$$\n",
    "\n",
    "Since the hidden state at time step 0 that maximizes $C_{12}$ is $q_1 = Aw$, $D_{12} = 1.$  \n",
    "Since the hidden state that leads to the maximum value of $C_{22}$ is $q_2 = As$, $D_{22} = 2.$  \n",
    "\n",
    "<center>\n",
    "\n",
    "<img src=\"images/Viterbi_diagram_forward1b_baby_monitor.svg\" width=\"600px\">\n",
    "    \n",
    "</center>"
   ]
  },
  {
   "cell_type": "markdown",
   "id": "5d356927",
   "metadata": {
    "slideshow": {
     "slide_type": "slide"
    }
   },
   "source": [
    "We repeat the calculations for the final observation in the sequence $O$, $o_2 = 0$.\n",
    "\n",
    "$$P(0|Aw)P(Aw|Aw) = B_{11}A_{11} = 0.5\\cdot0.6 = 0.3.$$\n",
    "$$P(0|As)P(As|Aw) = B_{12}A_{21} = 0.85\\cdot0.4 = 0.34.$$\n",
    "$$P(0|As)P(As|As) = B_{12}A_{22} = 0.85\\cdot0.8 = 0.68.$$\n",
    "$$P(0|Aw)P(Aw|As) = B_{11}A_{12} = 0.5\\cdot0.2 = 0.1.$$\n",
    "\n",
    "Next, we compute the last column of matrix $C$.\n",
    "\n",
    "$$C_{13} = \\max(0.3\\cdot0.0108,0.1\\cdot 0.0028) = 0.00324.$$\n",
    "$$C_{23} = \\max(0.34\\cdot0.0108,0.68\\cdot0.0028) = 0.003672.$$\n",
    "\n",
    "This time $C_{i3}$ represents the full expression for the joint probability, $P(O,X)$.\n",
    "\n",
    "The maximum values of $C_{13}$ and $C_{23}$ are both found using $x_1 = Aw$. Thus,\n",
    "\n",
    "$$D_{13} = D_{23} = 1.$$"
   ]
  },
  {
   "cell_type": "markdown",
   "id": "c13da5ef",
   "metadata": {
    "slideshow": {
     "slide_type": "slide"
    }
   },
   "source": [
    "<center>\n",
    "\n",
    "<img src=\"images/Viterbi_diagram_forward2_baby_monitor.svg\" width=\"700px\">\n",
    "    \n",
    "</center>\n",
    "\n",
    "From here follows that \n",
    "\n",
    "$$C = \\begin{bmatrix}\n",
    "0.06 & 0.0108 & 0.00324 \\\\\n",
    "0.035 & 0.0028 & 0.003672\n",
    "\\end{bmatrix} \\text{ and }\n",
    "D = \\begin{bmatrix}\n",
    "0 & 1 & 1 \\\\\n",
    "0 & 2 & 1\n",
    "\\end{bmatrix}.$$\n",
    "\n",
    "This completes the forward pass."
   ]
  },
  {
   "cell_type": "markdown",
   "id": "65a0d8e8",
   "metadata": {
    "slideshow": {
     "slide_type": "slide"
    }
   },
   "source": [
    "### Backward pass\n",
    "\n",
    "It remains to perform the backward pass. That is, we need to find the Viterbi path.\n",
    "\n",
    "From the last column of $C$ we know that $s = 2$, because the probability stored in the second row is higher than the probability stored in the first row of that column.\n",
    "\n",
    "This implies that the reverse search for the optimal path starts with entry (2,3) of matrix $D$. This entry is located in the second row of $D$ that corresponds with the state _Asleep_. Thus, we conclude that $x_2$ is equal to $As$. \n",
    "In addition, $D_{23} = 1$. The value 1 leads us to the first row in the second column, entry $D_{12}$. $D_{12}$ tells us that $x_1=Aw$ and leads us to entry $D_{11}$. Hence, $x_0 = Aw$. The complete path through matrix $D$ is shown below.\n",
    "\n",
    "$$D = \\begin{bmatrix}\n",
    "\\mathbf{0} & \\mathbf{1} & 1 \\\\\n",
    "0 & 2 & \\mathbf{1}\n",
    "\\end{bmatrix}.$$\n",
    "\n",
    "The answer to our decoding problem is $X = (Aw, Aw, As).$\n",
    "\n",
    "Note that this path can also be found by looking at the largest entries of each column of $C$.\n",
    "\n"
   ]
  }
 ],
 "metadata": {
  "celltoolbar": "Slideshow",
  "hide_input": false,
  "kernelspec": {
   "display_name": "Python 3 (ipykernel)",
   "language": "python",
   "name": "python3"
  },
  "language_info": {
   "codemirror_mode": {
    "name": "ipython",
    "version": 3
   },
   "file_extension": ".py",
   "mimetype": "text/x-python",
   "name": "python",
   "nbconvert_exporter": "python",
   "pygments_lexer": "ipython3",
   "version": "3.11.4"
  }
 },
 "nbformat": 4,
 "nbformat_minor": 5
}
