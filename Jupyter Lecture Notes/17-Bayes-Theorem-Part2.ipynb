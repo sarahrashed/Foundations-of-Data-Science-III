{
 "cells": [
  {
   "cell_type": "code",
   "execution_count": 1,
   "id": "d4c0cc67",
   "metadata": {
    "hide_input": true,
    "tags": [
     "remove-cell"
    ]
   },
   "outputs": [],
   "source": [
    "%matplotlib inline\n",
    "%config InlineBackend.figure_format='retina'\n",
    "import numpy as np\n",
    "import pandas as pd\n",
    "import matplotlib.pyplot as plt\n",
    "import seaborn as sns\n",
    "from IPython.display import Image, display_html, display, Math, HTML"
   ]
  },
  {
   "cell_type": "markdown",
   "id": "2f8d3b5e",
   "metadata": {
    "slideshow": {
     "slide_type": "slide"
    }
   },
   "source": [
    "# Bayes' Theorem (part 2)"
   ]
  },
  {
   "cell_type": "markdown",
   "id": "4010428c",
   "metadata": {
    "slideshow": {
     "slide_type": "skip"
    }
   },
   "source": [
    "```{margin}\n",
    "These sections draw on [Think Bayes](https://greenteapress.com/wp/think-bayes) by Allen B. Downey.\n",
    "```"
   ]
  },
  {
   "cell_type": "markdown",
   "id": "e267417b",
   "metadata": {
    "slideshow": {
     "slide_type": "slide"
    }
   },
   "source": [
    "## Review of Bayes' Theorem\n",
    "Last class we learned about the concept of using Bayes' theorem to perform a **Bayesian update**. We wrote out the diachronic version Bayes' Theorem:\n",
    "\n",
    "$$ P(H \\,\\vert\\, D)\\; =  \\frac{P(H)P(D\\,\\vert\\,H) \\; }{P(D)} $$\n",
    "\n",
    "In which we named the key components:\n",
    "- $P(H)$, the probability of the hypothesis before we see the data, called the **prior** probability\n",
    "- $P(H \\vert D)$, the probability of the hypothesis after we see the data, called the **posterior** probability\n",
    "- $P(D \\vert H)$, the probabilitiy of the data under the hypothesis, called the **likelihood**\n",
    "- $P(D)$, the **total probability of the data** under any hypothesis\n"
   ]
  },
  {
   "cell_type": "markdown",
   "id": "88100e0a",
   "metadata": {
    "slideshow": {
     "slide_type": "slide"
    }
   },
   "source": [
    "We then used a **Bayes table** to compute the posterior probabilities of all hyptheses in the cookie problem:"
   ]
  },
  {
   "cell_type": "code",
   "execution_count": 2,
   "id": "271e2b71",
   "metadata": {
    "slideshow": {
     "slide_type": "-"
    }
   },
   "outputs": [
    {
     "data": {
      "text/html": [
       "<div>\n",
       "<style scoped>\n",
       "    .dataframe tbody tr th:only-of-type {\n",
       "        vertical-align: middle;\n",
       "    }\n",
       "\n",
       "    .dataframe tbody tr th {\n",
       "        vertical-align: top;\n",
       "    }\n",
       "\n",
       "    .dataframe thead th {\n",
       "        text-align: right;\n",
       "    }\n",
       "</style>\n",
       "<table border=\"1\" class=\"dataframe\">\n",
       "  <thead>\n",
       "    <tr style=\"text-align: right;\">\n",
       "      <th></th>\n",
       "      <th>prior</th>\n",
       "      <th>likelihood</th>\n",
       "      <th>unnormalized</th>\n",
       "      <th>posterior</th>\n",
       "    </tr>\n",
       "  </thead>\n",
       "  <tbody>\n",
       "    <tr>\n",
       "      <th>first bowl</th>\n",
       "      <td>0.5</td>\n",
       "      <td>0.75</td>\n",
       "      <td>0.375</td>\n",
       "      <td>0.6</td>\n",
       "    </tr>\n",
       "    <tr>\n",
       "      <th>second bowl</th>\n",
       "      <td>0.5</td>\n",
       "      <td>0.50</td>\n",
       "      <td>0.250</td>\n",
       "      <td>0.4</td>\n",
       "    </tr>\n",
       "  </tbody>\n",
       "</table>\n",
       "</div>"
      ],
      "text/plain": [
       "             prior  likelihood  unnormalized  posterior\n",
       "first bowl     0.5        0.75         0.375        0.6\n",
       "second bowl    0.5        0.50         0.250        0.4"
      ]
     },
     "execution_count": 2,
     "metadata": {},
     "output_type": "execute_result"
    }
   ],
   "source": [
    "table = pd.DataFrame(index=['first bowl', 'second bowl'])\n",
    "table['prior'] = 1/2, 1/2 # The prior is that both bowls are equally likely\n",
    "table['likelihood'] = 30/40, 20/40 # The first bowl has 30 vanilla cookies and the second has 20\n",
    "table['unnormalized'] = table['prior'] * table['likelihood'] #compute the top of the Bayesian update\n",
    "prob_data = table['unnormalized'].sum() #Compute the \"normalizing constant\"\n",
    "table['posterior'] = table['unnormalized'] / prob_data #Calculate the posterier probabilities of both bowls\n",
    "table"
   ]
  },
  {
   "cell_type": "markdown",
   "id": "d8b4f8ba",
   "metadata": {
    "slideshow": {
     "slide_type": "slide"
    }
   },
   "source": [
    "## Example Problems\n",
    "Being able to apply a Bayesian update is incredibly important, so today we'll work through two more example problems as a class."
   ]
  },
  {
   "cell_type": "markdown",
   "id": "61b28a77",
   "metadata": {
    "slideshow": {
     "slide_type": "fragment"
    }
   },
   "source": [
    "### Example #1: The Dice Problem\n",
    "First, we'll try something a just a little bit harder than the cookie problem, an example with more than just two hyptheses.\n",
    "\n",
    ">Suppose we have a box with a 6-sided die, an 8-sided die, and a 12-sided die. We choose one of the dice at random, roll it, and report that the outcome is a 1. What is the probability that we chose the 6-sided die?\n",
    "    \n",
    "Let's start by thinking intiuitvely about this. Which dice should be most likely?"
   ]
  },
  {
   "cell_type": "markdown",
   "id": "d6060c8d",
   "metadata": {
    "slideshow": {
     "slide_type": "fragment"
    }
   },
   "source": [
    "*The 6 sided die is most likely because it has the highest chance of producing a 1 (1/6).*"
   ]
  },
  {
   "cell_type": "markdown",
   "id": "a85bdda1",
   "metadata": {
    "slideshow": {
     "slide_type": "slide"
    }
   },
   "source": [
    "Now let's set up our Bayes table. What are the hyptheses and what are their **prior probabilities**?"
   ]
  },
  {
   "cell_type": "code",
   "execution_count": 3,
   "id": "babd35d4",
   "metadata": {
    "slideshow": {
     "slide_type": "fragment"
    }
   },
   "outputs": [
    {
     "data": {
      "text/html": [
       "<div>\n",
       "<style scoped>\n",
       "    .dataframe tbody tr th:only-of-type {\n",
       "        vertical-align: middle;\n",
       "    }\n",
       "\n",
       "    .dataframe tbody tr th {\n",
       "        vertical-align: top;\n",
       "    }\n",
       "\n",
       "    .dataframe thead th {\n",
       "        text-align: right;\n",
       "    }\n",
       "</style>\n",
       "<table border=\"1\" class=\"dataframe\">\n",
       "  <thead>\n",
       "    <tr style=\"text-align: right;\">\n",
       "      <th></th>\n",
       "      <th>prior</th>\n",
       "    </tr>\n",
       "  </thead>\n",
       "  <tbody>\n",
       "    <tr>\n",
       "      <th>6-sided</th>\n",
       "      <td>0.333333</td>\n",
       "    </tr>\n",
       "    <tr>\n",
       "      <th>8-sided</th>\n",
       "      <td>0.333333</td>\n",
       "    </tr>\n",
       "    <tr>\n",
       "      <th>12-sided</th>\n",
       "      <td>0.333333</td>\n",
       "    </tr>\n",
       "  </tbody>\n",
       "</table>\n",
       "</div>"
      ],
      "text/plain": [
       "             prior\n",
       "6-sided   0.333333\n",
       "8-sided   0.333333\n",
       "12-sided  0.333333"
      ]
     },
     "execution_count": 3,
     "metadata": {},
     "output_type": "execute_result"
    }
   ],
   "source": [
    "table = pd.DataFrame(index=['6-sided', '8-sided', '12-sided'])\n",
    "table['prior'] = 1/3, 1/3, 1/3\n",
    "table"
   ]
  },
  {
   "cell_type": "markdown",
   "id": "dde58372",
   "metadata": {
    "slideshow": {
     "slide_type": "fragment"
    }
   },
   "source": [
    "Next we need to compute the **likelihood** of the data under each hypothesis.\n",
    "\n",
    "In other words, what is the probability of rolling a one, given each die?"
   ]
  },
  {
   "cell_type": "code",
   "execution_count": 4,
   "id": "cc5a65d1",
   "metadata": {
    "scrolled": true,
    "slideshow": {
     "slide_type": "fragment"
    }
   },
   "outputs": [
    {
     "data": {
      "text/html": [
       "<div>\n",
       "<style scoped>\n",
       "    .dataframe tbody tr th:only-of-type {\n",
       "        vertical-align: middle;\n",
       "    }\n",
       "\n",
       "    .dataframe tbody tr th {\n",
       "        vertical-align: top;\n",
       "    }\n",
       "\n",
       "    .dataframe thead th {\n",
       "        text-align: right;\n",
       "    }\n",
       "</style>\n",
       "<table border=\"1\" class=\"dataframe\">\n",
       "  <thead>\n",
       "    <tr style=\"text-align: right;\">\n",
       "      <th></th>\n",
       "      <th>prior</th>\n",
       "      <th>likelihood</th>\n",
       "    </tr>\n",
       "  </thead>\n",
       "  <tbody>\n",
       "    <tr>\n",
       "      <th>6-sided</th>\n",
       "      <td>0.333333</td>\n",
       "      <td>0.166667</td>\n",
       "    </tr>\n",
       "    <tr>\n",
       "      <th>8-sided</th>\n",
       "      <td>0.333333</td>\n",
       "      <td>0.125000</td>\n",
       "    </tr>\n",
       "    <tr>\n",
       "      <th>12-sided</th>\n",
       "      <td>0.333333</td>\n",
       "      <td>0.083333</td>\n",
       "    </tr>\n",
       "  </tbody>\n",
       "</table>\n",
       "</div>"
      ],
      "text/plain": [
       "             prior  likelihood\n",
       "6-sided   0.333333    0.166667\n",
       "8-sided   0.333333    0.125000\n",
       "12-sided  0.333333    0.083333"
      ]
     },
     "execution_count": 4,
     "metadata": {},
     "output_type": "execute_result"
    }
   ],
   "source": [
    "table['likelihood'] = 1/6, 1/8, 1/12\n",
    "table"
   ]
  },
  {
   "cell_type": "markdown",
   "id": "9997d67a",
   "metadata": {
    "slideshow": {
     "slide_type": "fragment"
    }
   },
   "source": [
    "Now that we have the prior and likelihood for each hypothesis, what do we calculate next?"
   ]
  },
  {
   "cell_type": "markdown",
   "id": "a745d196",
   "metadata": {
    "slideshow": {
     "slide_type": "slide"
    }
   },
   "source": [
    "The \"unnormalized posteriors\":"
   ]
  },
  {
   "cell_type": "code",
   "execution_count": 5,
   "id": "6361d480",
   "metadata": {
    "slideshow": {
     "slide_type": "fragment"
    }
   },
   "outputs": [
    {
     "data": {
      "text/html": [
       "<div>\n",
       "<style scoped>\n",
       "    .dataframe tbody tr th:only-of-type {\n",
       "        vertical-align: middle;\n",
       "    }\n",
       "\n",
       "    .dataframe tbody tr th {\n",
       "        vertical-align: top;\n",
       "    }\n",
       "\n",
       "    .dataframe thead th {\n",
       "        text-align: right;\n",
       "    }\n",
       "</style>\n",
       "<table border=\"1\" class=\"dataframe\">\n",
       "  <thead>\n",
       "    <tr style=\"text-align: right;\">\n",
       "      <th></th>\n",
       "      <th>prior</th>\n",
       "      <th>likelihood</th>\n",
       "      <th>unnormalized</th>\n",
       "    </tr>\n",
       "  </thead>\n",
       "  <tbody>\n",
       "    <tr>\n",
       "      <th>6-sided</th>\n",
       "      <td>0.333333</td>\n",
       "      <td>0.166667</td>\n",
       "      <td>0.055556</td>\n",
       "    </tr>\n",
       "    <tr>\n",
       "      <th>8-sided</th>\n",
       "      <td>0.333333</td>\n",
       "      <td>0.125000</td>\n",
       "      <td>0.041667</td>\n",
       "    </tr>\n",
       "    <tr>\n",
       "      <th>12-sided</th>\n",
       "      <td>0.333333</td>\n",
       "      <td>0.083333</td>\n",
       "      <td>0.027778</td>\n",
       "    </tr>\n",
       "  </tbody>\n",
       "</table>\n",
       "</div>"
      ],
      "text/plain": [
       "             prior  likelihood  unnormalized\n",
       "6-sided   0.333333    0.166667      0.055556\n",
       "8-sided   0.333333    0.125000      0.041667\n",
       "12-sided  0.333333    0.083333      0.027778"
      ]
     },
     "execution_count": 5,
     "metadata": {},
     "output_type": "execute_result"
    }
   ],
   "source": [
    "table['unnormalized'] = table['prior'] * table['likelihood']\n",
    "table"
   ]
  },
  {
   "cell_type": "markdown",
   "id": "426b6767",
   "metadata": {
    "slideshow": {
     "slide_type": "fragment"
    }
   },
   "source": [
    "And now there is just one last step to calculate the **posterior probabilities**. Normalization!"
   ]
  },
  {
   "cell_type": "code",
   "execution_count": 6,
   "id": "a22ebc65",
   "metadata": {
    "slideshow": {
     "slide_type": "fragment"
    }
   },
   "outputs": [
    {
     "data": {
      "text/html": [
       "<div>\n",
       "<style scoped>\n",
       "    .dataframe tbody tr th:only-of-type {\n",
       "        vertical-align: middle;\n",
       "    }\n",
       "\n",
       "    .dataframe tbody tr th {\n",
       "        vertical-align: top;\n",
       "    }\n",
       "\n",
       "    .dataframe thead th {\n",
       "        text-align: right;\n",
       "    }\n",
       "</style>\n",
       "<table border=\"1\" class=\"dataframe\">\n",
       "  <thead>\n",
       "    <tr style=\"text-align: right;\">\n",
       "      <th></th>\n",
       "      <th>prior</th>\n",
       "      <th>likelihood</th>\n",
       "      <th>unnormalized</th>\n",
       "      <th>posterior</th>\n",
       "    </tr>\n",
       "  </thead>\n",
       "  <tbody>\n",
       "    <tr>\n",
       "      <th>6-sided</th>\n",
       "      <td>0.333333</td>\n",
       "      <td>0.166667</td>\n",
       "      <td>0.055556</td>\n",
       "      <td>0.444444</td>\n",
       "    </tr>\n",
       "    <tr>\n",
       "      <th>8-sided</th>\n",
       "      <td>0.333333</td>\n",
       "      <td>0.125000</td>\n",
       "      <td>0.041667</td>\n",
       "      <td>0.333333</td>\n",
       "    </tr>\n",
       "    <tr>\n",
       "      <th>12-sided</th>\n",
       "      <td>0.333333</td>\n",
       "      <td>0.083333</td>\n",
       "      <td>0.027778</td>\n",
       "      <td>0.222222</td>\n",
       "    </tr>\n",
       "  </tbody>\n",
       "</table>\n",
       "</div>"
      ],
      "text/plain": [
       "             prior  likelihood  unnormalized  posterior\n",
       "6-sided   0.333333    0.166667      0.055556   0.444444\n",
       "8-sided   0.333333    0.125000      0.041667   0.333333\n",
       "12-sided  0.333333    0.083333      0.027778   0.222222"
      ]
     },
     "execution_count": 6,
     "metadata": {},
     "output_type": "execute_result"
    }
   ],
   "source": [
    "prob_data = table['unnormalized'].sum()\n",
    "table['posterior'] = table['unnormalized'] / prob_data\n",
    "table"
   ]
  },
  {
   "cell_type": "markdown",
   "id": "339722ad",
   "metadata": {
    "slideshow": {
     "slide_type": "fragment"
    }
   },
   "source": [
    "And there we have it! The  probability that we chose the 6-sided die given that we rolled a one is 4/9."
   ]
  },
  {
   "cell_type": "markdown",
   "id": "d234e76d",
   "metadata": {
    "slideshow": {
     "slide_type": "slide"
    }
   },
   "source": [
    "You may have noticed by now that every time we calculate the posterior from the prior and the likelihood we do the exact same steps to caculate the **Bayesian update**. We can simpliy things going forward by introducing an update function to calculate those parts of the table:"
   ]
  },
  {
   "cell_type": "code",
   "execution_count": 7,
   "id": "99f04154",
   "metadata": {
    "slideshow": {
     "slide_type": "fragment"
    }
   },
   "outputs": [
    {
     "data": {
      "text/html": [
       "<div>\n",
       "<style scoped>\n",
       "    .dataframe tbody tr th:only-of-type {\n",
       "        vertical-align: middle;\n",
       "    }\n",
       "\n",
       "    .dataframe tbody tr th {\n",
       "        vertical-align: top;\n",
       "    }\n",
       "\n",
       "    .dataframe thead th {\n",
       "        text-align: right;\n",
       "    }\n",
       "</style>\n",
       "<table border=\"1\" class=\"dataframe\">\n",
       "  <thead>\n",
       "    <tr style=\"text-align: right;\">\n",
       "      <th></th>\n",
       "      <th>prior</th>\n",
       "      <th>likelihood</th>\n",
       "      <th>unnormalized</th>\n",
       "      <th>posterior</th>\n",
       "    </tr>\n",
       "  </thead>\n",
       "  <tbody>\n",
       "    <tr>\n",
       "      <th>6-sided</th>\n",
       "      <td>0.333333</td>\n",
       "      <td>0.166667</td>\n",
       "      <td>0.055556</td>\n",
       "      <td>0.444444</td>\n",
       "    </tr>\n",
       "    <tr>\n",
       "      <th>8-sided</th>\n",
       "      <td>0.333333</td>\n",
       "      <td>0.125000</td>\n",
       "      <td>0.041667</td>\n",
       "      <td>0.333333</td>\n",
       "    </tr>\n",
       "    <tr>\n",
       "      <th>12-sided</th>\n",
       "      <td>0.333333</td>\n",
       "      <td>0.083333</td>\n",
       "      <td>0.027778</td>\n",
       "      <td>0.222222</td>\n",
       "    </tr>\n",
       "  </tbody>\n",
       "</table>\n",
       "</div>"
      ],
      "text/plain": [
       "             prior  likelihood  unnormalized  posterior\n",
       "6-sided   0.333333    0.166667      0.055556   0.444444\n",
       "8-sided   0.333333    0.125000      0.041667   0.333333\n",
       "12-sided  0.333333    0.083333      0.027778   0.222222"
      ]
     },
     "execution_count": 7,
     "metadata": {},
     "output_type": "execute_result"
    }
   ],
   "source": [
    "def update(table):\n",
    "    table['unnormalized'] = table['prior'] * table['likelihood']\n",
    "    prob_data = table['unnormalized'].sum()\n",
    "    table['posterior'] = table['unnormalized'] / prob_data\n",
    "    return table\n",
    "\n",
    "table = pd.DataFrame(index=['6-sided', '8-sided', '12-sided'])\n",
    "table['prior'] = 1/3, 1/3, 1/3\n",
    "table['likelihood'] = 1/6, 1/8, 1/12\n",
    "\n",
    "update(table)"
   ]
  },
  {
   "cell_type": "markdown",
   "id": "cb884f86",
   "metadata": {
    "slideshow": {
     "slide_type": "slide"
    }
   },
   "source": [
    "### Example #2: The Monty Hall Problem\n",
    "Now let's consider a famously unintuitive problem in probability, the Monty Hall Problem. Many of you may have heard of this one.\n",
    "\n",
    "<img src=\"images/Monty_open_door.svg\"/>\n",
    "\n",
    ">On his TV Show \"Let's Make a Deal\", Monty Hall would present contestants with three doors. Behind one was a prize, and behind the other two were gag gifts such as goats. The goal is to pick the door with the prize. After picking one of the three doors, Monty will open one of the other two doors revealing a gag prize, and then ask if you'd like to switch doors now.  \n",
    "\n",
    "What do you think, should we switch doors or stick with our original choice? Or does it make no difference?"
   ]
  },
  {
   "cell_type": "markdown",
   "id": "6c821f3d",
   "metadata": {
    "slideshow": {
     "slide_type": "fragment"
    }
   },
   "source": [
    "Most people will say there's now a 50/50 chance the remaining doors have the prize, so it doesn't matter. \n",
    "\n",
    "But it turns out thats wrong! You actually have a 2/3 chance of finding the prize if you switch doors. \n",
    "\n",
    "Let's see why using a Bayes table."
   ]
  },
  {
   "cell_type": "markdown",
   "id": "e2807f18",
   "metadata": {
    "slideshow": {
     "slide_type": "slide"
    }
   },
   "source": [
    "Each door starts with an equal **prior probability** of holding the prize:"
   ]
  },
  {
   "cell_type": "code",
   "execution_count": 11,
   "id": "7a84413f",
   "metadata": {
    "slideshow": {
     "slide_type": "fragment"
    }
   },
   "outputs": [
    {
     "data": {
      "text/html": [
       "<div>\n",
       "<style scoped>\n",
       "    .dataframe tbody tr th:only-of-type {\n",
       "        vertical-align: middle;\n",
       "    }\n",
       "\n",
       "    .dataframe tbody tr th {\n",
       "        vertical-align: top;\n",
       "    }\n",
       "\n",
       "    .dataframe thead th {\n",
       "        text-align: right;\n",
       "    }\n",
       "</style>\n",
       "<table border=\"1\" class=\"dataframe\">\n",
       "  <thead>\n",
       "    <tr style=\"text-align: right;\">\n",
       "      <th></th>\n",
       "      <th>prior</th>\n",
       "    </tr>\n",
       "  </thead>\n",
       "  <tbody>\n",
       "    <tr>\n",
       "      <th>Door 1</th>\n",
       "      <td>0.333333</td>\n",
       "    </tr>\n",
       "    <tr>\n",
       "      <th>Door 2</th>\n",
       "      <td>0.333333</td>\n",
       "    </tr>\n",
       "    <tr>\n",
       "      <th>Door 3</th>\n",
       "      <td>0.333333</td>\n",
       "    </tr>\n",
       "  </tbody>\n",
       "</table>\n",
       "</div>"
      ],
      "text/plain": [
       "           prior\n",
       "Door 1  0.333333\n",
       "Door 2  0.333333\n",
       "Door 3  0.333333"
      ]
     },
     "execution_count": 11,
     "metadata": {},
     "output_type": "execute_result"
    }
   ],
   "source": [
    "table = pd.DataFrame(index=['Door 1', 'Door 2', 'Door 3'])\n",
    "table['prior'] = 1/3, 1/3, 1/3\n",
    "table"
   ]
  },
  {
   "cell_type": "markdown",
   "id": "6ab54961",
   "metadata": {
    "slideshow": {
     "slide_type": "slide"
    }
   },
   "source": [
    "What is our data in this scenario? Without loss of generality, suppose we originally picked door 1. Now Monty opens a door (let's say door 3, again without loss of generality) to reveal a gag prize. So what is the **likelihood** of the data under each hypothesis? "
   ]
  },
  {
   "cell_type": "markdown",
   "id": "14f94416",
   "metadata": {
    "slideshow": {
     "slide_type": "fragment"
    }
   },
   "source": [
    "__Hypothesis 1:__ The prize is behind door 1\n",
    "\n",
    "In this case Monty chose door 2 or door 3 at random, so he was equally likely to open door 2 and 3, so the observation that he opened door 3 had a 50/50 chance of occuring."
   ]
  },
  {
   "cell_type": "markdown",
   "id": "a15eb5ff",
   "metadata": {
    "slideshow": {
     "slide_type": "fragment"
    }
   },
   "source": [
    "__Hypothesis 2:__ The prize is behind door 2\n",
    "\n",
    "In this case Monty **must** open door 3, so the observation that he opened door 3 was guaranteed to happen"
   ]
  },
  {
   "cell_type": "markdown",
   "id": "dc9790e0",
   "metadata": {
    "slideshow": {
     "slide_type": "fragment"
    }
   },
   "source": [
    "__Hypothesis 3:__ The prize is behind door 3\n",
    "\n",
    "Monty could not have opened a door with the prize behind it, so the probability of seeing him open door 3 under this hypothesis is 0"
   ]
  },
  {
   "cell_type": "code",
   "execution_count": 13,
   "id": "ac1a9e9d",
   "metadata": {
    "slideshow": {
     "slide_type": "fragment"
    }
   },
   "outputs": [
    {
     "data": {
      "text/html": [
       "<div>\n",
       "<style scoped>\n",
       "    .dataframe tbody tr th:only-of-type {\n",
       "        vertical-align: middle;\n",
       "    }\n",
       "\n",
       "    .dataframe tbody tr th {\n",
       "        vertical-align: top;\n",
       "    }\n",
       "\n",
       "    .dataframe thead th {\n",
       "        text-align: right;\n",
       "    }\n",
       "</style>\n",
       "<table border=\"1\" class=\"dataframe\">\n",
       "  <thead>\n",
       "    <tr style=\"text-align: right;\">\n",
       "      <th></th>\n",
       "      <th>prior</th>\n",
       "      <th>likelihood</th>\n",
       "    </tr>\n",
       "  </thead>\n",
       "  <tbody>\n",
       "    <tr>\n",
       "      <th>Door 1</th>\n",
       "      <td>0.333333</td>\n",
       "      <td>0.5</td>\n",
       "    </tr>\n",
       "    <tr>\n",
       "      <th>Door 2</th>\n",
       "      <td>0.333333</td>\n",
       "      <td>1.0</td>\n",
       "    </tr>\n",
       "    <tr>\n",
       "      <th>Door 3</th>\n",
       "      <td>0.333333</td>\n",
       "      <td>0.0</td>\n",
       "    </tr>\n",
       "  </tbody>\n",
       "</table>\n",
       "</div>"
      ],
      "text/plain": [
       "           prior  likelihood\n",
       "Door 1  0.333333         0.5\n",
       "Door 2  0.333333         1.0\n",
       "Door 3  0.333333         0.0"
      ]
     },
     "execution_count": 13,
     "metadata": {},
     "output_type": "execute_result"
    }
   ],
   "source": [
    "table['likelihood'] = 1/2, 1, 0\n",
    "table"
   ]
  },
  {
   "cell_type": "markdown",
   "id": "8b79bb54",
   "metadata": {
    "slideshow": {
     "slide_type": "slide"
    }
   },
   "source": [
    "And now let's run our update function and see what the posterior probabilities are:"
   ]
  },
  {
   "cell_type": "code",
   "execution_count": 14,
   "id": "990f6538",
   "metadata": {
    "slideshow": {
     "slide_type": "fragment"
    }
   },
   "outputs": [
    {
     "data": {
      "text/html": [
       "<div>\n",
       "<style scoped>\n",
       "    .dataframe tbody tr th:only-of-type {\n",
       "        vertical-align: middle;\n",
       "    }\n",
       "\n",
       "    .dataframe tbody tr th {\n",
       "        vertical-align: top;\n",
       "    }\n",
       "\n",
       "    .dataframe thead th {\n",
       "        text-align: right;\n",
       "    }\n",
       "</style>\n",
       "<table border=\"1\" class=\"dataframe\">\n",
       "  <thead>\n",
       "    <tr style=\"text-align: right;\">\n",
       "      <th></th>\n",
       "      <th>prior</th>\n",
       "      <th>likelihood</th>\n",
       "      <th>unnormalized</th>\n",
       "      <th>posterior</th>\n",
       "    </tr>\n",
       "  </thead>\n",
       "  <tbody>\n",
       "    <tr>\n",
       "      <th>Door 1</th>\n",
       "      <td>0.333333</td>\n",
       "      <td>0.5</td>\n",
       "      <td>0.166667</td>\n",
       "      <td>0.333333</td>\n",
       "    </tr>\n",
       "    <tr>\n",
       "      <th>Door 2</th>\n",
       "      <td>0.333333</td>\n",
       "      <td>1.0</td>\n",
       "      <td>0.333333</td>\n",
       "      <td>0.666667</td>\n",
       "    </tr>\n",
       "    <tr>\n",
       "      <th>Door 3</th>\n",
       "      <td>0.333333</td>\n",
       "      <td>0.0</td>\n",
       "      <td>0.000000</td>\n",
       "      <td>0.000000</td>\n",
       "    </tr>\n",
       "  </tbody>\n",
       "</table>\n",
       "</div>"
      ],
      "text/plain": [
       "           prior  likelihood  unnormalized  posterior\n",
       "Door 1  0.333333         0.5      0.166667   0.333333\n",
       "Door 2  0.333333         1.0      0.333333   0.666667\n",
       "Door 3  0.333333         0.0      0.000000   0.000000"
      ]
     },
     "execution_count": 14,
     "metadata": {},
     "output_type": "execute_result"
    }
   ],
   "source": [
    "update(table)"
   ]
  },
  {
   "cell_type": "markdown",
   "id": "cd7d0738",
   "metadata": {
    "slideshow": {
     "slide_type": "fragment"
    }
   },
   "source": [
    "Turns out there is a 2/3 probability the prize is behind door 2! We should switch doors."
   ]
  }
 ],
 "metadata": {
  "celltoolbar": "Slideshow",
  "kernelspec": {
   "display_name": "Python 3 (ipykernel)",
   "language": "python",
   "name": "python3"
  },
  "language_info": {
   "codemirror_mode": {
    "name": "ipython",
    "version": 3
   },
   "file_extension": ".py",
   "mimetype": "text/x-python",
   "name": "python",
   "nbconvert_exporter": "python",
   "pygments_lexer": "ipython3",
   "version": "3.9.12"
  },
  "rise": {
   "scroll": false,
   "theme": "serif",
   "transition": "fade"
  }
 },
 "nbformat": 4,
 "nbformat_minor": 5
}
