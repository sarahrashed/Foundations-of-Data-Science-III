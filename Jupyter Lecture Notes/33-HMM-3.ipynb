{
 "cells": [
  {
   "cell_type": "code",
   "execution_count": 1,
   "id": "d4c0cc67",
   "metadata": {
    "hide_input": true,
    "slideshow": {
     "slide_type": "skip"
    },
    "tags": [
     "remove-cell"
    ]
   },
   "outputs": [],
   "source": [
    "%matplotlib inline\n",
    "%config InlineBackend.figure_format='retina'\n",
    "import numpy as np\n",
    "import pandas as pd\n",
    "import matplotlib.pyplot as plt\n",
    "import seaborn as sns\n",
    "from IPython.display import Image, display_html, display, Math, HTML\n",
    "from scipy.stats import norm\n",
    "from scipy.stats import uniform\n",
    "from numpy.random import default_rng"
   ]
  },
  {
   "cell_type": "markdown",
   "id": "2f8d3b5e",
   "metadata": {
    "slideshow": {
     "slide_type": "slide"
    }
   },
   "source": [
    "# Hidden Markov Models for Parts-of-Speech Tagging"
   ]
  },
  {
   "cell_type": "markdown",
   "id": "1d5a5f74",
   "metadata": {
    "slideshow": {
     "slide_type": "slide"
    }
   },
   "source": [
    "In Natural Language Processing (NLP), associating each word in a piece of text with a proper part of speech (POS) is known as POS tagging or POS annotation. POS tags are also known as word classes, morphological classes, or lexical tags.\n",
    "\n",
    "<center>\n",
    "    \n",
    "<img src=\"images/POS_example.png\" width=\"500px\"/>  \n",
    "  \n",
    "</center>\n",
    "\n",
    "<!-- source: https://github.com/topics/pos-tagging?l=python&o=asc&s=forks -->"
   ]
  },
  {
   "cell_type": "markdown",
   "id": "5ac32f4b",
   "metadata": {
    "slideshow": {
     "slide_type": "fragment"
    }
   },
   "source": [
    "Ambiguous words make POS tagging a nontrivial task. In each of the following sentences the word _well_ belongs to a different part of speech.\n",
    "- He did not feel very _well_. (adjective)\n",
    "- She took it _well_, all things considered. (adverb)\n",
    "- _Well_, this homework took me forever to complete. (interjection)\n",
    "- The _well_ is dry. (noun)\n",
    "- Tears were beginning to _well_ in their eyes. (verb)"
   ]
  },
  {
   "cell_type": "markdown",
   "id": "a0eae466",
   "metadata": {
    "slideshow": {
     "slide_type": "slide"
    }
   },
   "source": [
    "Back in the days, the POS annotation was done manually. Assigning POS tags manually within modern multibillion-word corpora is unrealistic and automatic tagging is used instead. \n",
    "\n",
    "<center>\n",
    "    \n",
    "<img src=\"images/POS_1.png\" width=\"700px\"/>  \n",
    "  \n",
    "</center>\n",
    "\n",
    "<!-- source: https://web.stanford.edu/~jurafsky/slp3/old_oct19/8.pdf -->\n",
    "\n",
    "Nowadays, manual annotation is typically used on a small portion of a text to create training data. After that, different techniques, such as transformation based tagging, deep learing models, and probabilistic tagging, can be used to develop an automated POS tagger. \n"
   ]
  },
  {
   "cell_type": "markdown",
   "id": "f4f893d1",
   "metadata": {
    "slideshow": {
     "slide_type": "slide"
    }
   },
   "source": [
    "- Transformation based approaches combine handcrafted rules (e.g., if an unknown word ends with the suffix \"ing\" and is preceded by a verb, label it as a verb) and automatically induced rules that are generated during the training. \n",
    "- Deep learning tools, such as highly accurate Meta-BiLSTM, assign POS tags to words based on the discovered patterns during the training. \n",
    "- Probabilistic tagging consists of a wide range of models. For example, it includes simple models that find the most frequently assigned tag for a specific word in the annotated training data and use this information to tag that word in the unannotated text. Hidden Markov Models also belong to __probabilistic__ models for POS tagginng. "
   ]
  },
  {
   "cell_type": "markdown",
   "id": "45973102",
   "metadata": {
    "slideshow": {
     "slide_type": "slide"
    }
   },
   "source": [
    "## Hidden and observable states\n",
    "\n",
    "When we use HMMs for POS tagging, the __tags serve as the hidden states__ and the __words represent the observable states__. If we distinquish only between _nouns_ ($NN$), _verbs_<br>\n",
    "($VB$), and _other_ ($O$) tags, then $NN$, $VB$, and $O$ represent the hidden states. The observable states can be _going_, _to_, _walk_, etc.\n",
    "<center>\n",
    "    \n",
    "<img src=\"images/POS_diagram.svg\" width=\"500px\"/>  \n",
    "  \n",
    "</center>"
   ]
  },
  {
   "cell_type": "markdown",
   "id": "a97a3239",
   "metadata": {
    "slideshow": {
     "slide_type": "slide"
    }
   },
   "source": [
    "## Calculating probabilities \n",
    "\n",
    "How do we define the transition and emission probabilities for POS tagging? <br>\n",
    "We will introduce the computation of the probabilities based on the following toy corpus:\n",
    "\n",
    "<center>\n",
    "    \n",
    "<img src=\"images/toy_corpus_plain.svg\" width=\"400px\"/>  \n",
    "  \n",
    "</center>\n"
   ]
  },
  {
   "cell_type": "markdown",
   "id": "7b33bfca",
   "metadata": {
    "slideshow": {
     "slide_type": "fragment"
    }
   },
   "source": [
    "For simplicity we will distinquish only between _nouns_ ($NN$), _verbs_ ($VB$), and _other_ ($O$)  tags. "
   ]
  },
  {
   "cell_type": "markdown",
   "id": "ba73716e",
   "metadata": {
    "slideshow": {
     "slide_type": "slide"
    }
   },
   "source": [
    "### Transition probabilities\n",
    "\n",
    "We assign blue background color to verbs, pink to nouns, and green to other parts of speech:\n",
    "\n",
    "<center>\n",
    "    \n",
    "<img src=\"images/toy_corpus_color.svg\" width=\"300px\"/>  \n",
    "  \n",
    "</center>"
   ]
  },
  {
   "cell_type": "markdown",
   "id": "021a30ad",
   "metadata": {
    "slideshow": {
     "slide_type": "fragment"
    }
   },
   "source": [
    "The number of times that a green tag is followed by a blue tag is 2. At the same time, the number of all tag pairs starting with a green tag is 3. Therefore, the transition probability from a green tag to a blue one is $\\frac{2}{3}$.\n",
    "In other words, $P(VB|O) = \\frac{2}{3}$ for this example."
   ]
  },
  {
   "cell_type": "markdown",
   "id": "2e240dd1",
   "metadata": {
    "slideshow": {
     "slide_type": "slide"
    }
   },
   "source": [
    "More formally, the transition probabilities for an HMM are computed in two steps. <br>\n",
    "Step 1: Count the occurences of tag pairs\n",
    "\n",
    "$$L(t_{i-1}, t_i) \\quad \\forall i \\in \\{1,\\dots, N\\}.$$\n",
    "\n",
    "Here, $N$ is the total number of POS tags.<br>\n",
    "That is, for each pair of tags $(t_{i-1}, t_i)$, we count how many times tag $t_{i-1}$ is followed by tag $t_i$.<br>\n",
    "Step 2: Calculate the conditional probabilities using the obtained counts\n",
    "\n",
    "$$P(x_n = t_i|x_{n-1} = t_{i-1}) = \\frac{L(t_{i-1}, t_i)}{\\sum_{j=1}^{N} L\\left(t_{i-1}, t_j\\right)}.$$\n",
    "\n",
    "That it, we normalize the number of times that tag $t_{i-1}$ is followed by tag $t_i$ by the total number of tag pairs that start with tag $t_{i-1}$."
   ]
  },
  {
   "cell_type": "markdown",
   "id": "6969df46",
   "metadata": {
    "slideshow": {
     "slide_type": "fragment"
    }
   },
   "source": [
    "__Question.__ Compute $P(NN|O)$ for the toy corpus."
   ]
  },
  {
   "cell_type": "markdown",
   "id": "f0377aa7",
   "metadata": {
    "slideshow": {
     "slide_type": "fragment"
    }
   },
   "source": [
    "__Answer.__ $P(NN|O) = \\frac{1}{3}.$"
   ]
  },
  {
   "cell_type": "markdown",
   "id": "56559fa2",
   "metadata": {
    "slideshow": {
     "slide_type": "slide"
    }
   },
   "source": [
    "### Emission probabilities\n",
    "\n",
    "<center>\n",
    "    \n",
    "<img src=\"images/toy_corpus_color.svg\" width=\"300px\"/>  \n",
    "  \n",
    "</center>\n",
    "\n",
    "To compute the emission probabilities we need to count the co-occurrences of a part of speech tag with a specific word. For example, the word \"We\" occurs 2 times in our corpus, tagged with a green tag for $O$ for _other_ (i.e., not a verb nor a noun). In total, the green tag appears three times in this corpus. Thus, the probability that the hidden state $O$ emits the word \"We\", $P(We|O)$, is $\\frac{2}{3}$."
   ]
  },
  {
   "cell_type": "markdown",
   "id": "7be4f323",
   "metadata": {
    "slideshow": {
     "slide_type": "slide"
    }
   },
   "source": [
    "Similarly to the transition probabilities, the emission probabilities for an HMM are also computed in two steps.<br>\n",
    "Step 1:  Count the co-occurences of tags and words\n",
    "\n",
    "$$L(t_{i}, w_k) \\quad \\forall i \\in \\{1,\\dots, N\\} \\text{ and} \\: \\: \\forall k \\in \\{1,\\dots, K\\}.$$\n",
    "\n",
    "Here, $K$ is the total number of words. <br>\n",
    "That is, for each tag-word pair $(t_{i}, w_k)$, we count how many times the word $w_k$ is associated with the tag $t_i$. <br>\n",
    "Step 2:  Calculate the conditional probabilities using the obtained counts\n",
    "\n",
    "$$P(o_n = w_k|x_n = t_{i}) = \\frac{L(t_{i}, w_k)}{\\sum_{j=1}^{K} L\\left(t_{i}, w_j\\right)}.$$\n",
    "\n",
    "That is, to find the conditional probabilities we divide $L(t_{i}, w_k)$ by the total number of words associated with the same tag."
   ]
  },
  {
   "cell_type": "markdown",
   "id": "d04693ea",
   "metadata": {
    "slideshow": {
     "slide_type": "fragment"
    }
   },
   "source": [
    "__Question.__ Find $P(The|O)$ and $P(algorithm|NN)$ for the toy corpus."
   ]
  },
  {
   "cell_type": "markdown",
   "id": "d48a5d62",
   "metadata": {
    "slideshow": {
     "slide_type": "fragment"
    }
   },
   "source": [
    "__Answer.__ $P(The|O) = \\frac{1}{3}$ and $P(algorithm|NN) = 1.$"
   ]
  },
  {
   "cell_type": "markdown",
   "id": "cd1066e7",
   "metadata": {
    "slideshow": {
     "slide_type": "slide"
    }
   },
   "source": [
    "## POS tagging with Viterbi algorithm\n",
    "\n",
    "Let us illustrate the full process of POS tagging with HMMs on the next example.\n",
    "\n",
    "### Corpus\n",
    "We will use the set of sentences below to define the model.\n",
    "\n",
    "- _Mary Jane can see Will._\n",
    "- _Today Spot will see Mary._\n",
    "- _Will Jane spot Mary?_\n",
    "- _Mary will pat Spot._\n",
    "\n",
    "### Observed sequence\n",
    "Our goal is to annotate the following sentence:\n",
    "\n",
    "_Will can spot Mary._\n",
    "\n",
    "### Hidden states\n",
    "For this example, we will distinquish between four hidden states: noun ($NN$), modal verb <br> \n",
    "($MD$), verb ($VB$), and other ($O$) POS tags."
   ]
  },
  {
   "cell_type": "markdown",
   "id": "b768169b",
   "metadata": {
    "slideshow": {
     "slide_type": "slide"
    }
   },
   "source": [
    "### Pre-processing\n",
    "Before we can construct the HMM, we need to identify the beginning of each sentence by adding the start of sentence tag ```<s>```. In addition, we replace capital letters by lower case letters. The punctuation stays intact. \n",
    "\n",
    "- ```<s>``` mary jane can see will.\n",
    "- ```<s>``` today spot will see mary.\n",
    "- ```<s>``` will jane spot mary?\n",
    "- ```<s>``` mary will pat spot.\n",
    "\n",
    "### Manual annotation\n",
    "Since the training set is relatively small, we can assign the tags manually, using color coding. Nouns are shown in red color, modal verbs in cyan, non-modal verbs in blue, and all other tags in green.\n",
    "\n",
    "- ```<s>``` <font color='red'>mary jane</font> <font color='cyan'>can</font> <font color='blue'>see</font> <font color='red'>will</font><font color='green'>.</font>\n",
    "- ```<s>``` <font color='green'>today</font> <font color='red'>spot</font> <font color='cyan'>will</font> <font color='blue'>see</font> <font color='red'>mary</font><font color='green'>.</font>\n",
    "- ```<s>``` <font color='cyan'>will</font> <font color='red'>jane</font> <font color='blue'>spot</font> <font color='red'>mary</font><font color='green'>?</font>\n",
    "- ```<s>``` <font color='red'>mary</font> <font color='cyan'>will</font> <font color='blue'>pat</font> <font color='red'>spot</font><font color='green'>.</font>"
   ]
  },
  {
   "cell_type": "markdown",
   "id": "467341ca",
   "metadata": {
    "slideshow": {
     "slide_type": "slide"
    }
   },
   "source": [
    "### Transition probabilities\n",
    "The below table shows the number of occurences of different tag pairs. It includes ```<s>``` tag that is needed to define the initial probabilities.\n",
    "\n",
    "| 2nd tag\\1st tag | ```<s>``` | $NN$ |$MD$ |$VB$ |$O$ |\n",
    "| ---| --- |  --- |  --- |  --- | --- | \n",
    "|$NN$ | 2 | 1 | 1 | 4 | 1 |\n",
    "|$MD$ | 1 | 3 | 0 | 0 | 0 |\n",
    "|$VB$ | 0 | 1 | 3 | 0 | 0 |\n",
    "|$O$  | 1 | 4 | 0 | 0 | 0 |\n",
    "|__Total__| __4__ | __9__ | __4__ | __4__ | __1__ |"
   ]
  },
  {
   "cell_type": "markdown",
   "id": "5f1f323b",
   "metadata": {
    "slideshow": {
     "slide_type": "fragment"
    }
   },
   "source": [
    "Dividing the number of occurences of each tag pair $(t_{i-1},t_i)$ by the total number of tag pairs that starts with tag $t_{i-1}$ yields the transition matrix and the initial probabilities.\n",
    "\n",
    "$$ A = \\begin{bmatrix}\n",
    "1/9 & 1/4 & 1 & 1\\\\\n",
    "1/3 & 0 & 0 & 0 \\\\\n",
    "1/9 & 3/4 & 0 & 0\\\\\n",
    "4/9 & 0 & 0 & 0\n",
    "\\end{bmatrix} \\: \\text{ and } \\:\n",
    "\\pi = \\begin{bmatrix}\n",
    "1/2 \\\\ 1/4 \\\\ 0 \\\\ 1/4\n",
    "\\end{bmatrix}.\n",
    "$$\n"
   ]
  },
  {
   "cell_type": "markdown",
   "id": "fdc0f385",
   "metadata": {
    "slideshow": {
     "slide_type": "slide"
    }
   },
   "source": [
    "### Emission probabilities\n",
    "\n",
    "The following table shows that in the considered corpus two words, _will_ and _spot_, are used as different parts of speech. \n",
    "\n",
    "| word\\tag | $NN$ |$MD$ |$VB$ |$O$ |\n",
    "| ---| --- |  --- |  --- |  --- | \n",
    "|mary | 4 | 0 | 0 | 0 | \n",
    "|jane | 2 | 0 | 0 | 0 |\n",
    "|will | 1 | 3 | 0 | 0 |\n",
    "|spot | 2 | 0 | 1 | 0 |\n",
    "|can  | 0 | 1 | 0 | 0 |\n",
    "|see  | 0 | 0 | 2 | 0 |\n",
    "|pat  | 0 | 0 | 1 | 0 |\n",
    "|today| 0 | 0 | 0 | 1 |\n",
    "|.    | 0 | 0 | 0 | 3 |\n",
    "|?    | 0 | 0 | 0 | 1 |\n",
    "|__Total__| __9__ | __4__ | __4__ | __5__ |\n"
   ]
  },
  {
   "cell_type": "markdown",
   "id": "7c5bd1f0",
   "metadata": {
    "slideshow": {
     "slide_type": "slide"
    }
   },
   "source": [
    "Dividing the number of co-occurences of a POS tag with a certain word by the total number of times the tag is used in the corpus provides us with the emission matrix.\n",
    "\n",
    "$$B = \\begin{bmatrix}\n",
    "4/9 & 0 & 0 & 0\\\\\n",
    "2/9 & 0 & 0 & 0\\\\\n",
    "1/9 & 3/4 & 0 & 0\\\\\n",
    "2/9 & 0 & 1/4 & 0\\\\\n",
    "0 & 1/4 & 0 & 0\\\\\n",
    "0 & 0 & 1/2 & 0\\\\\n",
    "0 & 0 & 1/4 & 0\\\\\n",
    "0 & 0 & 0 & 1/5\\\\\n",
    "0 & 0 & 0 & 3/5\\\\\n",
    "0 & 0 & 0 & 1/5\\\\\n",
    "\\end{bmatrix}.$$\n",
    "\n",
    "Together $A, B$ and $\\pi$ define the HMM."
   ]
  },
  {
   "cell_type": "markdown",
   "id": "1e27cb1e",
   "metadata": {
    "slideshow": {
     "slide_type": "slide"
    }
   },
   "source": [
    "### The Viterbi algorithm\n",
    "\n",
    "To assign POS tags to a sentence, we are going to use the Python implementation of the Viterbi algorithm that we introduced earlier."
   ]
  },
  {
   "cell_type": "code",
   "execution_count": 3,
   "id": "e8d2067f",
   "metadata": {
    "tags": [
     "remove-input"
    ]
   },
   "outputs": [],
   "source": [
    "def Viterbi(y, A, B, Pi):\n",
    "    N = A.shape[1] # cardinality of the state space\n",
    "    T = len(y) # length of the observed sequence\n",
    "    # Initialize C & D\n",
    "    C = np.empty((N, T), 'd') #'d' stands for type double\n",
    "    D = np.empty((N, T), 'B') #'B' stands for type unsigned integer \n",
    "\n",
    "    # Initialization stage\n",
    "    C[:, 0] = B[y[0], :] * Pi.T\n",
    "    D[:, 0] = 0\n",
    "\n",
    "    # Forward pass\n",
    "    for i in range(1, T):\n",
    "        C[:, i] = np.max(B[y[i], :, np.newaxis] * A * C[:, i - 1], 1)\n",
    "        D[:, i] = np.argmax(B[y[i], :, np.newaxis] * A * C[:, i - 1], 1)\n",
    "    D[:,1:] =  D[:,1:]+1 # hidden states indices start with 1\n",
    "\n",
    "    # Backward pass\n",
    "    x = np.empty(T, 'B')\n",
    "    x[-1] = np.argmax(C[:, T - 1])+1 # finds the value of s\n",
    "    for i in reversed(range(1, T)): \n",
    "        x[i - 1] = D[x[i]-1, i]\n",
    "\n",
    "    return x, C, D"
   ]
  },
  {
   "cell_type": "code",
   "execution_count": 7,
   "id": "1060e2f8",
   "metadata": {
    "slideshow": {
     "slide_type": "fragment"
    }
   },
   "outputs": [],
   "source": [
    "# HMM: transition matrix, emission matrix, and initial probabilities\n",
    "A = np.array([[1/9,1/4,1,1],[1/3,0,0,0],[1/9,3/4,0,0],[4/9,0,0,0]])\n",
    "B = np.array([[4/9,0,0,0],[2/9,0,0,0],[1/9,3/4,0,0],[2/9,0,1/4,0],\n",
    "              [0,1/4,0,0],[0,0,1/2,0],[0,0,1/4,0],[0,0,0,1/5],\n",
    "              [0,0,0,3/5],[0,0,0,1/5]])\n",
    "Pi = np.array([[1/2],[1/4],[0],[1/4]])\n",
    "\n",
    "# Observed sequence: \"Will can spot Mary.\"\n",
    "O = np.array([2,4,3,0,8])"
   ]
  },
  {
   "cell_type": "markdown",
   "id": "778632ce",
   "metadata": {
    "slideshow": {
     "slide_type": "fragment"
    }
   },
   "source": [
    "Note: The observed sequence is encoded in the same way as the emission matrix. For example, _mary_ corresponds with index 0, _jane_ with 1, etc."
   ]
  },
  {
   "cell_type": "code",
   "execution_count": 5,
   "id": "1522e110",
   "metadata": {
    "slideshow": {
     "slide_type": "slide"
    }
   },
   "outputs": [
    {
     "name": "stdout",
     "output_type": "stream",
     "text": [
      "Matrix C: \n",
      " [[5.55555556e-02 0.00000000e+00 2.57201646e-04 3.85802469e-04\n",
      "  0.00000000e+00]\n",
      " [1.87500000e-01 4.62962963e-03 0.00000000e+00 0.00000000e+00\n",
      "  0.00000000e+00]\n",
      " [0.00000000e+00 0.00000000e+00 8.68055556e-04 0.00000000e+00\n",
      "  0.00000000e+00]\n",
      " [0.00000000e+00 0.00000000e+00 0.00000000e+00 0.00000000e+00\n",
      "  1.02880658e-04]]\n",
      "Matrix D: \n",
      " [[0 1 2 3 1]\n",
      " [0 1 1 1 1]\n",
      " [0 1 2 1 1]\n",
      " [0 1 1 1 1]]\n",
      "Answer: \n",
      " [1 2 3 1 4]\n"
     ]
    }
   ],
   "source": [
    "# Result\n",
    "X, C, D = Viterbi(O,A,B,Pi)\n",
    "print(\"Matrix C: \\n\", C)\n",
    "print(\"Matrix D: \\n\", D)\n",
    "print(\"Answer: \\n\", X)"
   ]
  },
  {
   "cell_type": "markdown",
   "id": "038394d5",
   "metadata": {
    "slideshow": {
     "slide_type": "slide"
    }
   },
   "source": [
    "From the computation of the transition matrix, we know that\n",
    "- 1 represents a noun,\n",
    "- 2 represents a modal verb,\n",
    "- 3 represents a non-modal verb,\n",
    "- 4 represents other POS tags.\n",
    "\n",
    "This implies that the answer that we obtained, $\\begin{bmatrix} 1 & 2 & 3 & 1 & 4 \\end{bmatrix}$, corresponds with the following sequesnce of POS tags:<br>\n",
    "noun, modal verb, non-modal verb, noun, and other tag. <br>\n",
    "The model assigned all the POS tags correctly, because the observed sequence was _Will can spot Mary._ "
   ]
  },
  {
   "cell_type": "markdown",
   "id": "25c458f1",
   "metadata": {
    "slideshow": {
     "slide_type": "slide"
    }
   },
   "source": [
    "What if we change the observed sequence? For example, we can replace it by <br>\n",
    "\n",
    "_Today Jane can see Spot._"
   ]
  },
  {
   "cell_type": "code",
   "execution_count": 9,
   "id": "bcda24e0",
   "metadata": {
    "slideshow": {
     "slide_type": "fragment"
    }
   },
   "outputs": [
    {
     "name": "stdout",
     "output_type": "stream",
     "text": [
      "Answer: \n",
      " [4 1 2 3 1 4]\n"
     ]
    }
   ],
   "source": [
    "# Observed sequence: \"Today Jane can see Spot.\"\n",
    "O = np.array([7,1,4,5,3,8])\n",
    "\n",
    "# Result\n",
    "X, C, D = Viterbi(O,A,B,Pi)\n",
    "print(\"Answer: \\n\", X)"
   ]
  },
  {
   "cell_type": "markdown",
   "id": "89e61d26",
   "metadata": {
    "slideshow": {
     "slide_type": "fragment"
    }
   },
   "source": [
    "These tags are correct as well.\n",
    "\n",
    "In general, HMM is a powerfull tool for POS tagging. However, it should be used with caution."
   ]
  },
  {
   "cell_type": "markdown",
   "id": "52359c9b",
   "metadata": {
    "slideshow": {
     "slide_type": "slide"
    }
   },
   "source": [
    "## Smoothing\n",
    "\n",
    "Consider one of the poems that was written by Ezra Pound:\n",
    "\n",
    "_In a Station of the Metro_<br>\n",
    "_The apparition of these faces in the crowd:_<br>\n",
    "_Petals on a wet, black bough._<br>"
   ]
  },
  {
   "cell_type": "markdown",
   "id": "cc2f2ff0",
   "metadata": {
    "slideshow": {
     "slide_type": "fragment"
    }
   },
   "source": [
    "Assume that the hiddent states are comprised of nouns, verbs, and other tags, then the tag-pair counts can be found in the below table.\n",
    "\n",
    "| 2nd tag\\1st tag | ```<s>``` | $NN$ |$VB$ |$O$ |\n",
    "| ---| --- |  --- |  --- |  --- |\n",
    "|$NN$ | 1 | 0 | 0 | 6 |\n",
    "|$VB$ | 0 | 0 | 0 | 0 |\n",
    "|$O$  | 2 | 6 | 0 | 8 |\n",
    "|__Total__| __3__ | __6__ | __0__ | __14__ |\n",
    "\n",
    "The poem is verbless. For this reason, the total number of tag pairs that start with a verb is zero. Can we still compute the transition matrix?"
   ]
  },
  {
   "cell_type": "markdown",
   "id": "e2c34f9f",
   "metadata": {
    "slideshow": {
     "slide_type": "slide"
    }
   },
   "source": [
    "__Smoothing__ is a technique that can be used to avoid division by zero during the computation of the probabilities for an HMM. It can be achieved by adding a small number $\\varepsilon$, say 0.001, to the numerator and a multiple of that number for the denominator. \n",
    "More precisely, the smoothing of the transition probabilities can be achieved using the following formula\n",
    "\n",
    "$$P(x_n=t_i|x_{n-1}=t_{i-1}) = \\frac{L(t_{i-1}, t_i)+\\varepsilon}{\\sum_{j=1}^{N} L\\left(t_{i-1}, t_j\\right)+N\\varepsilon}.$$\n",
    "\n",
    "For emission probabilities, the formula with smoothing is given by\n",
    "\n",
    "$$P(o_n=w_i|x_n=t_{i}) = \\frac{L(t_{i}, w_k)+\\varepsilon}{\\sum_{j=1}^{K} L\\left(t_{i}, w_j\\right)+K\\varepsilon}.$$\n"
   ]
  },
  {
   "cell_type": "markdown",
   "id": "1c24c79d",
   "metadata": {
    "slideshow": {
     "slide_type": "fragment"
    }
   },
   "source": [
    "Adding $N\\varepsilon$ to the divisor allows the transition matrix to remain column stochastic. Similarly, the formula with smoothing for emission probabilities allows the emission matrix to stay column stochastic."
   ]
  },
  {
   "cell_type": "markdown",
   "id": "8056d47f",
   "metadata": {
    "slideshow": {
     "slide_type": "slide"
    }
   },
   "source": [
    "After smoothing the transition matrix for Pound's poem is equal to\n",
    "\n",
    "$$A = \\begin{bmatrix}\n",
    "\\frac{\\varepsilon}{6+3\\varepsilon} & \\frac{1}{3} & \\frac{6+\\varepsilon}{14+3\\varepsilon}\\\\[2pt]\n",
    "\\frac{\\varepsilon}{6+3\\varepsilon} & \\frac{1}{3} & \\frac{\\varepsilon}{14+3\\varepsilon}\\\\[2pt]\n",
    "\\frac{6+\\varepsilon}{6+3\\varepsilon} & \\frac{1}{3} & \\frac{8+\\varepsilon}{14+3\\varepsilon}\n",
    "\\end{bmatrix},$$\n",
    "\n",
    "where $\\varepsilon$ can be any small number.\n",
    "\n",
    "As can be seen from the above matrix, smoothing also reduces the sparsity of the matrix. This is another great feature of smoothing, because sparse matrices impair the performance of HMMs. \n",
    "\n",
    "For example, without smoothing the transition probability from a noun to verb would be zero. Zero-probabilities would prevent the Viterbi algorithm from finding the most likely sequence of POS tags, if the observed sequence would contain verbs."
   ]
  },
  {
   "cell_type": "markdown",
   "id": "74ba21ee",
   "metadata": {
    "slideshow": {
     "slide_type": "slide"
    }
   },
   "source": [
    "## Summary\n",
    "\n",
    "1. HMMs belong to probabilistic models for POS tagging. When HMMs are used to assign tags to words, tags serve as hidden states and words as observable states.\n",
    "\n",
    "2. To compute the transition probability from tag $t_{i-1}$ to tag $t_i$, we count the occurences of the tag pair and divide that obtained number by the total number of tag pairs that start with $t_{i-1}.$\n",
    "\n",
    "3. To compute the emission probability from tag $t_i$ to word $w_k$, we count the co-occurences of $t_i$ and $w_k$ and divide the obtained number by the total number of words with tag $t_i$.\n",
    "\n",
    "4. Smoothing can be used to improve the performance of HMMs, when many transition or emission probabilities are equal to zero.\n"
   ]
  }
 ],
 "metadata": {
  "celltoolbar": "Slideshow",
  "hide_input": false,
  "kernelspec": {
   "display_name": "Python 3 (ipykernel)",
   "language": "python",
   "name": "python3"
  },
  "language_info": {
   "codemirror_mode": {
    "name": "ipython",
    "version": 3
   },
   "file_extension": ".py",
   "mimetype": "text/x-python",
   "name": "python",
   "nbconvert_exporter": "python",
   "pygments_lexer": "ipython3",
   "version": "3.11.4"
  }
 },
 "nbformat": 4,
 "nbformat_minor": 5
}
