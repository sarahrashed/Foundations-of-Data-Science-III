{
 "cells": [
  {
   "cell_type": "code",
   "execution_count": null,
   "id": "d4c0cc67",
   "metadata": {
    "hide_input": true,
    "tags": [
     "remove-cell"
    ]
   },
   "outputs": [],
   "source": [
    "%matplotlib inline\n",
    "%config InlineBackend.figure_format='retina'\n",
    "import numpy as np\n",
    "import pandas as pd\n",
    "import matplotlib.pyplot as plt\n",
    "import seaborn as sns\n",
    "from IPython.display import Image, display_html, display, Math, HTML"
   ]
  },
  {
   "cell_type": "markdown",
   "id": "2f8d3b5e",
   "metadata": {
    "slideshow": {
     "slide_type": "slide"
    }
   },
   "source": [
    "# Multiple Hypothesis Testing"
   ]
  },
  {
   "cell_type": "markdown",
   "id": "449a996a",
   "metadata": {
    "slideshow": {
     "slide_type": "fragment"
    }
   },
   "source": [
    "## Review of Hypthesis Testing\n",
    "Recall that we originally discussed two framewoarks for hypthesis testing:\n",
    "\n",
    "**Fisher's *p*-value:** The *p*-value is the probability of obtaining test results at least as extreme as the result actually observed, under the assumption that the null hypothesis is correct.\n",
    "\n",
    "**The Neyman-Pearson Approach:** We want to control the false positive rate $\\alpha$ to avoid making incorrect \"discoveries.\" The key concepts in this approach are:\n",
    " - **False Positives** (Type I Error) which are a mistaken rejection of the null hypothesis.\n",
    " - **False Negatives** (Type II Error) where we err by concluding that there is no difference when in fact there is a difference\n",
    "\n",
    "In this lecture we'll look at how these approaches can be missued and used in the real world. "
   ]
  },
  {
   "cell_type": "markdown",
   "id": "e998854a",
   "metadata": {
    "slideshow": {
     "slide_type": "slide"
    }
   },
   "source": [
    "## *p*-hacking\n",
    "One fundemental way *p*-values can be misued is that we interpret them as evaluations of independent hypotheses. However, what if we started violating that assumption."
   ]
  },
  {
   "cell_type": "markdown",
   "id": "f220a16a",
   "metadata": {
    "slideshow": {
     "slide_type": "fragment"
    }
   },
   "source": [
    "Imagine you were flipping a coin to determine if it's fair and you couldn't reject the null hypotehsis given your series of coin flips. But what if you were determined to show the coin is not fair? You might decide to look for other ways to show the coin isn't fair. "
   ]
  },
  {
   "cell_type": "markdown",
   "id": "63fccc47",
   "metadata": {
    "slideshow": {
     "slide_type": "fragment"
    }
   },
   "source": [
    "Consider the folowing series of coin flips:\n",
    "T T H T T H T T H H H T T H H H H\n",
    "\n",
    "It came up close 50/50 heads and tails, so it looks lke a pretty fair coin."
   ]
  },
  {
   "cell_type": "markdown",
   "id": "1eaa8608",
   "metadata": {
    "slideshow": {
     "slide_type": "slide"
    }
   },
   "source": [
    "**Idea one**\n",
    "\n",
    "Maybe early in your flipping there had been an imbalance in the number of heads, and you chose where in the flips to stop counting to get a significant *p*-value. Looking at our coin flips above, maybe we decide we really only got the hang of flipping a coin after 8 warm-up flips.\n",
    "\n",
    "Now our data looks like: H H H T T H H H H\n",
    "\n",
    "That looks like an unfair coin!"
   ]
  },
  {
   "cell_type": "markdown",
   "id": "33ced3e4",
   "metadata": {
    "slideshow": {
     "slide_type": "slide"
    }
   },
   "source": [
    "**Idea two**\n",
    "\n",
    "Maybe you change the criteria for what a fair coin looks like. Instead of having an equal number of heads or tails, it's now determined by how many consecutive streaks of heads or tails there were. After all, a fair coin shouldn't be streaky should it? Let's say streaks of length 3 or longer are unusual.\n",
    "\n",
    "Now our data looks like: Heads 2, Tails 0. \n",
    "\n",
    "Pretty small sample size, but looks like it might not be a fair coin!"
   ]
  },
  {
   "cell_type": "markdown",
   "id": "cbb0ffdc",
   "metadata": {
    "slideshow": {
     "slide_type": "slide"
    }
   },
   "source": [
    "**Idea three**\n",
    "\n",
    "Do coin flips really follow a Binomial distribution? What if after you ran a that statistical test and couldn't reject the null hypthesis. So instead you chose something with a very narrow variance such that one more head than tails in a series of coin flips did turn out significant? This can be done for example by using a z-test instead of a t-test on a distribution with few samples."
   ]
  },
  {
   "cell_type": "markdown",
   "id": "0a11f9f2",
   "metadata": {
    "slideshow": {
     "slide_type": "slide"
    }
   },
   "source": [
    "There are many ways to *p*-hack. The main similarity is that we are no longer considering independent hypotheses! You might eventually slice and dice the data in a way that gives you a \"significant\" *p*-value, but that doesn't actually mean you can reject the null hypothesis anymore."
   ]
  },
  {
   "cell_type": "markdown",
   "id": "c556505b",
   "metadata": {
    "slideshow": {
     "slide_type": "fragment"
    }
   },
   "source": [
    "Similarly, you might decide now to switch to a different hypothesis. Maybe it's not that the coin isn't fair, but that it isn't fair when flipped on Tuesdays (assuming you had been flipping the coin for many days). Or Maybe it's only on Tuesdays when you wear red? These just aren't independent hypotheses anymore. They violate the fundemental principle of choosing the hypothesis and the test, and then collecting the data. "
   ]
  },
  {
   "cell_type": "markdown",
   "id": "c4064b35",
   "metadata": {
    "slideshow": {
     "slide_type": "slide"
    }
   },
   "source": [
    "## Multiple Hypothesis Testing\n",
    "You may encounter a slightly different scenario as well. It is very common in the real world to test many hypothesis at once. This leads to a second fundemtal problem:"
   ]
  },
  {
   "cell_type": "markdown",
   "id": "24555ef6",
   "metadata": {
    "slideshow": {
     "slide_type": "slide"
    }
   },
   "source": [
    "<center>\n",
    "\n",
    "<img src=\"images/significant.png\" width=\"400px\">\n",
    "    \n",
    "</center>\n",
    "\n",
    "<center>\n",
    "<sup>XKCD #882</sup>\n",
    "</center>"
   ]
  },
  {
   "cell_type": "markdown",
   "id": "acc3fe8d",
   "metadata": {
    "slideshow": {
     "slide_type": "slide"
    }
   },
   "source": [
    "So what went wrong there? What we are seeing is most likely a **false positive.** As we have discussed, the *p*-value tells you for a single experiment, what is the probability of seeing a value as extreme as the one you saw, given your assummptions. But that means (almost by definition) that if you do the same experiment enough times, one of those times you will have a signficant *p*-value"
   ]
  },
  {
   "cell_type": "markdown",
   "id": "0b80c0aa",
   "metadata": {
    "slideshow": {
     "slide_type": "slide"
    }
   },
   "source": [
    "A way to think about this is in terms of the number of hyptheses we have tested:\n",
    "\n",
    "|Test vs reality | Null hypothesis is true | ...is false | Total\n",
    "| --- | --- | --- | --- |\n",
    "|Rejected | V | S | R |\n",
    "|Not rejected | U | T | m−R |\n",
    "|Total | m<sub>0</sub> | m−m<sub>0</sub> | m |\n",
    "  \n",
    "m - total number of hypotheses  \n",
    "m<sub>0</sub> - number of null hypotheses  \n",
    "V - number of false positives (a measure of type I error)  \n",
    "T - number of false negatives (a measure of type II error)  \n",
    "S, U - number of true positives and true negatives  \n",
    "R - number of rejections  \n",
    "\n",
    "Can we do anything to directly control for false positives?"
   ]
  },
  {
   "cell_type": "markdown",
   "id": "817f5aca",
   "metadata": {
    "cell_style": "center",
    "slideshow": {
     "slide_type": "slide"
    }
   },
   "source": [
    "## The family-wise error rate (FWER)\n",
    "The family-wise error rate (FWER) is the probability that V>0, i.e., that we make one or more false positive errors. "
   ]
  },
  {
   "cell_type": "markdown",
   "id": "685941ec",
   "metadata": {
    "slideshow": {
     "slide_type": "fragment"
    }
   },
   "source": [
    "We can compute it as the complement of making no false positive errors at all:\n",
    "\n",
    "$$\n",
    "P(V>0)=1−P(\\text{no rejection of any of } m_0 \\text{ nulls})\n",
    "$$\n"
   ]
  },
  {
   "cell_type": "markdown",
   "id": "34f389a4",
   "metadata": {
    "slideshow": {
     "slide_type": "fragment"
    }
   },
   "source": [
    "Then for a fixed p-value threshold α:\n",
    "\n",
    "$$\n",
    "P(V>0)=1−P(\\text{no rejection of any of } m_0 \\text{ nulls}) = 1−(1−α)m_0 \n",
    "$$\n",
    "\n",
    "For any fixed α, this probability is appreciable as soon as $m_0$ is in the order of 1/α, and it tends towards 1 as $m_0$ becomes larger."
   ]
  },
  {
   "cell_type": "markdown",
   "id": "1704fe20",
   "metadata": {
    "slideshow": {
     "slide_type": "slide"
    }
   },
   "source": [
    "## Bonferroni correction\n",
    "So how can we choose a value of α if we want to control the FWER? "
   ]
  },
  {
   "cell_type": "markdown",
   "id": "1b82fcba",
   "metadata": {
    "slideshow": {
     "slide_type": "fragment"
    }
   },
   "source": [
    "The equation $P(V>0) = 1−(1−α)m_0$ suggests that it may be a good idea to set a threhold α based on $m_0$, the total number of null hypotheses. However, we don’t know $m_0$, but we know m, which is an upper limit for $m_0$."
   ]
  },
  {
   "cell_type": "markdown",
   "id": "da7e6188",
   "metadata": {
    "slideshow": {
     "slide_type": "fragment"
    }
   },
   "source": [
    "The Bonferroni correction is simply that if we want FWER control at level $α_\\text{FWER}$, we should choose the per hypothesis threshold $α=\\frac{α_\\text{FWER}}{m}$. "
   ]
  },
  {
   "cell_type": "markdown",
   "id": "5476a6b0",
   "metadata": {
    "slideshow": {
     "slide_type": "fragment"
    }
   },
   "source": [
    "Put another way, divide the *p*-value threshold you would normally use by the total number of hyptheses being tested to control the FWER.\n",
    "\n",
    "A major drawback of this method is that if $m_0$ is large, the rejection threshold is very small. However, this does set a pretty good upper bound on how strict your threshold α should be."
   ]
  },
  {
   "cell_type": "markdown",
   "id": "cc0b358e",
   "metadata": {
    "slideshow": {
     "slide_type": "slide"
    }
   },
   "source": [
    "#### Example\n",
    "Consider the example from the XKCD comic above. They ran 20 different experiments for different colors of jelly beans, and are looking for signficance at $p<0.05$. "
   ]
  },
  {
   "cell_type": "markdown",
   "id": "f345977c",
   "metadata": {
    "slideshow": {
     "slide_type": "fragment"
    }
   },
   "source": [
    "If we want to control the family-wise error rate at the same level, we simply divide 0.05 by 20! So our new standard for signficance should be $p<0.0025$."
   ]
  },
  {
   "cell_type": "markdown",
   "id": "aa174860",
   "metadata": {
    "slideshow": {
     "slide_type": "fragment"
    }
   },
   "source": [
    "Bonferroni correction is a good **conservative** method to control FWER when testing many hypotheses."
   ]
  }
 ],
 "metadata": {
  "celltoolbar": "Slideshow",
  "kernelspec": {
   "display_name": "Python 3 (ipykernel)",
   "language": "python",
   "name": "python3"
  },
  "language_info": {
   "codemirror_mode": {
    "name": "ipython",
    "version": 3
   },
   "file_extension": ".py",
   "mimetype": "text/x-python",
   "name": "python",
   "nbconvert_exporter": "python",
   "pygments_lexer": "ipython3",
   "version": "3.11.8"
  },
  "rise": {
   "scroll": false,
   "theme": "serif",
   "transition": "fade"
  }
 },
 "nbformat": 4,
 "nbformat_minor": 5
}
