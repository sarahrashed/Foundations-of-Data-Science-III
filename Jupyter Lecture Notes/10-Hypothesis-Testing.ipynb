{
 "cells": [
  {
   "cell_type": "code",
   "execution_count": 1,
   "id": "d4c0cc67",
   "metadata": {
    "hide_input": true,
    "tags": [
     "remove-cell"
    ]
   },
   "outputs": [],
   "source": [
    "%matplotlib inline\n",
    "%config InlineBackend.figure_format='retina'\n",
    "import numpy as np\n",
    "import pandas as pd\n",
    "import matplotlib.pyplot as plt\n",
    "import seaborn as sns\n",
    "from IPython.display import Image, display_html, display, Math, HTML\n",
    "from scipy.stats import norm\n",
    "from scipy.stats import uniform\n",
    "from numpy.random import default_rng"
   ]
  },
  {
   "cell_type": "markdown",
   "id": "2f8d3b5e",
   "metadata": {
    "hide_input": true,
    "slideshow": {
     "slide_type": "slide"
    }
   },
   "source": [
    "# Hypothesis Testing"
   ]
  },
  {
   "cell_type": "markdown",
   "id": "1f158d30",
   "metadata": {
    "slideshow": {
     "slide_type": "slide"
    }
   },
   "source": [
    "## Making a Decision, Soundly"
   ]
  },
  {
   "cell_type": "markdown",
   "id": "6d7cfbc2",
   "metadata": {
    "slideshow": {
     "slide_type": "fragment"
    }
   },
   "source": [
    "In the last lecture we developed tools that make use of a _sample_ to draw a conclusion.\n",
    "\n",
    "We were interested in how close a true (population) mean is to the mean you get from a sample."
   ]
  },
  {
   "cell_type": "markdown",
   "id": "f466ca3f",
   "metadata": {
    "slideshow": {
     "slide_type": "fragment"
    }
   },
   "source": [
    "Today we will move on to more involved decisions.\n",
    "\n",
    "Namely, we will study how to draw a conclusion -- to a yes/no question -- when the answer depends on sampled data.\n",
    "\n",
    "This problem goes by the name of _hypothesis testing._"
   ]
  },
  {
   "cell_type": "markdown",
   "id": "73419ae2",
   "metadata": {
    "slideshow": {
     "slide_type": "skip"
    }
   },
   "source": [
    "````{margin}\n",
    "```{note}\n",
    "This lecture draws heavily on _Understanding the New Statistics_ by Geoff Cumming, and _Statistics Done Wrong_ by Alex Reinhart.   Another good source is _Regression and Other Stories_ by Andrew Gelman, Jennifer Hill, and Aki Vehtari (Chapter 4).\n",
    "```\n",
    "````"
   ]
  },
  {
   "cell_type": "markdown",
   "id": "2c1a25cb",
   "metadata": {
    "slideshow": {
     "slide_type": "slide"
    }
   },
   "source": [
    "Hypothesis testing is focused on answering questions like:\n",
    "* Does one medicine work better than another?\n",
    "* Is one ad campaign more effective than another?\n",
    "* Does one machine learning algorithm work better than another?\n",
    "* Does one region experience higher temperatures than another?\n",
    "* Is one set of voters more likely to go to the polls than another?"
   ]
  },
  {
   "cell_type": "markdown",
   "id": "548c30c9",
   "metadata": {
    "slideshow": {
     "slide_type": "fragment"
    }
   },
   "source": [
    "This style of \"A vs B\" questions are so prevalent that most every branch of natural science or social science is driven by them."
   ]
  },
  {
   "cell_type": "markdown",
   "id": "ab0facfb",
   "metadata": {
    "slideshow": {
     "slide_type": "fragment"
    }
   },
   "source": [
    "The problem with approaching such questions is that invariably, we must use _sampled data_ to answer them.\n",
    "\n",
    "And sampled data means that our observations have an element of randomness."
   ]
  },
  {
   "cell_type": "markdown",
   "id": "19cbbb72",
   "metadata": {
    "slideshow": {
     "slide_type": "fragment"
    }
   },
   "source": [
    "So the problem of hypothesis testing centers on the question of __identifying statistically significant differences.__"
   ]
  },
  {
   "cell_type": "markdown",
   "id": "52e2c071",
   "metadata": {
    "slideshow": {
     "slide_type": "slide"
    }
   },
   "source": [
    "## Fisher's $p$-value"
   ]
  },
  {
   "cell_type": "markdown",
   "id": "cd21b967",
   "metadata": {
    "slideshow": {
     "slide_type": "fragment"
    }
   },
   "source": [
    "The first strategy for answering this question was developed by Ronald Fisher in the 1920s."
   ]
  },
  {
   "cell_type": "markdown",
   "id": "af32420c",
   "metadata": {
    "slideshow": {
     "slide_type": "skip"
    }
   },
   "source": [
    "```{margin} \n",
    "[Photo source.](https://twitter.com/citrusification/status/627827510416441344)\n",
    "```"
   ]
  },
  {
   "cell_type": "markdown",
   "id": "a8d14c7c",
   "metadata": {
    "cell_style": "split"
   },
   "source": [
    "<center>\n",
    "\n",
    "<img src=\"images/Fisher.jpg\" width=\"250px\">\n",
    "\n",
    "</center>\n",
    "<!--- Source: https://twitter.com/citrusification/status/627827510416441344 --->"
   ]
  },
  {
   "cell_type": "markdown",
   "id": "2b9a3845",
   "metadata": {
    "cell_style": "split"
   },
   "source": [
    "Fisher was a geneticist and evolutionary biologist who made major contributions to statistical theory."
   ]
  },
  {
   "cell_type": "markdown",
   "id": "d18b8798",
   "metadata": {
    "slideshow": {
     "slide_type": "slide"
    }
   },
   "source": [
    "Fisher approached the problem of hypothesis testing as follows.\n",
    "\n",
    "He cast the decision framework of a scientist as, essentially, deciding whether \"something surprising\" has occurred."
   ]
  },
  {
   "cell_type": "markdown",
   "id": "23d3eb03",
   "metadata": {
    "slideshow": {
     "slide_type": "fragment"
    }
   },
   "source": [
    "The question of what constitutes a \"surprise\" varies from one experiment to the next.\n",
    "\n",
    "For example, one may consider it surprising if two experiments have different outcomes, or if a particular event occurs \"unusually often.\""
   ]
  },
  {
   "cell_type": "markdown",
   "id": "1f22a81e",
   "metadata": {
    "slideshow": {
     "slide_type": "skip"
    }
   },
   "source": [
    "````{margin}\n",
    "```{note}\n",
    "This example draws on the Wikipedia article [Lady Tasting Tea.](https://en.wikipedia.org/wiki/Lady_tasting_tea)\n",
    "```\n",
    "````"
   ]
  },
  {
   "cell_type": "markdown",
   "id": "7ddd01f5",
   "metadata": {
    "slideshow": {
     "slide_type": "slide"
    }
   },
   "source": [
    "### The Lady Tasting Tea\n",
    "\n",
    "Here is a famous story (dating from the 1930s) that Fisher himself used to illustrate his approach to hypothesis testing.\n",
    "\n",
    "Fisher knew a woman (Muriel Bristol) who claimed that, when given a cup of hot tea and milk, she was able to \n",
    "tell whether the tea or the milk had been added first to the cup."
   ]
  },
  {
   "cell_type": "markdown",
   "id": "d6556e0f",
   "metadata": {
    "slideshow": {
     "slide_type": "skip"
    }
   },
   "source": [
    "```{margin} \n",
    "[Photo source.](https://www.amazon.com/DSFHKUYBChinese-Painted-Porcelain-Ceremony-Office/dp/B08XZG5R17/)\n",
    "```"
   ]
  },
  {
   "cell_type": "markdown",
   "id": "2304354a",
   "metadata": {},
   "source": [
    "<center>\n",
    "\n",
    "<img src=\"images/eight-cups-of-test.png\" width=\"250px\">\n",
    "\n",
    "</center>\n",
    "<!--- Source: https://www.amazon.com/DSFHKUYBChinese-Painted-Porcelain-Ceremony-Office/dp/B08XZG5R17/ --->"
   ]
  },
  {
   "cell_type": "markdown",
   "id": "26010c33",
   "metadata": {
    "slideshow": {
     "slide_type": "slide"
    }
   },
   "source": [
    "Fisher introduced the term __null hypothesis__ to describe the \"uninteresting\" situation, in which nothing surprising has happened.   In this case, the null hypothesis\n",
    "was that Ms. Bristol could not tell the difference between the two ways of pouring milk and tea."
   ]
  },
  {
   "cell_type": "markdown",
   "id": "ad33cf7c",
   "metadata": {
    "slideshow": {
     "slide_type": "fragment"
    }
   },
   "source": [
    "Thus, the abstract concept of \"making a discovery\" is operationalized as __rejecting the null hypothesis.__\n",
    "\n",
    "Fisher stated that the null hypothesis is \"never proved or established, but is possibly disproved, in the course of experimentation\"."
   ]
  },
  {
   "cell_type": "markdown",
   "id": "f9027c4a",
   "metadata": {
    "slideshow": {
     "slide_type": "slide"
    }
   },
   "source": [
    "### Rejecting the null hypothesis\n",
    "\n",
    "On what basis can we reject the null hypothesis?    Fisher proposed that we use a __test statistic__ whose distribution we can compute if the null hypothesis is true.  "
   ]
  },
  {
   "cell_type": "markdown",
   "id": "35658a09",
   "metadata": {
    "slideshow": {
     "slide_type": "fragment"
    }
   },
   "source": [
    "We then perform the experiment and get some observed value for the test statistic.   We can then ask whether a value of that magnitude, or greater, would have occurred under the null hypothesis."
   ]
  },
  {
   "cell_type": "markdown",
   "id": "2da7dbe2",
   "metadata": {
    "slideshow": {
     "slide_type": "fragment"
    }
   },
   "source": [
    "For this purpose Fisher introduced the __p-value.__"
   ]
  },
  {
   "cell_type": "markdown",
   "id": "f8b07b05",
   "metadata": {
    "slideshow": {
     "slide_type": "slide"
    }
   },
   "source": [
    "### The p-value\n",
    "\n",
    "__Definition.__  The __p-value__ is the probability of obtaining test results at least as extreme as the result actually observed, under the assumption that the null hypothesis is correct."
   ]
  },
  {
   "cell_type": "markdown",
   "id": "dabe0728",
   "metadata": {
    "slideshow": {
     "slide_type": "fragment"
    }
   },
   "source": [
    "More formally, consider an observed test statistic $t$ from an unknown distribution $T$.  Then the _p_-value $p$\n",
    "is what the prior probability would be of observing a test-statistic value at least as \"extreme\" as \n",
    "$t$ if null hypothesis $H_{0}$ were true."
   ]
  },
  {
   "cell_type": "markdown",
   "id": "6a4bf9bf",
   "metadata": {
    "slideshow": {
     "slide_type": "slide"
    }
   },
   "source": [
    "### Example: p-value for the lady and the tea\n",
    "\n",
    "Let's see how this works for the lady tasting tea. "
   ]
  },
  {
   "cell_type": "markdown",
   "id": "5ea7e210",
   "metadata": {
    "slideshow": {
     "slide_type": "fragment"
    }
   },
   "source": [
    "Fisher proposed to give Ms. Bristol eight cups, four of each variety (4 milk-poured-first, and 4 tea-poured-first).  The order of the cups was unknown to Ms. Bristol.\n",
    "\n",
    "<center>\n",
    "\n",
    "<img src=\"images/eight-cups-of-test.png\" width=\"250px\">\n",
    "\n",
    "</center>\n",
    "<!--- Source: https://www.amazon.com/DSFHKUYBChinese-Painted-Porcelain-Ceremony-Office/dp/B08XZG5R17/ --->"
   ]
  },
  {
   "cell_type": "markdown",
   "id": "e6f56311",
   "metadata": {
    "slideshow": {
     "slide_type": "fragment"
    }
   },
   "source": [
    "He informed her of the design of the experiment, so she knew that exactly four cups would be of each variety.\n",
    "\n",
    "Of course, since she knows there are four of each type, her task is to identify the four in which she thinks the milk was poured first.  "
   ]
  },
  {
   "cell_type": "markdown",
   "id": "7b14d174",
   "metadata": {
    "slideshow": {
     "slide_type": "slide"
    }
   },
   "source": [
    "Our test statistic is a natural one:  we will let $t$ equal the number of cups (out of four) correctly identified by Ms. Bristol.\n",
    "\n",
    "One could then ask what the probability would be for her getting the specific number of cups she identified correct, or more, just by chance.   This is the _p_-value for our experiment."
   ]
  },
  {
   "cell_type": "markdown",
   "id": "256e0d62",
   "metadata": {
    "slideshow": {
     "slide_type": "fragment"
    }
   },
   "source": [
    "There are 8 cups of tea, and she chooses four of them.  So there are \n",
    "\n",
    "$$ {\\displaystyle {\\binom {8}{4}}={\\frac {8!}{4!(8-4)!}}=70} $$\n",
    "\n",
    "possible choices she could make."
   ]
  },
  {
   "cell_type": "markdown",
   "id": "17a5930a",
   "metadata": {
    "slideshow": {
     "slide_type": "slide"
    }
   },
   "source": [
    "__If her choices were random,__ the number of successes among the four chosen is given by the hypergeometric distribution (which is the distribution that governs sampling without replacement).  So we can compute the probability of seeing $t = 0, 1, 2, 3,$ or 4 cups correct."
   ]
  },
  {
   "cell_type": "markdown",
   "id": "ddf8f2b2",
   "metadata": {
    "slideshow": {
     "slide_type": "fragment"
    }
   },
   "source": [
    "Specifically, for a random variable \n",
    "$X$ equal to the number of successes, we write \n",
    "\n",
    "$${\\displaystyle X\\sim \\operatorname {Hypergeometric} (N=8,K=4,n=4)},$$\n",
    "\n",
    "where $N$ is the population size or total number of cups of tea, $K$ is the number of success states in the population or four cups of either type, and  \n",
    "$n$ is the number of draws, or four cups. "
   ]
  },
  {
   "cell_type": "markdown",
   "id": "06125070",
   "metadata": {
    "slideshow": {
     "slide_type": "slide"
    }
   },
   "source": [
    "__What actually happened?__  Fisher actually \"ran\" this experiment.  And sure enough, Ms. Bristol identified all four cups correctly.  So the value of the test statistic is $t = 4$."
   ]
  },
  {
   "cell_type": "markdown",
   "id": "563db583",
   "metadata": {
    "slideshow": {
     "slide_type": "fragment"
    }
   },
   "source": [
    "And what is the _p_-value?   This is\n",
    "\n",
    "$$ p = P(X \\ge t) = P(X \\ge 4) = \\frac{1}{70} \\approx 1.4\\%  $$"
   ]
  },
  {
   "cell_type": "markdown",
   "id": "651c9746",
   "metadata": {
    "slideshow": {
     "slide_type": "fragment"
    }
   },
   "source": [
    "In other words, if the lady were in fact choosing at random, this outcome would happen only about 1.4% of the time, ie, one time in 70.\n",
    "\n",
    "Given this result, Fisher was willing to conclude that the lady's tea identification was not random, and therefore he was willing to __reject the null hypothesis.__"
   ]
  },
  {
   "cell_type": "markdown",
   "id": "00b1395a",
   "metadata": {
    "slideshow": {
     "slide_type": "slide"
    }
   },
   "source": [
    "__What if she had failed?__   What if the lady had chosen instead two cups of each kind of tea?\n",
    "\n",
    "In this case the _p_-value would have been $p \\approx 0.75$ or 75%."
   ]
  },
  {
   "cell_type": "markdown",
   "id": "b32df9f0",
   "metadata": {
    "slideshow": {
     "slide_type": "fragment"
    }
   },
   "source": [
    "Should we then conclude that the null hypothesis is __true__?"
   ]
  },
  {
   "cell_type": "markdown",
   "id": "5c5434a1",
   "metadata": {
    "slideshow": {
     "slide_type": "fragment"
    }
   },
   "source": [
    "Definitely __not.__  By choosing as she did, the lady would _not_ be providing any conclusive evidence that her choices were __random__.  \n",
    "\n",
    "As Fisher emphasized, we can never accept the null hypothesis -- we can only fail to reject it."
   ]
  },
  {
   "cell_type": "markdown",
   "id": "61f95116",
   "metadata": {
    "slideshow": {
     "slide_type": "slide"
    }
   },
   "source": [
    "## Drawing Positive Conclusions: Neyman-Pearson"
   ]
  },
  {
   "cell_type": "markdown",
   "id": "81cb5f8c",
   "metadata": {
    "slideshow": {
     "slide_type": "fragment"
    }
   },
   "source": [
    "Fisher's notion of _p_-value put the abstract idea of a \"discovery\" onto a mathematical footing."
   ]
  },
  {
   "cell_type": "markdown",
   "id": "be45e466",
   "metadata": {
    "slideshow": {
     "slide_type": "fragment"
    }
   },
   "source": [
    "However, as we think about using it in practice, we notice a number of things it doesn't do:\n",
    "* A _p_-value does not tell us an affirmative fact -- that some hypothesis is _true._\n",
    "    * it can only tell us that some hypothesis is _false_ (the null hypothesis)\n",
    "    * eg, that the lady tasting tea is making decisions that are \"not random\"\n",
    "* what if we wanted to say something about _how well_ the lady can distinguish the two cups of tea?"
   ]
  },
  {
   "cell_type": "markdown",
   "id": "6965a2ac",
   "metadata": {
    "slideshow": {
     "slide_type": "skip"
    }
   },
   "source": [
    "```{margin}\n",
    "An interesting discussion of Jerzy Neyman's contributions is [here](http://daniellakens.blogspot.com/2021/09/jerzy-neyman-positive-role-model-in.html). \n",
    "```"
   ]
  },
  {
   "cell_type": "markdown",
   "id": "ff044840",
   "metadata": {
    "slideshow": {
     "slide_type": "slide"
    }
   },
   "source": [
    "Jerzy Neyman and Egon Pearson advanced a approach to deal with this."
   ]
  },
  {
   "cell_type": "markdown",
   "id": "ebba6833",
   "metadata": {
    "slideshow": {
     "slide_type": "skip"
    }
   },
   "source": [
    "```{margin}\n",
    "Jerzy Neyman: [Source](http://daniellakens.blogspot.com/2021/09/jerzy-neyman-positive-role-model-in.html).\n",
    "\n",
    "Egon Pearson: original publication not known.  [Immediate source](https://mathshistory.st-andrews.ac.uk/Biographies/Pearson_Egon/pictdisplay/), [Fair use](https://en.wikipedia.org/w/index.php?curid=65391211).\n",
    "```"
   ]
  },
  {
   "cell_type": "markdown",
   "id": "b5f7524b",
   "metadata": {
    "cell_style": "split",
    "slideshow": {
     "slide_type": "fragment"
    }
   },
   "source": [
    "<center>\n",
    "\n",
    "<img src=\"images/Jerzy-Neyman.jpg\" width=\"250px\"> \n",
    "    \n",
    "    Jerzy Neyman\n",
    "    \n",
    "</center>"
   ]
  },
  {
   "cell_type": "markdown",
   "id": "c622f224",
   "metadata": {
    "cell_style": "split"
   },
   "source": [
    "<center>\n",
    "    \n",
    "<img src=\"images/Egon_Pearson.jpg\" width=\"250px\"> \n",
    "    \n",
    "    Egon Pearson\n",
    "\n",
    "</center>"
   ]
  },
  {
   "cell_type": "markdown",
   "id": "fc5fd9a0",
   "metadata": {
    "slideshow": {
     "slide_type": "fragment"
    }
   },
   "source": [
    "They argued that the experimenter should make a statement in advance about what they are looking for.   They called this the __alternative hypothesis.__"
   ]
  },
  {
   "cell_type": "markdown",
   "id": "897ffd43",
   "metadata": {
    "slideshow": {
     "slide_type": "skip"
    }
   },
   "source": [
    "```{margin}\n",
    "<!--- Source: https://pixabay.com/photos/vaccine-coronavirus-medical-hand-6165772/ --->\n",
    "Image by <a href=\"https://pixabay.com/users/spencerbdavis1-21090082/?utm_source=link-attribution&amp;utm_medium=referral&amp;utm_campaign=image&amp;utm_content=6165772\">Spencer Davis</a> from <a href=\"https://pixabay.com//?utm_source=link-attribution&amp;utm_medium=referral&amp;utm_campaign=image&amp;utm_content=6165772\">Pixabay</a>\n",
    "```"
   ]
  },
  {
   "cell_type": "markdown",
   "id": "547b2c59",
   "metadata": {
    "slideshow": {
     "slide_type": "slide"
    }
   },
   "source": [
    "For example, let's say we are investigating whether a vaccine shortens the duration of an infectious illness.\n",
    "\n",
    "<br>\n",
    "<center>\n",
    "\n",
    "<img src=\"images/vaccine-g1396974be_1920.jpg\" width=\"250px\">\n",
    "\n",
    "</center>"
   ]
  },
  {
   "cell_type": "markdown",
   "id": "654b87a4",
   "metadata": {
    "slideshow": {
     "slide_type": "fragment"
    }
   },
   "source": [
    "We would state two hypotheses:\n",
    "    \n",
    "   * $H_0$: the null hypothesis: vaccinated and unvaccinated individuals have the same average duration of illness.\n",
    "   * $H_1$: the alternative hypothesis: vaccinated and unvaccinated individuals have different average durations of illness.\n",
    "   \n",
    "Notice that exactly one of these must be true, so if we reject $H_0$ that implies we accept $H_1$."
   ]
  },
  {
   "cell_type": "markdown",
   "id": "002859f3",
   "metadata": {
    "slideshow": {
     "slide_type": "slide"
    }
   },
   "source": [
    "This framework is helpful, because it allows us to distinguish two different kinds of errors:\n",
    "\n",
    "First, we might err by concluding \"there is a difference\" when in fact there is no difference.  This is called\n",
    "* False Positive, or\n",
    "* Type I Error.\n",
    "\n",
    "Formally, we say that this is \"mistaken rejection of the null hypothesis\"."
   ]
  },
  {
   "cell_type": "markdown",
   "id": "e36fac17",
   "metadata": {
    "slideshow": {
     "slide_type": "fragment"
    }
   },
   "source": [
    "Second, we might err by concluding \"there is no difference\" when in fact there is a difference.   This is called\n",
    "* False Negative, or\n",
    "* Type II Error."
   ]
  },
  {
   "cell_type": "markdown",
   "id": "98a3984b",
   "metadata": {
    "slideshow": {
     "slide_type": "fragment"
    }
   },
   "source": [
    "Note that these can be very different, and have very different implications in practice.\n",
    "\n",
    "For example, in a medical test, there is a __big__ difference between a false positive and a false negative."
   ]
  },
  {
   "cell_type": "markdown",
   "id": "1ae06fac",
   "metadata": {
    "slideshow": {
     "slide_type": "skip"
    }
   },
   "source": [
    "```{margin}\n",
    "<!--- Source: https://pixabay.com/photos/doctor-surgeon-hospital-surgery-5707722/ --->\n",
    "Image by <a href=\"https://pixabay.com/users/10634669-10634669/?utm_source=link-attribution&amp;utm_medium=referral&amp;utm_campaign=image&amp;utm_content=5707722\">Sam Williams</a> from <a href=\"https://pixabay.com//?utm_source=link-attribution&amp;utm_medium=referral&amp;utm_campaign=image&amp;utm_content=5707722\">Pixabay</a>\n",
    "```"
   ]
  },
  {
   "cell_type": "markdown",
   "id": "2c47fede",
   "metadata": {
    "slideshow": {
     "slide_type": "slide"
    }
   },
   "source": [
    "<center>\n",
    "\n",
    "<img src=\"images/doctor-g0d80a1aa1_1920.jpg\" width=\"250px\">\n",
    "\n",
    "</center>\n",
    "\n",
    "\n",
    "Consider a cancer screen.  \n",
    "* A false positive is a result \"cancer is present\" when in fact it is not present.   \n",
    "* A false negative is a result \"cancer is not present\" when in fact it is present.  \n",
    "\n",
    "Should we treat these two kinds of errors as equally important?"
   ]
  },
  {
   "cell_type": "markdown",
   "id": "a460be8d",
   "metadata": {
    "slideshow": {
     "slide_type": "slide"
    }
   },
   "source": [
    "Neyman and Pearson felt that in science, we want to control the false positive rate to avoid making incorrect \"discoveries.\"\n",
    "\n",
    "They proposed the following:  the experimenter chooses a false positive rate in advance, called $\\alpha$.  \n",
    "\n",
    "The value of $\\alpha$ should be set based on experience and expectations.  \n",
    "\n",
    "The experimenter then constructs a test that compares the two hypotheses, and computes the _p_-value associated with the null hypothesis.  The experimenter rejects the null hypothesis if $p < \\alpha$."
   ]
  },
  {
   "cell_type": "markdown",
   "id": "58593f6c",
   "metadata": {
    "slideshow": {
     "slide_type": "fragment"
    }
   },
   "source": [
    "For example, say the experimenter wants to be very conservative and rarely make an incorrect declaration that an effect is present.  Then they would set $\\alpha$ to a small value, say 0.001.\n",
    "\n",
    "So they would demand to see a small _p_-value, ie, less than 0.001, in order to reject the null hypothesis.\n",
    "\n",
    "Notice however, that this means that in doing so, they run the risk of false negatives -- failing to detect an effect that __is__ present."
   ]
  },
  {
   "cell_type": "markdown",
   "id": "bfa897c3",
   "metadata": {
    "slideshow": {
     "slide_type": "slide"
    }
   },
   "source": [
    "In the Neyman-Pearson framework, we don't look at the value of $p$ other than to compare it to $\\alpha$.  That is, unlike Fisher's approach, we don't use $p$ to tell us \"how big the effect is.\"  \n",
    "\n",
    "For example, if $\\alpha$ were 0.05, we would reject the null hypothesis if $p$ were 0.04, or 0.01, or 0.00001.   \n",
    "\n",
    "So, unlike Fisher's procedure, this method deliberately does __not__ address the strength of evidence in any one particular experiment.\n",
    "\n",
    "Rather, the goal is, __over the course of many experiments,__ to limit the rate at which incorrect \"discoveries\" are made."
   ]
  },
  {
   "cell_type": "markdown",
   "id": "4f118cfa",
   "metadata": {
    "slideshow": {
     "slide_type": "slide"
    }
   },
   "source": [
    "## NHST and its Limitations\n",
    "\n",
    "In current practice, many experimenters use something that is neither Fisher's method nor the Neyman-Pearson method.  "
   ]
  },
  {
   "cell_type": "markdown",
   "id": "249b039a",
   "metadata": {
    "slideshow": {
     "slide_type": "fragment"
    }
   },
   "source": [
    "What is often done in practice is to use a standard threshold of $p < 0.05$ or $p < 0.01$ as the one-size-fits-all test for \"statistical significance.\"  \n",
    "\n",
    "This goes by the term \"Null Hypothesis Significance Testing\" or __NHST.__"
   ]
  },
  {
   "cell_type": "markdown",
   "id": "a1aea12e",
   "metadata": {
    "slideshow": {
     "slide_type": "fragment"
    }
   },
   "source": [
    "There are many problems with this approach. In fact, you should avoid it whenever possible.   Here are some problems."
   ]
  },
  {
   "cell_type": "markdown",
   "id": "090a8745",
   "metadata": {
    "slideshow": {
     "slide_type": "slide"
    }
   },
   "source": [
    "__Problem 1: Ignoring effect size.__ Very often what matters most in an experiment is _effect size._  Effect size answers the question \"how large is the difference?\" between two experimental outcomes.  \n",
    "\n",
    "For example, say we are interested in studying state-by-state performance of students on the SAT exam.  (Note: this is made-up data!)"
   ]
  },
  {
   "cell_type": "code",
   "execution_count": 2,
   "id": "23712417",
   "metadata": {
    "hide_input": true,
    "slideshow": {
     "slide_type": "fragment"
    },
    "tags": [
     "remove-input"
    ]
   },
   "outputs": [
    {
     "data": {
      "image/png": "[encoded data removed]",
      "text/plain": [
       "<Figure size 644.25x500 with 1 Axes>"
      ]
     },
     "metadata": {
      "image/png": {
       "height": 517,
       "width": 649
      }
     },
     "output_type": "display_data"
    }
   ],
   "source": [
    "rng = default_rng(12)\n",
    "samp_size = 30\n",
    "mu1 = 1200\n",
    "mu2 = 1220\n",
    "sig1 = 50\n",
    "sig2 = 50\n",
    "df = pd.DataFrame([norm.rvs(size = samp_size, loc = mu1, scale = sig1, random_state = rng),\n",
    "                  norm.rvs(size = samp_size, loc = mu2, scale = sig2, random_state = rng)]).T\n",
    "df.columns = ['North Dakota', 'South Dakota']\n",
    "sns.displot(df, multiple = 'dodge')\n",
    "plt.ylabel('Count', size = 16)\n",
    "plt.xlabel('SAT Score', size = 16);"
   ]
  },
  {
   "cell_type": "markdown",
   "id": "f8829c42",
   "metadata": {
    "slideshow": {
     "slide_type": "fragment"
    }
   },
   "source": [
    "Under the Neyman-Pearson or NHST testing framework, our null hypothesis would be \"students in North Dakota have the same average scores on the SAT than students in South Dakota.\"\n",
    "\n",
    "Now, almost certainly this is __not__ true.  That's not the right question!   \n",
    "\n",
    "The important question is, in which state are scores higher, and how large is the difference -- ie, what is the __effect size?__"
   ]
  },
  {
   "cell_type": "markdown",
   "id": "68fad2de",
   "metadata": {
    "slideshow": {
     "slide_type": "slide"
    }
   },
   "source": [
    "__Problem 2: Misunderstanding what a p-value is.__\n",
    "\n",
    "The _p_-value is the probability of the results if the null hypothesis were true.   In other words, it is the probability that the results would occur if they were due to chance alone.\n",
    "\n",
    "This is __not__ the same as the probability that the results are due to chance!  Mistakenly thinking so is called the _inverse probability fallacy._    To do that, is to confuse $p(\\text{data}|H_0)$ with $p(H_0|\\text{data})$.\n",
    "\n",
    "For example, if you are taking this course, there is a high probability you are a student a BU.   But that does not mean that if you are a student at BU, there is a high probability you are taking this course."
   ]
  },
  {
   "cell_type": "markdown",
   "id": "95775b28",
   "metadata": {
    "slideshow": {
     "slide_type": "slide"
    }
   },
   "source": [
    "__Problem 3: Ignoring our Expertise or Prior Knowledge.__\n",
    "\n",
    "One of the ways in which standard NHST is flawed is in the standard use of 0.05 or 0.01 as a significance threshold.   This fixed value of $\\alpha = 0.05$ or 0.01 in practice ignores what we know.  \n",
    "\n",
    "Consider a study in which researchers claim to detect 33 individuals out of 97 who show psychic ability, yielding a _p_-value of 0.047.  By standard practice, this would be considered statistically significant since $p < 0.05$.  But given what we know about claims for psychic ability, are we really confident that the experiment shows that people have psychic abilities?\n",
    "\n",
    "Another reason for avoiding a fixed significance threshold relates to our tolerance for false alarms.  For example, particle physicists are particularly concerned with avoiding false alarms, which would trigger the development of new theories.   So the standard for detection in particle physics is generally at least $5\\sigma$, corresponding to a p-value of about $3 \\times 10^{-7}$.\n",
    "\n",
    "<!--- cites: https://www.r-bloggers.com/2012/07/the-higgs-boson-5-sigma-and-the-concept-of-p-values/, https://www.newscientist.com/article/2315418-particle-physics-could-be-rewritten-after-shock-w-boson-measurement/?utm_campaign=RSS%7CNSNS&utm_source=NSNS&utm_medium=RSS&utm_content=currents\n",
    " --->"
   ]
  },
  {
   "cell_type": "markdown",
   "id": "42167938",
   "metadata": {
    "slideshow": {
     "slide_type": "slide"
    }
   },
   "source": [
    "__Problem 4: Downplaying False Negatives.__\n",
    "\n",
    "The standard NHST framework focuses on avoiding Type I errors (false positives).  However if we fail to find statistical significance where there is a true effect, we are committing a Type II error (a false negative).  \n",
    "\n",
    "Unfortunately, often little attention is paid to Type II errors.  A type II error can occur if an experiment does not collect enough data to establish small confidence intervals.  This is called an _underpowered_ experiment.  \n",
    "\n",
    "As a result, particularly when working with small datasets, we must be careful not to take statistical nonsignificance as evidence of a zero effect."
   ]
  },
  {
   "cell_type": "markdown",
   "id": "88c912ad",
   "metadata": {
    "slideshow": {
     "slide_type": "slide"
    }
   },
   "source": [
    "## Have Confidence in Intervals"
   ]
  },
  {
   "cell_type": "markdown",
   "id": "3d511d3b",
   "metadata": {
    "slideshow": {
     "slide_type": "fragment"
    }
   },
   "source": [
    "In general, whenever possible, instead of using _p_-values to demonstrate statistical signficance, it is better to use __confidence intervals.__"
   ]
  },
  {
   "cell_type": "markdown",
   "id": "802f3f51",
   "metadata": {
    "slideshow": {
     "slide_type": "fragment"
    }
   },
   "source": [
    "For example, recall the example from the end of the last lecture:\n",
    "    \n",
    "|   | height | 95% CI |\n",
    "|---|---|---|\n",
    "| men, n = 25 | 69.0 in | [68.1, 69.9]|\n",
    "| women, n = 23 | 61.1 in | [60.3, 62.0] |"
   ]
  },
  {
   "cell_type": "markdown",
   "id": "5d3c669a",
   "metadata": {
    "slideshow": {
     "slide_type": "fragment"
    }
   },
   "source": [
    "Notice that presenting confidence intervals avoids the problems associated with _p_-values and NHST.\n",
    "\n",
    "We can easily see that the two groups have a statistically significant difference in means, because __the confidence intervals do not overlap.__\n",
    "\n",
    "Furthermore, we can also easily see the effect size -- the difference in average heights between men and women."
   ]
  }
 ],
 "metadata": {
  "celltoolbar": "Slideshow",
  "kernelspec": {
   "display_name": "Python 3 (ipykernel)",
   "language": "python",
   "name": "python3"
  },
  "language_info": {
   "codemirror_mode": {
    "name": "ipython",
    "version": 3
   },
   "file_extension": ".py",
   "mimetype": "text/x-python",
   "name": "python",
   "nbconvert_exporter": "python",
   "pygments_lexer": "ipython3",
   "version": "3.11.8"
  },
  "rise": {
   "scroll": false,
   "theme": "serif",
   "transition": "fade"
  }
 },
 "nbformat": 4,
 "nbformat_minor": 5
}
