{
 "cells": [
  {
   "cell_type": "code",
   "execution_count": 1,
   "metadata": {
    "editable": true,
    "hide_input": true,
    "slideshow": {
     "slide_type": "skip"
    },
    "tags": [
     "remove-cell"
    ]
   },
   "outputs": [],
   "source": [
    "%matplotlib inline\n",
    "%config InlineBackend.figure_format='retina'\n",
    "import numpy as np\n",
    "import pandas as pd\n",
    "import matplotlib.pyplot as plt\n",
    "import seaborn as sns\n",
    "from IPython.display import Image, display_html, display, Math, HTML\n",
    "from matplotlib_venn import venn2, venn2_circles, venn2_unweighted;"
   ]
  },
  {
   "cell_type": "markdown",
   "metadata": {
    "editable": true,
    "slideshow": {
     "slide_type": "slide"
    },
    "tags": []
   },
   "source": [
    "# Introduction and Probability Review"
   ]
  },
  {
   "cell_type": "markdown",
   "metadata": {
    "editable": true,
    "slideshow": {
     "slide_type": "fragment"
    },
    "tags": []
   },
   "source": [
    "Today we'll review the essentials of probability and statistics that we'll need for this course.\n",
    "\n",
    "These are recaps of concepts you covered in DS 120 (mainly) and DS 121."
   ]
  },
  {
   "cell_type": "markdown",
   "metadata": {
    "editable": true,
    "slideshow": {
     "slide_type": "slide"
    },
    "tags": []
   },
   "source": [
    "## Probability\n",
    "\n",
    "What is probability?"
   ]
  },
  {
   "cell_type": "markdown",
   "metadata": {
    "slideshow": {
     "slide_type": "fragment"
    }
   },
   "source": [
    "We all have a general sense of what is meant by probability.\n",
    "\n",
    "However, when we look closely, we see that there are at least two different ways to interpret the notion of \"the probability of an event.\""
   ]
  },
  {
   "cell_type": "markdown",
   "metadata": {
    "slideshow": {
     "slide_type": "slide"
    }
   },
   "source": [
    "### The Frequentist View"
   ]
  },
  {
   "cell_type": "markdown",
   "metadata": {
    "editable": true,
    "slideshow": {
     "slide_type": "fragment"
    },
    "tags": []
   },
   "source": [
    "The frequentist view of probability requires the definition of several concepts.\n",
    "\n",
    "- _Experiment_: a situation in which the outcomes occur randomly.<br>\n",
    "__Example__: Driving to work, a commuter passes through a sequence of three intersections with traffic lights. At each light she either stops $s$ or continues $c$. \n",
    "- _Sample space_:  the set of all possible outcomes of the experiment.<br>\n",
    "__Example__: $\\{ccc, ccs, csc, css, scc, ssc, scs, sss\\},$ where $csc$, for example, denotes the outcome that the commuter continues through the first light, stops at the second light, and continues through the third light.\n",
    "- _Event_: a subset of the sample space.<br>\n",
    "__Example__: continuing through the first light (i.e., $\\{ccc, ccs, csc, css\\}$). \n",
    "<!-- - __Probability__: chance or likelihood of a particular event taking place.<br>\n",
    "Example: $50\\%$ probability of stopping at the first traffic light. -->"
   ]
  },
  {
   "cell_type": "markdown",
   "metadata": {
    "slideshow": {
     "slide_type": "slide"
    }
   },
   "source": [
    "The frequentist view is summarized by this quote from the first pages of a probability textbook:\n",
    "\n",
    ">Suppose an experiment under consideration can be repeated any number of times, so that, in principle at least, we can produce a whole series of “independent trials under identical conditions” in each of which, depending on chance, a particular event $A$ of interest either occurs or does not occur. \n",
    "\n",
    ">Let $n$ be the total number of experiments in the whole series of trials, and let $n(A)$ be the number of experiement in which $A$ occurs. Then the ratio $n(A)/n$ is called the relative frequency of the event $A.$ \n",
    "\n",
    "> It turns out that the relative frequencies observed in different series of trials are virtually the same for large $n,$ clustering about some constant $P[A],$ which is called the **probability of the event $A.$**\n",
    "\n",
    "Y. A. Rozanov. _Probability Theory: A Concise Course._ 1969."
   ]
  },
  {
   "cell_type": "markdown",
   "metadata": {
    "slideshow": {
     "slide_type": "slide"
    }
   },
   "source": [
    "This is called the **frequentist** intepretation of probability.\n",
    "\n",
    "The key idea in the above definition is to be able to:\n",
    "\n",
    "> produce a whole series of “independent trials under identical conditions” \n",
    "\n",
    "Which, when you think about it, is really a rather tricky notion."
   ]
  },
  {
   "cell_type": "markdown",
   "metadata": {
    "slideshow": {
     "slide_type": "fragment"
    }
   },
   "source": [
    "Nevertheless, the frequentist view of probability is quite useful and we will often use it in this course.\n",
    "\n",
    "You can think of it as treating each event as a sort of idealized coin-flip.\n",
    "\n",
    "In other words, when we use the frequentist view, we will generally be thinking of a somewhat abstract situation where we __assume__ that \"independent trials under identical conditions\" is a good description of the situation."
   ]
  },
  {
   "cell_type": "markdown",
   "metadata": {
    "slideshow": {
     "slide_type": "slide"
    }
   },
   "source": [
    "### The Bayesian View"
   ]
  },
  {
   "cell_type": "markdown",
   "metadata": {
    "slideshow": {
     "slide_type": "fragment"
    }
   },
   "source": [
    "To understand the Bayesian view of probability, consider the following situations:\n",
    "    \n",
    "On a visit to the doctor, we may ask, \"What is the probability that I have disease X?\"\n",
    "\n",
    "Or, before digging a well, we may ask, \"What is the probability that I will strike water?\""
   ]
  },
  {
   "cell_type": "markdown",
   "metadata": {
    "slideshow": {
     "slide_type": "fragment"
    }
   },
   "source": [
    "These questions are __totally incompatible__ with the notion of \"independent trials under identical conditions\"!\n",
    "\n",
    "Either I do, or do not, have disease X.   Either I will, or will not, strike water."
   ]
  },
  {
   "cell_type": "markdown",
   "metadata": {
    "slideshow": {
     "slide_type": "slide"
    }
   },
   "source": [
    "Rather, it seems that we are really asking:\n",
    ">\"How certain should I be that I have disease X?\" \n",
    "\n",
    "> \"How certain should I be that I will strike water?\"\n",
    "\n",
    "In this setting, we are using probability to encode a \"degree of belief\" or a \"state of knowledge.\"\n",
    "\n",
    "This is called the __Bayesian__ interpretation of probability."
   ]
  },
  {
   "cell_type": "markdown",
   "metadata": {
    "slideshow": {
     "slide_type": "slide"
    }
   },
   "source": [
    "Somewhat amazingly, it turns out that whichever way we think of probability (frequentist or Bayesian),\n",
    "\n",
    "... the __rules__ that we use for computing probabilities should be __exactly the same.__\n",
    "\n",
    "This is a very deep and surprising thing. "
   ]
  },
  {
   "cell_type": "markdown",
   "metadata": {
    "slideshow": {
     "slide_type": "fragment"
    }
   },
   "source": [
    "In other words, it's often really a \"state of knowledge\" that we are really talking about when we use probability models in this course.\n",
    "\n",
    "> A thing appears random only through the incompleteness of our knowledge. \n",
    ">\n",
    "Spinoza, _Ethics,_ Part 1"
   ]
  },
  {
   "cell_type": "markdown",
   "metadata": {
    "slideshow": {
     "slide_type": "fragment"
    }
   },
   "source": [
    "In other words, we use probability as an abstraction that __hides details__ we don't want to deal with.  \n",
    "\n",
    "(This is a time-honored use of probability.)"
   ]
  },
  {
   "cell_type": "markdown",
   "metadata": {
    "slideshow": {
     "slide_type": "slide"
    }
   },
   "source": [
    ">In a serious work ... an expression such as “this phenomenon is due to chance” constitutes simply, \n",
    ">an elliptic form of speech. ... It really means “everything occurs as if this phenomenon were due to chance,” \n",
    ">or, to be more precise: “To describe, or interpret or formalize this phenomenon, \n",
    ">only probabilistic models have so far given good results.”\n",
    "\n",
    "Georges Matheron, _Estimating and Choosing: An Essay on Probability in Practice_"
   ]
  },
  {
   "cell_type": "markdown",
   "metadata": {
    "slideshow": {
     "slide_type": "fragment"
    }
   },
   "source": [
    "\n",
    "So it's important to recognize that both frequentist and Bayesian views are __valid__ and __useful__ views of probability."
   ]
  },
  {
   "cell_type": "markdown",
   "metadata": {},
   "source": [
    "<center>\n",
    "\n",
    "<img src=\"images/Bayes-Frequentism.png\" width=\"500px\">\n",
    "\n",
    "</center>"
   ]
  },
  {
   "cell_type": "markdown",
   "metadata": {
    "slideshow": {
     "slide_type": "slide"
    }
   },
   "source": [
    "## What is Probability (and Statistics) Good For?"
   ]
  },
  {
   "cell_type": "markdown",
   "metadata": {
    "slideshow": {
     "slide_type": "fragment"
    }
   },
   "source": [
    "Probability is the logic of uncertainty.   In other words, when you are uncertain about something you need probability to make a decision on a rational (logical) basis."
   ]
  },
  {
   "cell_type": "markdown",
   "metadata": {
    "editable": true,
    "slideshow": {
     "slide_type": "slide"
    },
    "tags": []
   },
   "source": [
    "<center>\n",
    "\n",
    "<img src='images/Blaise_Pascal_2web.jpg' width=\"300px\">\n",
    "    \n",
    "</center>\n",
    "\n",
    "<center>\n",
    "Blaise Pascal \n",
    "</center>\n",
    "\n",
    "So you will not be surprised to know that the roots of probability were developed to analyze games of chance -- gambling.\n",
    "\n",
    "\n",
    "<!-- Source: https://www.aps.org/publications/apsnews/200907/physicshistory.cfm -->"
   ]
  },
  {
   "cell_type": "markdown",
   "metadata": {
    "slideshow": {
     "slide_type": "fragment"
    }
   },
   "source": [
    "In the mid 1650s, the mathematician Blaise Pascal was considering a particular gambling game.  A friend asked him how to divide the winnings if the game ended early (before one player had completely won).   \n",
    "\n",
    "Pascal started a correspondence with another mathematician, Pierre Fermat, exchanging letters and discussing what would be a fair way to divide the pot.   They developed the idea of listing all the possible ways the game could have gone, and dividing the winnings according to the number of outcomes in which each player wins the game.  This led to the classical frequentist notion of probability that we use today."
   ]
  },
  {
   "cell_type": "markdown",
   "metadata": {
    "slideshow": {
     "slide_type": "slide"
    }
   },
   "source": [
    "But it turns out that gambling is far from the only setting where we are uncertain about the facts.   Most of science consists of settings where there is some uncertainty about the facts.   In finance we are typically uncertain about the future.  In physics we are typicaly uncertain about the value of a measurement.  In political science we are uncertain about public opinion.   The lists go on and on.  Probability is a crucial tool in almost every area of human endeavor."
   ]
  },
  {
   "cell_type": "markdown",
   "metadata": {
    "slideshow": {
     "slide_type": "fragment"
    }
   },
   "source": [
    "> The actual science of logic is conversant at present only with things either certain, impossible, or entirely doubtful, none of which (fortunately) we have to reason on.  Therefore the true logic for this world is the calculus of Probabilities, which takes account of the magnitude of the probability which is, or ought to be, in a reasonable man's mind.\n",
    "\n",
    "James Clerk Maxwell (1850)"
   ]
  },
  {
   "cell_type": "markdown",
   "metadata": {
    "slideshow": {
     "slide_type": "slide"
    }
   },
   "source": [
    "## Probability and Conditioning\n",
    "\n",
    "As we've said, whether we are thinking of probability in a frequentist or a Bayesian sense, the rules that we use for manipulating probabilities are the same."
   ]
  },
  {
   "cell_type": "markdown",
   "metadata": {
    "editable": true,
    "slideshow": {
     "slide_type": "skip"
    },
    "tags": []
   },
   "source": [
    "```{margin}\n",
    "Photo credits: [DALL-E.](https://openai.com/product/dall-e-2) Prompt: \"a jewelry store with a broken window with a gentleman wearing a mask crawling out through the broken window carrying a bag full of expensive jewelry\"\n",
    "```"
   ]
  },
  {
   "cell_type": "markdown",
   "metadata": {
    "editable": true,
    "slideshow": {
     "slide_type": "slide"
    },
    "tags": []
   },
   "source": [
    "<center>\n",
    "\n",
    "<img src=\"images/DALLE-jewlery-store.png\" width=\"400px\">\n",
    "    \n",
    "</center>\n",
    "\n",
    "To motivate our definitions of probability and conditioning, let's consider the following scenario.\n",
    "\n",
    "Suppose some dark night a policeman walks down a street, apparently deserted.  Suddenly he hears a burglar alarm, looks across the street, and sees a jewelry store with a broken window.  Then a gentleman wearing a mask comes crawling out through the broken window, carrying a bag which turns out to be full of expensive jewelry.  The policeman does not hesitate at all in deciding that this gentleman is dishonest.  By what reasoning process does he arrive at this conclusion?\n",
    "\n",
    "(From Probability Theory, E.T. Jaynes)"
   ]
  },
  {
   "cell_type": "markdown",
   "metadata": {
    "slideshow": {
     "slide_type": "fragment"
    }
   },
   "source": [
    "Clearly, it is _possible_ that the gentleman is not a thief.  The question is, what calculational rules should the policeman use to assign a probability to the idea that the gentleman is a thief?"
   ]
  },
  {
   "cell_type": "markdown",
   "metadata": {
    "slideshow": {
     "slide_type": "slide"
    }
   },
   "source": [
    "> Probability theory is nothing but common sense reduced to calculation.\n",
    "\n",
    "Laplace, 1819"
   ]
  },
  {
   "cell_type": "markdown",
   "metadata": {
    "slideshow": {
     "slide_type": "slide"
    }
   },
   "source": [
    "To start with, we'll follow Pascal's idea: write down all the possibilities.  As we mentioned previously, they will form the sample space. We will denote it by $\\Omega$.  \n",
    "\n",
    "In this case $\\Omega = \\{\\text{thief}, \\text{honest}\\}$.\n",
    "\n",
    "<!-- The elements of $\\Omega$ are called _outcomes_.    -->"
   ]
  },
  {
   "cell_type": "markdown",
   "metadata": {
    "slideshow": {
     "slide_type": "fragment"
    }
   },
   "source": [
    "For each member of $\\Omega$ we will assign a number in the range $[0, 1]$ and call it the outcome's _probability._\n",
    "\n",
    "We denote it with $P$, so we might say $P(\\text{thief}) = 0.3.$\n",
    "\n",
    "(or whatever).\n",
    "\n",
    "Here we are using the __first axiom of probability__. "
   ]
  },
  {
   "cell_type": "markdown",
   "metadata": {
    "slideshow": {
     "slide_type": "fragment"
    }
   },
   "source": [
    "_Axiom 1_: For each event $E$ of the sample space $\\Omega$, $P(E)$ satisfies\n",
    "\n",
    "$$0\\leq P(E) \\leq 1.$$"
   ]
  },
  {
   "cell_type": "markdown",
   "metadata": {
    "editable": true,
    "slideshow": {
     "slide_type": "slide"
    },
    "tags": []
   },
   "source": [
    "The second axiom tells us with probability 1, the outcome will be a point in the sample space.   \n",
    "\n",
    "_Axiom 2_:\n",
    "\n",
    "$$ P(\\Omega) = 1.$$"
   ]
  },
  {
   "cell_type": "markdown",
   "metadata": {
    "editable": true,
    "slideshow": {
     "slide_type": "fragment"
    },
    "tags": []
   },
   "source": [
    "The third axiom is concerned with __disjoint__ or __mutually exclusive__ events. These are events that do not co-ocur.\n",
    "\n",
    "_Axiom 3_: If $E_1$ and $E_2$ are disjoint than the probability that $E_1$ __or__ $E_2$ occurs is equal to\n",
    "\n",
    "$$P(E_1\\cup E_2) = P(E_1)+P(E_2).$$"
   ]
  },
  {
   "cell_type": "code",
   "execution_count": 10,
   "metadata": {
    "editable": true,
    "hide_input": true,
    "scrolled": true,
    "slideshow": {
     "slide_type": "slide"
    },
    "tags": []
   },
   "outputs": [
    {
     "data": {
      "image/png": "[encoded data removed]",
      "text/plain": [
       "<Figure size 640x480 with 1 Axes>"
      ]
     },
     "metadata": {
      "image/png": {
       "height": 241,
       "width": 515
      }
     },
     "output_type": "display_data"
    }
   ],
   "source": [
    "fig, ax = plt.subplots()\n",
    "v = venn2(ax = ax, subsets={'10': 1, '01': 1, '11': 0}, \n",
    "          set_labels = None, \n",
    "          set_colors=('r', 'g'), \n",
    "          alpha = 0.5)\n",
    "v.get_label_by_id('10').set_text('Thief')\n",
    "v.get_label_by_id('10').set_size(20)\n",
    "v.get_label_by_id('01').set_text('Honest')\n",
    "v.get_label_by_id('01').set_size(20)\n",
    "ax.set_axis_on()\n",
    "plt.text(ax.get_xlim()[0]+0.1, ax.get_ylim()[0]+0.1, '$\\Omega$', fontsize = 20);\n"
   ]
  },
  {
   "cell_type": "markdown",
   "metadata": {
    "editable": true,
    "slideshow": {
     "slide_type": "fragment"
    },
    "tags": []
   },
   "source": [
    "<!-- However, if two outcomes can never both occur, then the probability that one of them occurs is the sum of their probabilities. -->\n",
    "\n",
    "Since a person cannot be a thief and honest at the same time, from Axiom 3 it follows that\n",
    "\n",
    "$$P(\\text{thief or honest}) = P(\\text{thief}) + P(\\text{honest})$$"
   ]
  },
  {
   "cell_type": "markdown",
   "metadata": {
    "editable": true,
    "slideshow": {
     "slide_type": "fragment"
    },
    "tags": []
   },
   "source": [
    "Combining this with Axiom 2 we obtain\n",
    "\n",
    "$$ P(\\text{thief}) = 1 - P(\\text{honest}). $$"
   ]
  },
  {
   "cell_type": "markdown",
   "metadata": {
    "editable": true,
    "slideshow": {
     "slide_type": "slide"
    },
    "tags": []
   },
   "source": [
    "This is actually a well known fact about probabilities of the event $E$ and its __complement__, $\\bar{E}.$\n",
    "\n",
    "_Property A_: $P(\\bar{E}) = 1 - P(E).$"
   ]
  },
  {
   "cell_type": "markdown",
   "metadata": {
    "editable": true,
    "slideshow": {
     "slide_type": "fragment"
    },
    "tags": []
   },
   "source": [
    "Since $\\emptyset = \\overline{\\Omega}$, this property tell us that the probability that there is no outcome at all is zero.\n",
    "\n",
    "_Property B_: $P(\\emptyset) = 0.$"
   ]
  },
  {
   "cell_type": "markdown",
   "metadata": {
    "editable": true,
    "slideshow": {
     "slide_type": "fragment"
    },
    "tags": []
   },
   "source": [
    "Another important property in probability theory states that if the event $E$ is contained in the event $F$, then the probability of $E$ is no greater than the probability of $F$.\n",
    "\n",
    "_Property C_: If $E$ is contained in $F$, then $P(E) \\leq P(F).$"
   ]
  },
  {
   "cell_type": "markdown",
   "metadata": {
    "editable": true,
    "slideshow": {
     "slide_type": "fragment"
    },
    "tags": []
   },
   "source": [
    "The last fundamental property tells us about the union of two events that can co-occur. \n",
    "\n",
    "_Property D_: $P(E \\cup F) = P(E) + P(F) - P(E,F).$"
   ]
  },
  {
   "cell_type": "markdown",
   "metadata": {
    "editable": true,
    "slideshow": {
     "slide_type": "slide"
    },
    "tags": []
   },
   "source": [
    "### More than One Event"
   ]
  },
  {
   "cell_type": "markdown",
   "metadata": {
    "editable": true,
    "slideshow": {
     "slide_type": "fragment"
    },
    "tags": []
   },
   "source": [
    "When we start to consider multiple events, we need calculation rules for _joint_ probabilities.\n",
    "\n",
    "The event $A,B$ means that both $A$ __and__ $B$ are true.\n",
    "\n",
    "So in our example we might be interested in $P(\\text{thief},\\text{broken window})$."
   ]
  },
  {
   "cell_type": "code",
   "execution_count": 2,
   "metadata": {
    "editable": true,
    "hide_input": true,
    "slideshow": {
     "slide_type": ""
    },
    "tags": [
     "remove-input"
    ]
   },
   "outputs": [
    {
     "data": {
      "image/png": "[encoded data removed]",
      "text/plain": [
       "<Figure size 640x480 with 1 Axes>"
      ]
     },
     "metadata": {
      "image/png": {
       "height": 389,
       "width": 512
      }
     },
     "output_type": "display_data"
    }
   ],
   "source": [
    "fig, ax = plt.subplots()\n",
    "v = venn2(ax = ax, subsets={'10': 1, '01': 1, '11': 1}, \n",
    "          set_labels = None, \n",
    "          set_colors=('r', 'g'), \n",
    "          alpha = 0.5)\n",
    "v.get_label_by_id('10').set_text('$A,\\overline{B}$')\n",
    "v.get_label_by_id('10').set_size(20)\n",
    "v.get_label_by_id('01').set_text('$\\overline{A},B$')\n",
    "v.get_label_by_id('01').set_size(20);\n",
    "v.get_label_by_id('11').set_text('$A,B$')\n",
    "v.get_label_by_id('11').set_size(20)\n",
    "ax.set_axis_on()\n",
    "plt.text(ax.get_xlim()[0]+0.1, ax.get_ylim()[0]+0.1, '$\\Omega$', fontsize = 20);"
   ]
  },
  {
   "cell_type": "markdown",
   "metadata": {
    "editable": true,
    "slideshow": {
     "slide_type": "slide"
    },
    "tags": []
   },
   "source": [
    "In general, there is no simple rule for how to compute $P(A, B)$.\n",
    "\n",
    "It depends on how often the events co-occur."
   ]
  },
  {
   "cell_type": "markdown",
   "metadata": {
    "editable": true,
    "slideshow": {
     "slide_type": "slide"
    },
    "tags": []
   },
   "source": [
    "### Conditional Probability\n",
    "\n",
    "To follow the policeman's reasoning, we need to use conditional probability.  The conditional probability of $A$ given $B$, written\n",
    "\n",
    "$$P(A | B)$$\n",
    "\n",
    "Is the probability of event $A$ if we know that $B$ is true. "
   ]
  },
  {
   "cell_type": "markdown",
   "metadata": {
    "slideshow": {
     "slide_type": "fragment"
    }
   },
   "source": [
    "For example, we are interested in:\n",
    "\n",
    "$$P(\\text{thief} \\,\\vert\\, \\text{carrying jewels}) $$\n",
    "\n"
   ]
  },
  {
   "cell_type": "markdown",
   "metadata": {
    "slideshow": {
     "slide_type": "fragment"
    }
   },
   "source": [
    "Intuitively, we would expect that\n",
    "\n",
    "$$P(\\text{thief} \\,\\vert\\, \\text{carrying jewels}) > P(\\text{thief}) $$\n"
   ]
  },
  {
   "cell_type": "markdown",
   "metadata": {
    "slideshow": {
     "slide_type": "slide"
    }
   },
   "source": [
    "And indeed the proper rule for computing this is:\n",
    "\n",
    "$$ P(A \\,\\vert\\, B) = \\frac{P(A, B)}{P(B)} $$\n",
    "\n",
    "We interpret this as dividing the probability that both events ($A$ and $B$) occur by the probability that the conditioning event ($B$) occurs.\n",
    "\n",
    "Note that we have to assume that $P(B) > 0$.  The condition does not make sense otherwise."
   ]
  },
  {
   "cell_type": "markdown",
   "metadata": {
    "slideshow": {
     "slide_type": "slide"
    }
   },
   "source": [
    "Finally, we'll introduce the last calculational rule, which relates to _independent_ events.\n",
    "\n",
    "We say that events $A$ and $B$ are independent if the occurrence of one does not change the probability of the other.\n"
   ]
  },
  {
   "cell_type": "markdown",
   "metadata": {
    "slideshow": {
     "slide_type": "fragment"
    }
   },
   "source": [
    "That is, if $A$ and $B$ are independent, then\n",
    "\n",
    "$$P(A\\,\\vert\\,B) = P(A)$$\n",
    "\n",
    "or, equivalently,\n",
    "\n",
    "$$P(B\\,\\vert\\,A) = P(B)$$\n"
   ]
  },
  {
   "cell_type": "markdown",
   "metadata": {
    "slideshow": {
     "slide_type": "fragment"
    }
   },
   "source": [
    "Intuitively, the knowledge that one event has ocurred does not change our estimate of the probability of the other event.\n",
    "\n",
    "For example, knowing the day of the week does not change our estimate of whether it will be raining or sunny.\n",
    "\n",
    "$$P(\\text{day is rainy}\\,|\\,\\text{day is Monday}) = P(\\text{day is rainy})$$"
   ]
  },
  {
   "cell_type": "markdown",
   "metadata": {
    "slideshow": {
     "slide_type": "slide"
    }
   },
   "source": [
    "Recall that: \n",
    "\n",
    "$$ P(A\\,\\vert\\,B) = \\frac{P(A, B)}{P(B)} $$\n",
    "\n",
    "and, if $A$ and $B$ are independent, then\n",
    "\n",
    "$$ P(A\\,\\vert\\,B) = P(A) $$\n"
   ]
  },
  {
   "cell_type": "markdown",
   "metadata": {
    "slideshow": {
     "slide_type": "fragment"
    }
   },
   "source": [
    "Combining those gives us:\n",
    "\n",
    "$$ P(A\\,\\vert\\,B) = \\frac{P(A, B)}{P(B)} = P(A) $$\n"
   ]
  },
  {
   "cell_type": "markdown",
   "metadata": {
    "slideshow": {
     "slide_type": "fragment"
    }
   },
   "source": [
    "so\n",
    "\n",
    "$$ P(A, B) = P(A)P(B) $$\n",
    "\n",
    "when $A$ and $B$ are independent."
   ]
  },
  {
   "cell_type": "markdown",
   "metadata": {
    "slideshow": {
     "slide_type": "slide"
    }
   },
   "source": [
    "So, for example, let's say that here in Boston about 10\\% of the days are rainy.    What fraction of the days of the year are rainy Mondays?"
   ]
  },
  {
   "cell_type": "markdown",
   "metadata": {
    "slideshow": {
     "slide_type": "fragment"
    }
   },
   "source": [
    "What are the two events $A$ and $B$, and what are their probabilities?"
   ]
  },
  {
   "cell_type": "markdown",
   "metadata": {
    "slideshow": {
     "slide_type": "fragment"
    }
   },
   "source": [
    "$P(A) = P(\\text{day is rainy}) = 1/10$ and $P(B) = P(\\text{day is Monday}) = 1/7$"
   ]
  },
  {
   "cell_type": "markdown",
   "metadata": {
    "slideshow": {
     "slide_type": "fragment"
    }
   },
   "source": [
    "What is the probabilty question we are asking?"
   ]
  },
  {
   "cell_type": "markdown",
   "metadata": {
    "slideshow": {
     "slide_type": "fragment"
    }
   },
   "source": [
    "$P(A,B) = P(\\text{day is rainy } and \\text{ day is Monday})$"
   ]
  },
  {
   "cell_type": "markdown",
   "metadata": {
    "slideshow": {
     "slide_type": "fragment"
    }
   },
   "source": [
    "Are the two events independent?"
   ]
  },
  {
   "cell_type": "markdown",
   "metadata": {
    "slideshow": {
     "slide_type": "fragment"
    }
   },
   "source": [
    "Yes!"
   ]
  },
  {
   "cell_type": "markdown",
   "metadata": {
    "slideshow": {
     "slide_type": "slide"
    }
   },
   "source": [
    "Since we can assume independence, the answer is easy to compute:\n",
    "    \n",
    "$$P(\\text{day is rainy } and \\text{ day is Monday}) = P(\\text{day is rainy})P(\\text{day is Monday})$$\n"
   ]
  },
  {
   "cell_type": "markdown",
   "metadata": {
    "slideshow": {
     "slide_type": "fragment"
    }
   },
   "source": [
    "\n",
    "$$P(\\text{day is rainy } and \\text{ day is Monday}) = \\frac{1}{10} \\cdot \\frac{1}{7} = \\frac{1}{70}.$$\n",
    "\n",
    "So we expect about 365 / 70 = about 5 rainy Mondays per year."
   ]
  },
  {
   "cell_type": "markdown",
   "metadata": {
    "slideshow": {
     "slide_type": "slide"
    }
   },
   "source": [
    "### Chain Rule"
   ]
  },
  {
   "cell_type": "markdown",
   "metadata": {
    "slideshow": {
     "slide_type": "fragment"
    }
   },
   "source": [
    "Recall again the definition of conditional probability:\n",
    "\n",
    "$$ P(A\\,\\vert\\,B) = \\frac{P(A, B)}{P(B)}. $$\n"
   ]
  },
  {
   "cell_type": "markdown",
   "metadata": {
    "slideshow": {
     "slide_type": "fragment"
    }
   },
   "source": [
    "By rearranging terms, we can see that:\n",
    "\n",
    "$$ P(A, B) = P(A \\,\\vert\\, B)\\; P(B). $$\n"
   ]
  },
  {
   "cell_type": "markdown",
   "metadata": {
    "slideshow": {
     "slide_type": "fragment"
    }
   },
   "source": [
    "This is called the __chain rule__ of conditional probabilities."
   ]
  },
  {
   "cell_type": "markdown",
   "metadata": {
    "slideshow": {
     "slide_type": "slide"
    }
   },
   "source": [
    "We can extend this pattern to as many random variables as we want.  For example:\n",
    "\n",
    "$$ P(A, B, C) = P(A \\,\\vert\\, B,C) \\;P(B \\,\\vert\\, C) \\; P(C). $$\n"
   ]
  },
  {
   "cell_type": "markdown",
   "metadata": {
    "slideshow": {
     "slide_type": "fragment"
    }
   },
   "source": [
    "And this gives us the tools we need to write out a mathematical representation of the policeman's logic!\n",
    "\n",
    "The chain rule tells us that:\n",
    "\n",
    "$\\begin{equation}\n",
    "P(\\text{Thief, Jewlery, Crawling, Mask, Broken Window, Alarm}) =  \\\\ P(\\text{Thief} \\,\\vert\\, \\text{Jewlery, Crawling, Mask, Broken Window, Alarm}) \\;P(\\text{Jewlery} \\,\\vert\\, ...) ... P(\\text{Alarm}) \n",
    "\\end{equation}$\n",
    "\n",
    "And we want to calculate:\n",
    "\n",
    "$$ P(\\text{Thief} \\,\\vert\\, \\text{Jewlery, Crawling, Mask, Broken Window, Alarm}) $$\n",
    " \n",
    "Which we can get to by moving around some terms."
   ]
  },
  {
   "cell_type": "markdown",
   "metadata": {},
   "source": [
    "### Law of Total Probability\n",
    "\n",
    "Another useful tool for computing probabilities is provided by the following law. \n",
    "\n",
    "Let $B_1$ and $B_2$ form the complete sample space $S$ and be disjoint $\\left(B_1 \\cap B_2 = \\emptyset\\right)$, with $P(B_1) > 0$ and $P(B_2) > 0$. Then for any event $A$,\n",
    "\n",
    "   $$P(A) = P(A|B_1)P(B_1)+P(A|B_2)P(B_2).$$"
   ]
  },
  {
   "cell_type": "markdown",
   "metadata": {
    "editable": true,
    "slideshow": {
     "slide_type": "slide"
    },
    "tags": []
   },
   "source": [
    "### Bayes' Rule"
   ]
  },
  {
   "cell_type": "markdown",
   "metadata": {
    "editable": true,
    "slideshow": {
     "slide_type": "fragment"
    },
    "tags": []
   },
   "source": [
    "Another direct consequence of the definition of conditional probability is __Bayes' Rule__:\n",
    "    \n",
    "$$ P(A \\,\\vert\\, B) = \\frac{P(B\\,\\vert\\,A) \\; P(A)}{P(B)}. $$\n",
    "\n",
    "We won't focus on it too much now, but we will use Bayes Rule __a lot__ in this course, and we will discuss it more in upcoming lectures. The key insight, as we will see, is that we can use observations of $B$ to update out belief in $A$.\n",
    "\n",
    "For now, think about how you might derive this rule from the rules we have learned so far."
   ]
  },
  {
   "cell_type": "markdown",
   "metadata": {
    "editable": true,
    "slideshow": {
     "slide_type": "slide"
    },
    "tags": []
   },
   "source": [
    "## Random Variables"
   ]
  },
  {
   "cell_type": "markdown",
   "metadata": {
    "slideshow": {
     "slide_type": "fragment"
    }
   },
   "source": [
    "Often we'll be considering events that have certain kinds of values as their outcomes.\n",
    "\n",
    "When a random event has an associated numeric value, or a set of specific values, we refer to it as a __random variable.__"
   ]
  },
  {
   "cell_type": "markdown",
   "metadata": {
    "slideshow": {
     "slide_type": "fragment"
    }
   },
   "source": [
    "Notationally, we use CAPITAL LETTERS for random variables and lowercase for non-random quantities."
   ]
  },
  {
   "cell_type": "markdown",
   "metadata": {
    "slideshow": {
     "slide_type": "fragment"
    }
   },
   "source": [
    "We will distinguish between _categorical_ random variables and _numerical_ random variables."
   ]
  },
  {
   "cell_type": "markdown",
   "metadata": {
    "slideshow": {
     "slide_type": "slide"
    }
   },
   "source": [
    "### Categorical Random Variables"
   ]
  },
  {
   "cell_type": "markdown",
   "metadata": {
    "slideshow": {
     "slide_type": "fragment"
    }
   },
   "source": [
    "In the case of the policeman, he may formulate a categorical random variable $G$ to describe the gentleman.   To specify the distribution of $G$, the policeman might decide:\n",
    "\n",
    "$$ P(G = \\text{thief}) = 0.3 $$\n",
    "\n",
    "which would mean therefore that \n",
    "\n",
    "$$ P(G = \\text{honest}) = 0.7 $$"
   ]
  },
  {
   "cell_type": "markdown",
   "metadata": {
    "slideshow": {
     "slide_type": "slide"
    }
   },
   "source": [
    "As another example, consider a traffic light that may be red, green, or yellow.  We could describe it as a categorical random variable, corresponding to what we see when we observe it at a random time.\n",
    "\n",
    "If we denote this random variable as $X$, we might find the following:\n",
    "\n",
    "| color | P(X = color) |\n",
    "| ----| -----------|\n",
    "| red | 0.4 |\n",
    "| green | 0.4 |\n",
    "| yellow | 0.2 |\n"
   ]
  },
  {
   "cell_type": "markdown",
   "metadata": {
    "slideshow": {
     "slide_type": "fragment"
    }
   },
   "source": [
    "Thus, to specify the distribution for a categorical random variable,  conceptually we __construct a table__ showing the probabilities of all of the possible values of the random variable."
   ]
  },
  {
   "cell_type": "markdown",
   "metadata": {
    "editable": true,
    "slideshow": {
     "slide_type": "slide"
    },
    "tags": []
   },
   "source": [
    "### Numerical Random Variables\n",
    "\n",
    "In contrast, a numerical random variable takes on numbers as values.\n",
    "\n",
    "We distinguish between discrete and continuous random variables. \n",
    "\n",
    "A _discrete random variable_ is a random variable that can take on\n",
    "only a finite or at most a countably infinite number of values. <br>\n",
    "__Example__: the number of points showing after a roll of a die. \n",
    "\n",
    "A _continuous random variable_ is a random variable that can take\n",
    "on any value from a given range. That is, a continuous random variable has an uncountable set of possible outcomes.<br>\n",
    "__Example__: the lifetime of a light bulb."
   ]
  },
  {
   "cell_type": "markdown",
   "metadata": {
    "editable": true,
    "slideshow": {
     "slide_type": "slide"
    },
    "tags": []
   },
   "source": [
    "To specify the distribution for a numerical random variable, we need some more definitions."
   ]
  },
  {
   "cell_type": "markdown",
   "metadata": {
    "editable": true,
    "slideshow": {
     "slide_type": "fragment"
    },
    "tags": []
   },
   "source": [
    "The _probability mass function_ (PMF) $p$ is formed by the probabilities assigned to the possible values of a discrete random variable. That is, \n",
    "\n",
    "$$p(a) = P(X=a).$$\n",
    "\n",
    "An analogous function for a continuous random variable is called the _probability density function_ (PDF) and is usually denoted by $f$."
   ]
  },
  {
   "cell_type": "markdown",
   "metadata": {
    "editable": true,
    "slideshow": {
     "slide_type": "fragment"
    },
    "tags": []
   },
   "source": [
    "The _cumulative distribution function_ (CDF) $F$ for a random\n",
    " variable $X$ is equal to the probability measure for the event that\n",
    " consists of all possible outcomes with a value of the random variable $X$\n",
    " less than or equal to $a$. That is, \n",
    " \n",
    " $$F(a) = P(X \\leq a).$$"
   ]
  },
  {
   "cell_type": "markdown",
   "metadata": {
    "editable": true,
    "slideshow": {
     "slide_type": "slide"
    },
    "tags": []
   },
   "source": [
    "__Example.__  Consider the roll of a single die.  The random variable here is the number of points showing.  What is the CDF of this discrete random variable?\n",
    "\n",
    "<center>\n",
    "    \n",
    "<img src=\"images/single-die.png\" alt=\"Die\" width=\"100px\">\n",
    "    \n",
    "</center>"
   ]
  },
  {
   "cell_type": "markdown",
   "metadata": {
    "editable": true,
    "slideshow": {
     "slide_type": "fragment"
    },
    "tags": []
   },
   "source": [
    "We don't have any reason for thinking that one outcome is more likely than another, so we assign equal probabilities to each outcome $\\Omega = \\{1, 2, 3, 4, 5, 6\\}$.  Then the CDF is:"
   ]
  },
  {
   "cell_type": "code",
   "execution_count": 4,
   "metadata": {
    "hide_input": true,
    "tags": [
     "remove-input"
    ]
   },
   "outputs": [
    {
     "data": {
      "image/png": "[encoded data removed]",
      "text/plain": [
       "<Figure size 640x480 with 1 Axes>"
      ]
     },
     "metadata": {
      "image/png": {
       "height": 461,
       "width": 577
      }
     },
     "output_type": "display_data"
    }
   ],
   "source": [
    "plt.figure()\n",
    "for i in range(7):\n",
    "    plt.plot([i, i+1-.08], [i/6, i/6],'-b')\n",
    "for i in range(1, 7):\n",
    "    plt.plot(i, i/6, 'ob')\n",
    "    plt.plot(i, (i-1)/6, 'ob', fillstyle = 'none')\n",
    "plt.xlim([0, 7])\n",
    "plt.ylim([-0.05, 1.1])\n",
    "plt.title('Cumulative Distribution Function (CDF)')\n",
    "plt.xlabel(r'$x$ (Number of points showing)', size=14)\n",
    "plt.ylabel(r'$P[X\\leq x]$', size=14);"
   ]
  },
  {
   "cell_type": "markdown",
   "metadata": {
    "editable": true,
    "slideshow": {
     "slide_type": "slide"
    },
    "tags": []
   },
   "source": [
    "Now, consider this CDF of some continuous random variable:"
   ]
  },
  {
   "cell_type": "code",
   "execution_count": 5,
   "metadata": {
    "editable": true,
    "hide_input": true,
    "slideshow": {
     "slide_type": ""
    },
    "tags": [
     "remove-input"
    ]
   },
   "outputs": [
    {
     "data": {
      "image/png": "[encoded data removed]",
      "text/plain": [
       "<Figure size 640x480 with 1 Axes>"
      ]
     },
     "metadata": {
      "image/png": {
       "height": 459,
       "width": 572
      }
     },
     "output_type": "display_data"
    }
   ],
   "source": [
    "from scipy.stats import norm\n",
    "plt.figure()\n",
    "x = np.linspace(norm.ppf(0.001), norm.ppf(0.999), 100)\n",
    "plt.plot(x, norm.cdf(x),'b-', lw=5, alpha = 0.6)\n",
    "plt.title('Cumulative Distribution Function (CDF)')\n",
    "plt.xlabel(r'$x$', size=14)\n",
    "plt.ylabel(r'$P[X\\leq x]$', size=14);"
   ]
  },
  {
   "cell_type": "markdown",
   "metadata": {
    "editable": true,
    "slideshow": {
     "slide_type": "-"
    },
    "tags": []
   },
   "source": [
    "What does it mean when the slope is steeper for some $x$ values?"
   ]
  },
  {
   "cell_type": "markdown",
   "metadata": {
    "editable": true,
    "slideshow": {
     "slide_type": "fragment"
    },
    "tags": []
   },
   "source": [
    "The slope tells us how likely values are in a particular range."
   ]
  },
  {
   "cell_type": "markdown",
   "metadata": {
    "editable": true,
    "slideshow": {
     "slide_type": "slide"
    },
    "tags": []
   },
   "source": [
    "This is captured by the corresponding probability density function.  \n",
    "\n",
    "It should be noted that the probability density function of a continuous random variable is formally defined as the derivative (recall that the derivative is the slope of a function at any given point) of the CDF, when that is defined.\n",
    "\n",
    "$$ f(x) = \\frac{dF(x)}{dx}.$$"
   ]
  },
  {
   "cell_type": "markdown",
   "metadata": {
    "editable": true,
    "slideshow": {
     "slide_type": "fragment"
    },
    "tags": []
   },
   "source": [
    "Often we will go the other way as well to get the CDF from the PDF:\n",
    "\n",
    "$$ F(a) = \\int_{-\\infty}^{a} f(x)\\; dx. $$\n",
    "\n",
    "The integral notation here isn't crucial at this moment, but be aware that the integral is the reverse of a derivative, so this is saying intuitively that if we sum the area under the PDF, we get the CDF."
   ]
  },
  {
   "cell_type": "markdown",
   "metadata": {
    "editable": true,
    "slideshow": {
     "slide_type": "fragment"
    },
    "tags": []
   },
   "source": [
    "For simplicity, let us return to a discrete random variable with probability mass function $p$. The corresponding CDF can be written as\n",
    "\n",
    "$$ F(a) = P(X \\leq a) = \\sum_{x\\leq a} p(x). $$\n"
   ]
  },
  {
   "cell_type": "markdown",
   "metadata": {
    "editable": true,
    "slideshow": {
     "slide_type": "slide"
    },
    "tags": []
   },
   "source": [
    "You should be able to see that:\n",
    "\n",
    "$$ \\sum_{i=-\\infty}^{+\\infty} p(x_i)\\; = 1 $$\n",
    "\n",
    "and\n",
    "\n",
    "$$      p(x) \\geq 0. $$\n",
    "\n",
    "All this is to say: probabilities must sum to 1 and be greater than 0."
   ]
  },
  {
   "cell_type": "markdown",
   "metadata": {
    "editable": true,
    "slideshow": {
     "slide_type": "slide"
    },
    "tags": []
   },
   "source": [
    "Note that for a discrete random variable, the CDF is not differentiable (because the CDF is a step function).  \n",
    "\n",
    "For the PMF we simply plot the probability function of\n",
    "each value.  That is, we plot $P[X = a]$ for the various values of $a$.\n",
    "\n",
    "Another way to think of the PMF is that it consists of impulses at the\n",
    "points of discontinuity of the CDF. "
   ]
  },
  {
   "cell_type": "markdown",
   "metadata": {
    "editable": true,
    "slideshow": {
     "slide_type": "fragment"
    },
    "tags": []
   },
   "source": [
    "For our example of the single die:"
   ]
  },
  {
   "cell_type": "code",
   "execution_count": 6,
   "metadata": {
    "hide_input": true,
    "tags": [
     "remove-input"
    ]
   },
   "outputs": [
    {
     "data": {
      "image/png": "[encoded data removed]",
      "text/plain": [
       "<Figure size 640x480 with 1 Axes>"
      ]
     },
     "metadata": {
      "image/png": {
       "height": 437,
       "width": 572
      }
     },
     "output_type": "display_data"
    }
   ],
   "source": [
    "plt.figure()\n",
    "x = np.arange(1, 7)\n",
    "plt.plot(x, 6*[1/6.], 'bo', ms=8)\n",
    "plt.vlines(x, 0, 1/6., colors='b', lw=5, alpha=0.5)\n",
    "plt.xlim([0.5, 6.5])\n",
    "plt.ylim([0, 1.1])\n",
    "plt.xlabel(r'x (Number of points showing)', size=14)\n",
    "plt.ylabel(r'$P[X = x]$', size=14);"
   ]
  },
  {
   "cell_type": "markdown",
   "metadata": {
    "slideshow": {
     "slide_type": "slide"
    }
   },
   "source": [
    "## Characterizing Random Variables\n",
    "\n",
    "We now present some ways of describing the distribution of a random variable."
   ]
  },
  {
   "cell_type": "markdown",
   "metadata": {
    "editable": true,
    "slideshow": {
     "slide_type": "slide"
    },
    "tags": []
   },
   "source": [
    "### Expected Value\n",
    "\n",
    "__Definition.__ The _expected value_ $E[X]$ of a random\n",
    "variable $X$ is the probability-weighted sum or integral of all possible values of $X$.  \n",
    "\n",
    "For a discrete random variable, this is:\n",
    "\n",
    "$$ E[X] \\equiv \\sum_{x=-\\infty}^{+\\infty} x\\cdot  P(X=x) = \\sum_{x=-\\infty}^{+\\infty} x\\cdot  p(x) $$\n",
    "\n",
    "and for a continuous random variable with PDF $f$:\n",
    "\n",
    "$$ E[X] \\equiv \\int_{-\\infty}^{+\\infty} x\\cdot f(x)\\; dx. $$"
   ]
  },
  {
   "cell_type": "markdown",
   "metadata": {
    "editable": true,
    "slideshow": {
     "slide_type": "fragment"
    },
    "tags": []
   },
   "source": [
    "The expected value tells us what to expect from the average of many observations of the random variable.\n",
    "\n",
    "It does __not__ tell us what to expect from a single observation."
   ]
  },
  {
   "cell_type": "markdown",
   "metadata": {
    "slideshow": {
     "slide_type": "slide"
    }
   },
   "source": [
    "For example, if $X$ is the roll of a six-sided die, what is the expected value of a die roll?"
   ]
  },
  {
   "cell_type": "markdown",
   "metadata": {
    "slideshow": {
     "slide_type": "fragment"
    }
   },
   "source": [
    "\n",
    "$$ E[X] = \\sum_{x=1}^{6} P[X=x] \\cdot x $$\n"
   ]
  },
  {
   "cell_type": "markdown",
   "metadata": {
    "slideshow": {
     "slide_type": "fragment"
    }
   },
   "source": [
    "so\n",
    "\n",
    "$$ E[X] = P[X=1] \\cdot 1 + P[X=2] \\cdot 2 + P[X=3] \\cdot 3 + P[X=4] \\cdot 4 + P[X=5] \\cdot 5 + P[X=6] \\cdot 6$$\n"
   ]
  },
  {
   "cell_type": "markdown",
   "metadata": {
    "editable": true,
    "slideshow": {
     "slide_type": "fragment"
    },
    "tags": []
   },
   "source": [
    "so\n",
    "\n",
    "$$ E[X] = 1/6 \\cdot (1 + 2 + 3 + 4 + 5 + 6) = 3.5 $$\n"
   ]
  },
  {
   "cell_type": "markdown",
   "metadata": {
    "slideshow": {
     "slide_type": "fragment"
    }
   },
   "source": [
    "But 3.5 is a value that can __never occur__ for a roll of the die!"
   ]
  },
  {
   "cell_type": "markdown",
   "metadata": {
    "slideshow": {
     "slide_type": "fragment"
    }
   },
   "source": [
    "The extreme version of this phenomenon is the person\n",
    "with their head in the oven and feet in the freezer who claims \"on\n",
    "average I feel fine.\" "
   ]
  },
  {
   "cell_type": "markdown",
   "metadata": {
    "slideshow": {
     "slide_type": "slide"
    }
   },
   "source": [
    "### Variance\n",
    "\n",
    "The variability of random quantities is crucially important to characterize!\n",
    "\n",
    "For this we use __variance,__ the mean squared difference of the random variable from its mean."
   ]
  },
  {
   "cell_type": "markdown",
   "metadata": {
    "slideshow": {
     "slide_type": "fragment"
    }
   },
   "source": [
    "__Definition.__ The variance of a random variable $X$ is\n",
    "\n",
    "$$ \\text{Var} (X) \\equiv E[(X - \\overline{X})^2]. $$\n",
    "\n",
    "Where we use the notation $\\overline{X}$ to mean $E[X]$."
   ]
  },
  {
   "cell_type": "markdown",
   "metadata": {
    "editable": true,
    "slideshow": {
     "slide_type": "fragment"
    },
    "tags": []
   },
   "source": [
    "For example, given a discrete R.V. with $E[X] = \\mu$ this would be:\n",
    "\n",
    "$$ \\text{Var} (X) = \\sum_{x=-\\infty}^{+\\infty} (x-\\mu)^2\\; P(X=x) = \\sum_{x=-\\infty}^{+\\infty} (x-\\mu)^2\\; p(x). $$\n",
    "\n",
    "We use the symbol $\\sigma^2$ to denote variance."
   ]
  },
  {
   "cell_type": "markdown",
   "metadata": {
    "editable": true,
    "slideshow": {
     "slide_type": "slide"
    },
    "tags": []
   },
   "source": [
    "Let's look at dice again, if $X$ is the roll of a six-sided die, what is the variance of a die roll?"
   ]
  },
  {
   "cell_type": "markdown",
   "metadata": {
    "editable": true,
    "slideshow": {
     "slide_type": "fragment"
    },
    "tags": []
   },
   "source": [
    "We already know the expected value (or mean) is 3.5:\n",
    "\n",
    "$$ \\text{Var} (X) = \\sum_{x=1}^{6} (x-3.5)^2\\; P(X=x). $$"
   ]
  },
  {
   "cell_type": "markdown",
   "metadata": {
    "editable": true,
    "slideshow": {
     "slide_type": "fragment"
    },
    "tags": []
   },
   "source": [
    "$$ \\text{Var} (X) = 1/6\\sum_{x=1}^{6} (x-3.5)^2\\; = 35/12.$$"
   ]
  },
  {
   "cell_type": "markdown",
   "metadata": {
    "slideshow": {
     "slide_type": "fragment"
    }
   },
   "source": [
    "What should be relatively clear from this is that random variables with the same mean can have vastly different variances.\n",
    "\n",
    "How could we change our die to achieve this?"
   ]
  },
  {
   "cell_type": "code",
   "execution_count": 7,
   "metadata": {
    "slideshow": {
     "slide_type": "slide"
    }
   },
   "outputs": [
    {
     "name": "stdout",
     "output_type": "stream",
     "text": [
      "Expected value:  3.5\n",
      "Variance:  2.9166666666666665\n"
     ]
    }
   ],
   "source": [
    "import numpy as np\n",
    "\n",
    "# Outcomes\n",
    "outcomes = np.array([1, 2, 3, 4, 5, 6])\n",
    "\n",
    "# Probabilities\n",
    "probabilities = np.array([1/6, 1/6, 1/6, 1/6, 1/6, 1/6])\n",
    "\n",
    "# Expected Value\n",
    "mean = np.sum(outcomes * probabilities)\n",
    "print(\"Expected value: \", mean)\n",
    "\n",
    "# Variance\n",
    "variance = np.sum((outcomes-mean)**2 * probabilities)\n",
    "print(\"Variance: \",variance)"
   ]
  },
  {
   "cell_type": "markdown",
   "metadata": {
    "slideshow": {
     "slide_type": "skip"
    }
   },
   "source": [
    "```{margin}\n",
    "DataSaurus comes from AutoDesk Research: \"Same Stats, Different Graphs: Generating Datasets with Varied Appearance and Identical Statistics through Simulated Annealing\"\n",
    "```"
   ]
  },
  {
   "cell_type": "markdown",
   "metadata": {
    "editable": true,
    "slideshow": {
     "slide_type": "slide"
    },
    "tags": []
   },
   "source": [
    "One more note on variance: the units of variance are the square of the units of the mean. \n",
    "\n",
    "So to compare variance and mean in the same units, we take the square root of the variance.\n",
    "\n",
    "This is called the __standard deviation__ and is denoted $\\sigma$."
   ]
  },
  {
   "cell_type": "markdown",
   "metadata": {
    "editable": true,
    "slideshow": {
     "slide_type": "slide"
    },
    "tags": []
   },
   "source": [
    "### Mean and standard deviation are often not enough!\n",
    "\n",
    "The famous DataSaurus shows us why:\n",
    "\n",
    "<center>\n",
    "    \n",
    "<img src=\"images/DataSaurus.gif\" alt=\"Die\" width=\"800px\">\n",
    "    \n",
    "</center>\n",
    "\n",
    "Often we will need the entire distribution of the data to be able to reason about it."
   ]
  }
 ],
 "metadata": {
  "anaconda-cloud": {},
  "celltoolbar": "Slideshow",
  "kernelspec": {
   "display_name": "Python 3 (ipykernel)",
   "language": "python",
   "name": "python3"
  },
  "language_info": {
   "codemirror_mode": {
    "name": "ipython",
    "version": 3
   },
   "file_extension": ".py",
   "mimetype": "text/x-python",
   "name": "python",
   "nbconvert_exporter": "python",
   "pygments_lexer": "ipython3",
   "version": "3.11.8"
  },
  "rise": {
   "scroll": true,
   "theme": "serif",
   "transition": "fade"
  }
 },
 "nbformat": 4,
 "nbformat_minor": 4
}
