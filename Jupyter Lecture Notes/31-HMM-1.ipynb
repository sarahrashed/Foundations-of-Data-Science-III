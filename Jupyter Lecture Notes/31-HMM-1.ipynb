{
 "cells": [
  {
   "cell_type": "code",
   "execution_count": 1,
   "id": "d4c0cc67",
   "metadata": {
    "hide_input": true,
    "slideshow": {
     "slide_type": "skip"
    },
    "tags": [
     "remove-cell"
    ]
   },
   "outputs": [],
   "source": [
    "%matplotlib inline\n",
    "%config InlineBackend.figure_format='retina'\n",
    "import numpy as np\n",
    "import pandas as pd\n",
    "import matplotlib.pyplot as plt\n",
    "import seaborn as sns\n",
    "from IPython.display import Image, display_html, display, Math, HTML\n",
    "from scipy.stats import norm\n",
    "from scipy.stats import uniform\n",
    "from numpy.random import default_rng"
   ]
  },
  {
   "cell_type": "markdown",
   "id": "2f8d3b5e",
   "metadata": {
    "slideshow": {
     "slide_type": "slide"
    }
   },
   "source": [
    "# Hidden Markov Models"
   ]
  },
  {
   "cell_type": "markdown",
   "id": "d4761520",
   "metadata": {
    "slideshow": {
     "slide_type": "slide"
    }
   },
   "source": [
    "Today we will take a look at __Hidden Markov Models__ (HMMs). HMMs deal with Markov processes in which the states are unobservable or __hidden__ but influence an __observable__ process. \n",
    "\n",
    "<center>\n",
    "\n",
    "<img src=\"images/HMM_chain.svg\" width=\"750px\">\n",
    "    \n",
    "</center>"
   ]
  },
  {
   "cell_type": "markdown",
   "id": "c928bedd",
   "metadata": {
    "slideshow": {
     "slide_type": "fragment"
    }
   },
   "source": [
    "HMMs are used in various fields that include bioinformatics, finance, robotics, developmental studies, speech recognition, and Natural Language Processing (NLP). "
   ]
  },
  {
   "cell_type": "markdown",
   "id": "db42c8aa",
   "metadata": {
    "slideshow": {
     "slide_type": "slide"
    }
   },
   "source": [
    "- A concrete example from a developmental study is modelling of infant-free-play regimes. While it is not possible to directly observe if an infant is focused or exploring, a prediction can be made based on the number of toys they were interacting during a certain period of time."
   ]
  },
  {
   "cell_type": "markdown",
   "id": "14c10dec",
   "metadata": {
    "slideshow": {
     "slide_type": "fragment"
    }
   },
   "source": [
    "- One of the applications of HMMs in computational finance is for modeling stock market states, such as a bull market (it occurs when the stock prices are rising and investors are optimistic) and a bear market (it happends when the prices decline). It is impossible to directly observe the state of the market but put/call ratios, which are indicators of investor sentiment and are associated with short-term stock market returns, can be used to predict them."
   ]
  },
  {
   "cell_type": "markdown",
   "id": "82b560b2",
   "metadata": {
    "slideshow": {
     "slide_type": "slide"
    }
   },
   "source": [
    "- In NLP, HMMs are often used for Parts-of-Speech (POS) tagging, a process that assigns a grammatical category, such as noun, verb, and adjective, to each word in a piece of text. While this task seems relatively easy to humans who speak the language from which the text has been taken, it is much harder for a machine. For instance, consider the following sentences:\n",
    "1. I should book my flight to Paris.\n",
    "2. I am reading an interesting book. <br>\n",
    "The word _book_ is a verb in the first sentence and is a noun in the second one. There are many ambigous words, like _book_, for which the POS-tagging is not a trivial task. <br>\n",
    "We will look into HMMs for POS tagging in more detail in the next lecture."
   ]
  },
  {
   "cell_type": "markdown",
   "id": "9c157e40",
   "metadata": {
    "slideshow": {
     "slide_type": "slide"
    }
   },
   "source": [
    "## Problem definition\n",
    "\n",
    "For now we will focus on the following example. \n",
    "\n",
    "__Example: Umbrella problem.__ A student is studying for an exam in a room without any windows. Every day she wants to know whether it is rainy or sunny outside. However, her only access to the outside world is when she sees her housemate leaving the house with or without an umbrella each morning. "
   ]
  },
  {
   "cell_type": "markdown",
   "id": "04c19adb",
   "metadata": {
    "slideshow": {
     "slide_type": "fragment"
    }
   },
   "source": [
    "This problem is a little unrealistic but has the components we are interested in."
   ]
  },
  {
   "cell_type": "markdown",
   "id": "0734fd99",
   "metadata": {
    "slideshow": {
     "slide_type": "slide"
    }
   },
   "source": [
    "- The student doesn't have direct access to the outside world, but wants to know whether it is sunny or rainy. Therefore, the set $\\left\\{\\text{Sunny}, \\text{Rainy} \\right\\}$ represents the hidden states.  "
   ]
  },
  {
   "cell_type": "markdown",
   "id": "4d3e52ff",
   "metadata": {
    "slideshow": {
     "slide_type": "fragment"
    }
   },
   "source": [
    "- Instead of observing the hidden states directly, the student observes a signal emitted by the hidden states - whether the housemate carries an umbrella or not. Thus, $\\left\\{\\text{No umbrella}, \\text{Umbrella}\\right\\}$ is the set of possible observations."
   ]
  },
  {
   "cell_type": "markdown",
   "id": "a76d5bf7",
   "metadata": {
    "slideshow": {
     "slide_type": "fragment"
    }
   },
   "source": [
    "- The signal that the student observes is noisy. For example, even if it's not raining, the housemate might be bringing an umbrella, because he forgot to check the weather report."
   ]
  },
  {
   "cell_type": "markdown",
   "id": "2dceb1e8",
   "metadata": {
    "slideshow": {
     "slide_type": "slide"
    }
   },
   "source": [
    "### Model assumptions\n",
    "\n",
    "To be able to model the umbrella problem, we need to represent it as a discrete-time process. That is, we need to specify a time step between the events."
   ]
  },
  {
   "cell_type": "markdown",
   "id": "7306f4e9",
   "metadata": {
    "slideshow": {
     "slide_type": "fragment"
    }
   },
   "source": [
    "Furthermore, we need the following assumptions to create an HMM.\n",
    "\n",
    "1. __Markov property__: the weather at day $n+1$ depends only on the weather at day $n$. \n",
    "2. __Stationarity__: the probability of transitioning from one hidden state to another is the same for every time step.\n",
    "3. __Output independence__: the observation at day $n+1$ depends only on the hidden state at day $n+1$."
   ]
  },
  {
   "cell_type": "markdown",
   "id": "de370366",
   "metadata": {
    "slideshow": {
     "slide_type": "slide"
    }
   },
   "source": [
    "### State-transition diagram\n",
    "\n",
    "Let us visualize the model and assign the probabilities."
   ]
  },
  {
   "cell_type": "markdown",
   "id": "e3d293b3",
   "metadata": {
    "slideshow": {
     "slide_type": "fragment"
    }
   },
   "source": [
    "<center>\n",
    "\n",
    "<img src=\"images/HMM_diagram_no_start.svg\" width=\"600px\">\n",
    "    \n",
    "</center>"
   ]
  },
  {
   "cell_type": "markdown",
   "id": "f7e9bfd6",
   "metadata": {
    "slideshow": {
     "slide_type": "fragment"
    }
   },
   "source": [
    "The diagram shows that, for instance, the probability of the housemate brining an umbrella on a sunny day is 0.2. <br>\n",
    "In addition, we assume that the intial probabilities are 0.6 and 0.4 for a sunny day and a rainy day, respectively."
   ]
  },
  {
   "cell_type": "markdown",
   "id": "deed1329",
   "metadata": {
    "slideshow": {
     "slide_type": "slide"
    }
   },
   "source": [
    "### Decoding\n",
    "\n",
    "In general, there are three types of questions that can be asked about the HMMs.\n",
    "1. __Evaluation__: What is the probability of an observed sequence?\n",
    "2. __Decoding__: What is the most likely series of states to generate an observed sequence?\n",
    "3. __Learning__: How can we learn the parameters of HMM given some data?"
   ]
  },
  {
   "cell_type": "markdown",
   "id": "1d56b156",
   "metadata": {
    "slideshow": {
     "slide_type": "fragment"
    }
   },
   "source": [
    "We will focus on decoding problems.\n",
    "In particular, the question we are going to address in this lecture is the following:<br>\n",
    "Given the model depicted in the state-transition diagram and a sequence of observations $O=\\left(o_1,o_2,o_3,o_4\\right)=(0,1,1,0)$. Find the sequence of hidden states $X=\\left(x_1,x_2,x_3,x_4\\right)$ that best describes the observations $O$."
   ]
  },
  {
   "cell_type": "markdown",
   "id": "0164b636",
   "metadata": {
    "slideshow": {
     "slide_type": "slide"
    }
   },
   "source": [
    "## Transition and emission matrices\n",
    "\n",
    "The state-transition diagram provides an accesible manner to present the HMM for the umbrella problem. However, this is only the case for problems with a low number of hidden and observable states. Generally, matrix notation is used to describe the model."
   ]
  },
  {
   "cell_type": "markdown",
   "id": "846d0c3c",
   "metadata": {
    "slideshow": {
     "slide_type": "fragment"
    }
   },
   "source": [
    "Let us start with the __transition matrix__ $A$. For $N$ hidden states, $Q=\\left\\{q_1, q_2, \\dots, q_{N}\\right\\}$,<br> $A$ is an $N\\times N$ matrix with\n",
    "\n",
    "$$A_{ij} = P\\left(\\text{state } q_i \\text{ at time } n+1 | \\text{ state } q_j \\text{ at time } n \\right).$$\n"
   ]
  },
  {
   "cell_type": "markdown",
   "id": "ccd7f64d",
   "metadata": {
    "slideshow": {
     "slide_type": "slide"
    }
   },
   "source": [
    "The transition matrix for the umbrella problem is equal to\n",
    "\n",
    "$$A = \n",
    "\\begin{bmatrix}\n",
    "0.7 & 0.4 \\\\\n",
    "0.3 & 0.6\n",
    "\\end{bmatrix}.$$\n"
   ]
  },
  {
   "cell_type": "markdown",
   "id": "d62f2d31",
   "metadata": {
    "slideshow": {
     "slide_type": "fragment"
    }
   },
   "source": [
    "Note that $A$ is column stochastic: each of its columns sums up to 1."
   ]
  },
  {
   "cell_type": "markdown",
   "id": "40a635f3",
   "metadata": {
    "slideshow": {
     "slide_type": "fragment"
    }
   },
   "source": [
    "The initial probabilities are given by \n",
    "\n",
    "$$\\pi = \\begin{bmatrix} 0.6 \\\\ 0.4 \\end{bmatrix}.$$"
   ]
  },
  {
   "cell_type": "markdown",
   "id": "27d12ee1",
   "metadata": {
    "slideshow": {
     "slide_type": "slide"
    }
   },
   "source": [
    "Next, we construct matrix $B$ that stores the observation-probability distribution. For a general set of possible observations $V = \\left\\{v_1, v_2, \\dots, v_{M} \\right\\}$, $B$ is an $M\\times N$ matrix with\n",
    "\n",
    "$$B_{ij} = P\\left( \\text{observation } v_i \\text{ at time } n | \\text{ state } q_j \\text{ at time } n \\right).$$\n",
    "\n",
    "B is also column stochastic and is known as the __emission matrix__."
   ]
  },
  {
   "cell_type": "markdown",
   "id": "e92a1008",
   "metadata": {
    "slideshow": {
     "slide_type": "fragment"
    }
   },
   "source": [
    "For the umbrella example $B$ becomes\n",
    "\n",
    "$$B = \n",
    "\\begin{bmatrix}\n",
    "0.8 & 0.4\\\\\n",
    "0.2 & 0.6\n",
    "\\end{bmatrix}.$$\n"
   ]
  },
  {
   "cell_type": "markdown",
   "id": "a2720d50",
   "metadata": {
    "slideshow": {
     "slide_type": "fragment"
    }
   },
   "source": [
    "Together $A, B,$ and $\\pi$ fully define an HMM."
   ]
  },
  {
   "cell_type": "markdown",
   "id": "af594ed9",
   "metadata": {
    "slideshow": {
     "slide_type": "slide"
    }
   },
   "source": [
    "## Brute-force approach\n",
    "\n",
    "Recall that we want to decode the following sequence of observations $O=(0,1,1,0).$<br> Of course, it is possible to answer this question by directly computing the joint probability of $O$ with each sequence of hidden states of length 4. This strategy is called the __brute-force__ approach."
   ]
  },
  {
   "cell_type": "markdown",
   "id": "af145366",
   "metadata": {
    "slideshow": {
     "slide_type": "fragment"
    }
   },
   "source": [
    "Let's find an expression for the joint probability for a general sequence of observations of length 4, $O=(o_0,o_1,o_2,o_3)$, and a corresponding sequence of hidden states, $X = (x_0, x_1, x_2, x_3).$ \n",
    "\n",
    "$$P(O,X) = P(o_0, o_1, o_2, o_3, x_0, x_1, x_2, x_3)$$ \n",
    "$$= P(o_3|o_0, o_1, o_2, x_0, x_1, x_2, x_3)P(o_0, o_1, o_2, x_0, x_1, x_2, x_3)$$"
   ]
  },
  {
   "cell_type": "markdown",
   "id": "dfeb8f10",
   "metadata": {
    "slideshow": {
     "slide_type": "fragment"
    }
   },
   "source": [
    "$$ = P(o_3 | x_3)P(o_0, o_1, o_2, x_0, x_1, x_2, x_3)$$ \n",
    "$$= P(o_3 | x_3)P(o_2 | o_0, o_1, x_0, x_1, x_2, x_3)P(o_0, o_1, x_0, x_1, x_2, x_3)  $$"
   ]
  },
  {
   "cell_type": "markdown",
   "id": "d953504a",
   "metadata": {
    "slideshow": {
     "slide_type": "slide"
    }
   },
   "source": [
    "$$ = P(o_3 | x_3)P(o_2 | x_2)P(o_0, o_1, x_0, x_1, x_2, x_3) = \\dots $$ \n",
    "$$ = P(o_3 | x_3)P(o_2 | x_2)P(o_1 | x_1)P(o_0 | x_0)P(x_0, x_1, x_2, x_3)$$"
   ]
  },
  {
   "cell_type": "markdown",
   "id": "9f9ac05f",
   "metadata": {
    "slideshow": {
     "slide_type": "fragment"
    }
   },
   "source": [
    "$$= P(o_3 | x_3)P(o_2 | x_2)P(o_1 | x_1)P(o_0 | x_0)P(x_3 | x_0, x_1, x_2) P(x_0, x_1, x_2)$$\n",
    "$$= P(o_3 | x_3)P(o_2 | x_2)P(o_1 | x_1)P(o_0 | x_0)P(x_3 | x_2) P(x_0, x_1, x_2)= \\dots$$"
   ]
  },
  {
   "cell_type": "markdown",
   "id": "571e1fa7",
   "metadata": {
    "slideshow": {
     "slide_type": "fragment"
    }
   },
   "source": [
    "$$  = P(o_3 | x_3)P(o_2 | x_2)P(o_1 | x_1)P(o_0 | x_0)P(x_3 | x_2) P(x_2 | x_1) P(x_1 | x_0)P(x_0).$$ "
   ]
  },
  {
   "cell_type": "markdown",
   "id": "08ae83c7",
   "metadata": {
    "slideshow": {
     "slide_type": "fragment"
    }
   },
   "source": [
    "This can be written as \n",
    "\n",
    "$$P(O,X) = \\prod_{n=0}^3 P(o_n | x_n) \\prod_{n=1}^3 P(x_n | x_{n-1})P(x_0). $$ \n",
    "\n",
    "All we did to obtain this expression was using conditional probability, the output-independence assumption, and the Markov-property assumption."
   ]
  },
  {
   "cell_type": "markdown",
   "id": "b1d5f037",
   "metadata": {
    "slideshow": {
     "slide_type": "slide"
    }
   },
   "source": [
    "Similarly, for $O$ and $X$ of length $T$, the expression becomes\n",
    "\n",
    "$$P(O,X) = \\prod_{n=0}^{T-1} P(o_n | x_n) \\prod_{n=1}^{T-1} P(x_n | x_{n-1})P(x_0). $$\n"
   ]
  },
  {
   "cell_type": "markdown",
   "id": "5b4a7c5b",
   "metadata": {
    "slideshow": {
     "slide_type": "fragment"
    }
   },
   "source": [
    "For example, let us look at the joint probability of observation sequence $(0,1,1,0)$ and hidden-state sequence $(S,R,S,S)$:\n",
    "\n",
    "$$ P(0,1,1,0,S,R,S,S) = P(0|S)P(1|S)P(1|R)P(0|S)P(S|S)P(S|R)P(R|S)P(S) $$\n",
    "$$ = B_{11}B_{21}B_{22}B_{11}A_{11}A_{12}A_{21}\\pi_1 $$\n",
    "$$ =0.8\\cdot0.2\\cdot0.6\\cdot0.8\\cdot0.7\\cdot0.4\\cdot0.3\\cdot0.6\\approx0.00387.$$\n"
   ]
  },
  {
   "cell_type": "markdown",
   "id": "bc4aadb3",
   "metadata": {
    "slideshow": {
     "slide_type": "fragment"
    }
   },
   "source": [
    "Imagine a problem with $N=10$ hidden states and an observation sequence of length $T=100$. We would have to compute $10^{100}$ joint probabilities! Thus, the brute-force approach is generally infeasible."
   ]
  },
  {
   "cell_type": "markdown",
   "id": "79e14b8a",
   "metadata": {
    "slideshow": {
     "slide_type": "slide"
    }
   },
   "source": [
    "## The Viterbi algorithm\n",
    "\n",
    "Fortunately, there are algorithms that are considerably less computationally expensive than the brute-force approach. One of these algorithms is the Viterbi algorithm that has computational time complexity of $\\mathcal{O}(N^2T)$.  "
   ]
  },
  {
   "cell_type": "markdown",
   "id": "8f493e36",
   "metadata": {
    "slideshow": {
     "slide_type": "fragment"
    }
   },
   "source": [
    "The Viterbi algorithm finds the solution to the decoding problem in a step-wise manner. Each step $i$ of the algorithm corresponds to an observation $o_i$ in the sequence $O$. For every step the algorithm maximizes the joint probability for each possible hidden state and stores the hidden state that lead to the optimal joint probability. \n",
    "\n",
    "The Viterbi algorithm is __recursive__, because the optimization is performed based on the HMM and the preceding step. The stored hidden states are used at the final stage of the Viterbi algorithm to find the optimal path. This path is known as the __Viterbi path__."
   ]
  },
  {
   "cell_type": "markdown",
   "id": "6daaa5bf",
   "metadata": {
    "slideshow": {
     "slide_type": "slide"
    }
   },
   "source": [
    "The Vitebri algorithm can be split into three main stages:\n",
    "1. __Initialization__,\n",
    "2. __Forward pass__,\n",
    "3. __Backward pass__."
   ]
  },
  {
   "cell_type": "markdown",
   "id": "3a2a754c",
   "metadata": {
    "slideshow": {
     "slide_type": "fragment"
    }
   },
   "source": [
    "Before we proceed with the discussion of the stages of the Viterbi algorithm, we need to introduce its __auxiliary matrices__, $C$ and $D$. Matrix $C$ is used to store the intermediate probabilities, while matrix $D$ contains the previously visited hidden states. Both $C$ and $D$ are $N \\times T$ matrices, where, as before, $N$ is the number of possible hidden states and $T$ is the length of the observed sequence."
   ]
  },
  {
   "cell_type": "markdown",
   "id": "2056f4e2",
   "metadata": {
    "slideshow": {
     "slide_type": "slide"
    }
   },
   "source": [
    "### Initialization\n",
    "\n",
    "The initialization stage populates the first column of matrix $C$, $C_{i1}$, and the first column of matrix $D$, $D_{i1}$. \n",
    "\n",
    "To find the first column of $C$, we use the following expression:\n",
    "\n",
    "$$C_{i1} = P(o_0 | x_0 = q_i) P(x_0 = q_i).$$\n",
    "\n",
    "Equivalently,\n",
    "\n",
    "$$C_{i1} = B_{cindex(o_0)i}\\pi_i,$$\n",
    "\n",
    "where $cindex(o_0)$ is the index of the first observation in the emission matrix."
   ]
  },
  {
   "cell_type": "markdown",
   "id": "bc4e399b",
   "metadata": {
    "slideshow": {
     "slide_type": "fragment"
    }
   },
   "source": [
    "Since for the umbrella problem $o_0$ is equal to $0$, $B_{cindex(o_0)i}$ becomes $B_{1i}$. This implies that components of $C_{i1}$ are given by\n",
    "\n",
    "$$C_{11} = P(0|S)P(S) = B_{11}\\pi_1 = 0.8 \\cdot 0.6 = 0.48,$$\n",
    "\n",
    "$$C_{21} = P(0|R)P(R) = B_{12}\\pi_2 = 0.4 \\cdot 0.4 = 0.16.$$\n"
   ]
  },
  {
   "cell_type": "markdown",
   "id": "42de7f84",
   "metadata": {
    "slideshow": {
     "slide_type": "slide"
    }
   },
   "source": [
    "The first column of $D$ contains only zeros for any problem, because there are no hidden states preciding the initial state:\n",
    "\n",
    "$$D_{i1} = 0.$$\n",
    "\n",
    "<center>\n",
    "\n",
    "<img src=\"images/Viterbi_diagram_initialization.svg\" width=\"600px\">\n",
    "    \n",
    "</center>"
   ]
  },
  {
   "cell_type": "markdown",
   "id": "2e81a7fc",
   "metadata": {
    "slideshow": {
     "slide_type": "fragment"
    }
   },
   "source": [
    "Therefore, matrices $C$ and $D$ for the umbrella problem can be written as\n",
    "\n",
    "$$C = \\begin{bmatrix}0.48 & \\ast & \\ast & \\ast \\\\ 0.16 & \\ast & \\ast & \\ast \\\\  \\end{bmatrix} \\text{ and } D = \\begin{bmatrix}0 & \\ast & \\ast & \\ast \\\\ 0 & \\ast & \\ast & \\ast \\\\  \\end{bmatrix},$$\n",
    "\n",
    "where $\\ast$ denotes the components that haven't been computed yet. "
   ]
  },
  {
   "cell_type": "markdown",
   "id": "ccf3df9a",
   "metadata": {
    "slideshow": {
     "slide_type": "slide"
    }
   },
   "source": [
    "### Forward pass\n",
    " \n",
    "The forward pass completes both auxiliary matrices. The components of matrix $C$ are found in the following way:\n",
    "\n",
    "$$C_{ij} = \\max_k P(o_{j-1} | x_n = q_i)P(x_n = q_i | x_{n-1} = q_k)C_{k(j-1)}.$$\n"
   ]
  },
  {
   "cell_type": "markdown",
   "id": "4fca5438",
   "metadata": {
    "slideshow": {
     "slide_type": "fragment"
    }
   },
   "source": [
    "Equivalently, we can write\n",
    "\n",
    "$$C_{ij} = \\max_k B_{cindex(o_{j-1})i} A_{ik} C_{k(j-1)},$$\n",
    "\n",
    "where $cindex(o_{j-1})$ is the index of the observation $j-1$ in the emission matrix."
   ]
  },
  {
   "cell_type": "markdown",
   "id": "a25f6a21",
   "metadata": {
    "slideshow": {
     "slide_type": "fragment"
    }
   },
   "source": [
    "The components of matrix $D$ are strongly interconnected with those of matrix $C$. In fact, $D_{ij}$ simply stores the value of $k$ that maximizes the entry of $C_{ij}$. Mathematically this can be expressed as\n",
    "\n",
    "$$D_{ij} =  \\operatorname{argmax}_k P(o_{j-1} | x_n = q_i)P(x_n = q_i | x_{n-1} = q_k)C_{k(j-1)}$$\n",
    "\n",
    "$$=  \\operatorname{argmax}_k B_{cindex(o_{j-1})i} A_{ik} C_{k(j-1)}.$$\n"
   ]
  },
  {
   "cell_type": "markdown",
   "id": "6b6a1168",
   "metadata": {
    "slideshow": {
     "slide_type": "slide"
    }
   },
   "source": [
    "Let us perform the forward pass for the umbrella problem. \n",
    "\n",
    "$$C_{12} = \\max_k B_{cindex(o_1)1}A_{1k}C_{k1}.$$\n"
   ]
  },
  {
   "cell_type": "markdown",
   "id": "79dc64cf",
   "metadata": {
    "slideshow": {
     "slide_type": "fragment"
    }
   },
   "source": [
    "Since the second observed value $o_1$ is equal to 1, $B_{cindex(o_1)1}$ becomes $B_{21}$:\n",
    "\n",
    "$$C_{12} = \\max_k B_{21}A_{1k}C_{k1}.$$\n"
   ]
  },
  {
   "cell_type": "markdown",
   "id": "06c69071",
   "metadata": {
    "slideshow": {
     "slide_type": "fragment"
    }
   },
   "source": [
    "The above expression can be written as\n",
    "\n",
    "$$C_{12} = \\max \\left( B_{21} A_{11} C_{11}, B_{21} A_{12} C_{21}\\right).$$\n"
   ]
  },
  {
   "cell_type": "markdown",
   "id": "abb2cbac",
   "metadata": {
    "slideshow": {
     "slide_type": "fragment"
    }
   },
   "source": [
    "Substituting the values from matrices $A$, $B$, and $C$ leads to\n",
    "\n",
    "$$C_{12} = \\max (0.2 \\cdot 0.7 \\cdot 0.48, 0.2 \\cdot 0.4 \\cdot 0.16) = \\max(0.0672, 0.0128) = 0.0672.$$\n"
   ]
  },
  {
   "cell_type": "markdown",
   "id": "c4fba6c3",
   "metadata": {
    "slideshow": {
     "slide_type": "fragment"
    }
   },
   "source": [
    "Note that the value of $k$ that maximized $C_{12}$ was 1. Therefore, \n",
    "\n",
    "$$D_{12} = 1.$$\n"
   ]
  },
  {
   "cell_type": "markdown",
   "id": "e8f5ecfb",
   "metadata": {
    "slideshow": {
     "slide_type": "slide"
    }
   },
   "source": [
    "The remaining components of $C$ and $D$ are computed in a similar way. The final result of the forward pass consists of fully defined matrices $C$ and $D$:\n",
    "\n",
    "$$C = \\begin{bmatrix}0.48 & 0.0672 & 0.009408 & 0.009953 \\\\ 0.16 & 0.0864 & 0.03110 & 0.007465  \\end{bmatrix},$$\n",
    "\n",
    "$$D = \\begin{bmatrix} 0 & 1 & 1 & 2\\\\  0 & 1 & 2 & 2\\end{bmatrix}.$$\n",
    "\n",
    "<center>\n",
    "\n",
    "<img src=\"images/Viterbi_diagram_forward.svg\" width=\"600px\">\n",
    "    \n",
    "</center>"
   ]
  },
  {
   "cell_type": "markdown",
   "id": "10466501",
   "metadata": {
    "slideshow": {
     "slide_type": "slide"
    }
   },
   "source": [
    "### Backward pass\n",
    "\n",
    "The backward pass constructs the path that provides the optimal sequence of hidden states for the observed sequence. \n",
    "\n",
    "First, the backward pass finds the row that contains the highest probability in the last column of matrix $C$, $C_{iT}:$\n",
    "\n",
    "$$s = \\operatorname{argmax}_{i} C_{iT}. $$\n"
   ]
  },
  {
   "cell_type": "markdown",
   "id": "9cfbad85",
   "metadata": {
    "slideshow": {
     "slide_type": "slide"
    }
   },
   "source": [
    "Once $s$ is known, the backward pass proceeds with matrix $D$. The algorithm walks through the columns of $D$ in reverse order. That is, it starts with the last column, $D_{iT}$. The value of $s$ simply specifies the row in $D_{iT}$. \n",
    "\n",
    "In our case, it is the first row, which corresponds to hidden state $Sunny$. Thus, the fourth state in the hidden state sequence $X = (x_0,x_1, x_2, x_3)$ is $Sunny$: \n",
    "\n",
    "$$x_3 = S.$$\n"
   ]
  },
  {
   "cell_type": "markdown",
   "id": "f367026c",
   "metadata": {
    "slideshow": {
     "slide_type": "fragment"
    }
   },
   "source": [
    "Moreover, $D_{14}$ is equal to 2:\n",
    "\n",
    "$$D = \\begin{bmatrix} 0 & 1 & 1 & \\mathbf{2}\\\\  0 & 1 & 2 & 2\\end{bmatrix}.$$\n",
    "\n",
    "This value directs us to the second row of matrix $D$ that corresponds with hidden state $Rainy$. Hence, $Rainy$ becomes the third state in the hidden state sequence: \n",
    "\n",
    "$$x_2 = R.$$\n"
   ]
  },
  {
   "cell_type": "markdown",
   "id": "f3a722d3",
   "metadata": {
    "slideshow": {
     "slide_type": "slide"
    }
   },
   "source": [
    "Since $D_{23}$ is also equal to 2: \n",
    "\n",
    "$$D = \\begin{bmatrix} 0 & 1 & 1 & \\mathbf{2}\\\\  0 & 1 & \\mathbf{2} & 2\\end{bmatrix},$$\n",
    "\n",
    "we find that $x_1$ is $Rainy$ and so on. "
   ]
  },
  {
   "cell_type": "markdown",
   "id": "a82ee6ab",
   "metadata": {
    "slideshow": {
     "slide_type": "fragment"
    }
   },
   "source": [
    "The complete path through matrix $D$ is shown below:\n",
    "\n",
    "$$D = \\begin{bmatrix} \\mathbf{0} & 1 & 1 & \\mathbf{2}\\\\  0 & \\mathbf{1} & \\mathbf{2} & 2\\end{bmatrix}.$$\n",
    "\n",
    "The corresponding sequence of hidden states is $(S, R, R, S),$ which is the solution to our decoding problem. "
   ]
  },
  {
   "cell_type": "markdown",
   "id": "4885c9f7",
   "metadata": {
    "slideshow": {
     "slide_type": "slide"
    }
   },
   "source": [
    "## Python implementation of the Viterbi algorithm"
   ]
  },
  {
   "cell_type": "code",
   "execution_count": 4,
   "id": "1a05a375",
   "metadata": {
    "slideshow": {
     "slide_type": "fragment"
    }
   },
   "outputs": [],
   "source": [
    "def Viterbi(y, A, B, Pi):\n",
    "    N = A.shape[1] # cardinality of the state space\n",
    "    T = len(y) # length of the observed sequence\n",
    "    # Initialize C & D\n",
    "    C = np.empty((N, T), 'd') #'d' stands for type double\n",
    "    D = np.empty((N, T), 'B') #'B' stands for type unsigned integer \n",
    "\n",
    "    # Initialization stage\n",
    "    C[:, 0] = B[y[0], :] * Pi.T\n",
    "    D[:, 0] = 0\n",
    "\n",
    "    # Forward pass\n",
    "    for i in range(1, T):\n",
    "        C[:, i] = np.max(B[y[i], :, np.newaxis] * A * C[:, i - 1], 1)\n",
    "        D[:, i] = np.argmax(B[y[i], :, np.newaxis] * A * C[:, i - 1], 1)\n",
    "    D[:,1:] =  D[:,1:] + 1 # hidden states indices start with 1\n",
    "\n",
    "    # Backward pass\n",
    "    x = np.empty(T, 'B')\n",
    "    x[-1] = np.argmax(C[:, T - 1]) + 1 # finds the value of s\n",
    "    for i in reversed(range(1, T)): \n",
    "        x[i - 1] = D[x[i] - 1, i]\n",
    "\n",
    "    return x, C, D"
   ]
  },
  {
   "cell_type": "code",
   "execution_count": 5,
   "id": "e63c4f11",
   "metadata": {
    "slideshow": {
     "slide_type": "slide"
    }
   },
   "outputs": [
    {
     "name": "stdout",
     "output_type": "stream",
     "text": [
      "Transition matrix: \n",
      " [[0.7 0.4]\n",
      " [0.3 0.6]]\n",
      "Emission matrix: \n",
      " [[0.8 0.4]\n",
      " [0.2 0.6]]\n",
      "Initial state distribution: \n",
      " [[0.6]\n",
      " [0.4]]\n",
      "Observed sequence: \n",
      " [0 1 1 0]\n"
     ]
    }
   ],
   "source": [
    "# HMM and observed sequence\n",
    "A = np.array([[0.7,0.4],[0.3,0.6]])\n",
    "B = np.array([[0.8, 0.4],[0.2, 0.6]])\n",
    "Pi = np.array([[0.6],[0.4]])\n",
    "\n",
    "print(\"Transition matrix: \\n\", A)\n",
    "print(\"Emission matrix: \\n\", B)\n",
    "print(\"Initial state distribution: \\n\", Pi)\n",
    "\n",
    "O = np.array([0,1,1,0])\n",
    "print(\"Observed sequence: \\n\", O)"
   ]
  },
  {
   "cell_type": "code",
   "execution_count": 6,
   "id": "6f16f920",
   "metadata": {
    "slideshow": {
     "slide_type": "slide"
    }
   },
   "outputs": [
    {
     "name": "stdout",
     "output_type": "stream",
     "text": [
      "Matrix C: \n",
      " [[0.48       0.0672     0.009408   0.00995328]\n",
      " [0.16       0.0864     0.031104   0.00746496]]\n",
      "Matrix D: \n",
      " [[0 1 1 2]\n",
      " [0 1 2 2]]\n",
      "Answer: \n",
      " [1 2 2 1]\n"
     ]
    }
   ],
   "source": [
    "# Result\n",
    "X, C, D = Viterbi(O,A,B,Pi)\n",
    "print(\"Matrix C: \\n\", C)\n",
    "print(\"Matrix D: \\n\", D)\n",
    "print(\"Answer: \\n\", X)"
   ]
  },
  {
   "cell_type": "markdown",
   "id": "e203f78d",
   "metadata": {
    "slideshow": {
     "slide_type": "slide"
    }
   },
   "source": [
    "### Summary\n",
    "\n",
    "- HMMs deal with Markov processes in which the states are hidden but influence an observable process. HMMs satisfy the following assumptions:\n",
    "1. Markov property,\n",
    "2. stationarity,\n",
    "3. output independence.<br>\n",
    "HMMs are fully described by the initial state, transition matrix, and emission matrix.\n",
    "\n",
    "- A decoding problem answers the question ''What is the most likely series of states to generate an observed sequence?''<br>\n",
    "It can be solved using a computationally expensive brute-force approach or by more advanced algorithms, such as the Viterbi algorithm.\n",
    "\n",
    "- The Vitebri algorithm is a recursive, step-wise procedure that can be split in 3 main parts:\n",
    "1. initialization,\n",
    "2. forward pass, \n",
    "3. backward pass.\n"
   ]
  }
 ],
 "metadata": {
  "celltoolbar": "Slideshow",
  "hide_input": false,
  "kernelspec": {
   "display_name": "Python 3 (ipykernel)",
   "language": "python",
   "name": "python3"
  },
  "language_info": {
   "codemirror_mode": {
    "name": "ipython",
    "version": 3
   },
   "file_extension": ".py",
   "mimetype": "text/x-python",
   "name": "python",
   "nbconvert_exporter": "python",
   "pygments_lexer": "ipython3",
   "version": "3.11.4"
  }
 },
 "nbformat": 4,
 "nbformat_minor": 5
}
