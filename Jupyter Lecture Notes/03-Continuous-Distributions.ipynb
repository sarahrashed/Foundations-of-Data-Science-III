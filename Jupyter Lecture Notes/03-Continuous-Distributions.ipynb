{
 "cells": [
  {
   "cell_type": "code",
   "execution_count": 3,
   "id": "2ba0940d",
   "metadata": {
    "editable": true,
    "hide_input": true,
    "slideshow": {
     "slide_type": "skip"
    },
    "tags": [
     "remove-cell"
    ]
   },
   "outputs": [],
   "source": [
    "%matplotlib inline\n",
    "%config InlineBackend.figure_format='retina'\n",
    "import numpy as np\n",
    "import pandas as pd\n",
    "import matplotlib.pyplot as plt\n",
    "import seaborn as sns\n",
    "import yfinance as yf\n",
    "from IPython.display import Image, display_html, display, Math, HTML"
   ]
  },
  {
   "cell_type": "markdown",
   "id": "832724da",
   "metadata": {
    "editable": true,
    "slideshow": {
     "slide_type": "slide"
    },
    "tags": []
   },
   "source": [
    "# Continuous Distributions"
   ]
  },
  {
   "cell_type": "markdown",
   "id": "ef5c61b6-8937-40fc-b52e-1fccec5c2258",
   "metadata": {
    "editable": true,
    "slideshow": {
     "slide_type": "fragment"
    },
    "tags": []
   },
   "source": [
    "Today we'll talk about __continuous__ distributions - probability distributions of continuous random variables. We are already familiar with some of these distributions. In fact, we have come across three examples of continuous distributions: exponential, uniform, and normal. "
   ]
  },
  {
   "cell_type": "markdown",
   "id": "379d95ad-e339-4d3d-8b76-e96b6fa8da4a",
   "metadata": {
    "editable": true,
    "slideshow": {
     "slide_type": "fragment"
    },
    "tags": []
   },
   "source": [
    "The goal of this lecture is to investigate continuous distributions in more detail. We will start by reviewing some concepts from integral calculus. Then we will apply these concepts to answer various probability questions and compute expectation and variance of continuous random variables. In the final section of the lecture we will focus the continuous version of the uniform distribution."
   ]
  },
  {
   "cell_type": "markdown",
   "id": "966a3eeb-3abf-4ada-981e-3146e3dd7540",
   "metadata": {
    "editable": true,
    "slideshow": {
     "slide_type": "slide"
    },
    "tags": []
   },
   "source": [
    "## Review of Integrals"
   ]
  },
  {
   "cell_type": "markdown",
   "id": "f5064e96-7734-4683-9da4-34adf993b441",
   "metadata": {
    "editable": true,
    "slideshow": {
     "slide_type": "fragment"
    },
    "tags": []
   },
   "source": [
    "### Area under the curve\n",
    "Consider a function $f$ defined for $a\\leq x \\leq b$. We divide the interval $[a,b]$ into $n$ subintervals of equal width, $\\Delta x = \\frac{b-a}{n}.$ In addition, we let $x_0 = a, x_1, x_2, \\dots, x_n = b$ be the endpoints of these intervals. Finally, we let $x_1^{\\ast}, x_2^{\\ast}, \\dots, x_n^{\\ast}$ be any sample points within these intervals, so $x_i^{\\ast}$ lies in the $i$th subinterval $[x_{i-1}, x_i]$.  "
   ]
  },
  {
   "cell_type": "markdown",
   "id": "8f6d4ebc-b3e1-48b8-aaa5-58229643a08f",
   "metadata": {
    "editable": true,
    "slideshow": {
     "slide_type": "fragment"
    },
    "tags": []
   },
   "source": [
    "Then $\\int_a^b f(x) dx$ can be viewed as the sum $\\sum_{k=1}^n f(x_k^{\\ast}) \\Delta x$ for $n$ approaching infinity."
   ]
  },
  {
   "cell_type": "markdown",
   "id": "2f437980-cc36-42ef-ae6c-67b62c061747",
   "metadata": {
    "editable": true,
    "slideshow": {
     "slide_type": "slide"
    },
    "tags": []
   },
   "source": [
    "Mathematically, we write this as \n",
    "\n",
    "$$\\int_a^b f(x) dx = \\lim_{n \\to \\infty} \\sum_{k=1}^n f(x_k^{\\ast}) \\Delta x.$$"
   ]
  },
  {
   "cell_type": "markdown",
   "id": "e6d479ef-96b0-43af-86fd-3c3ccd42f8d9",
   "metadata": {
    "editable": true,
    "slideshow": {
     "slide_type": "fragment"
    },
    "tags": []
   },
   "source": [
    "<center>\n",
    "\n",
    "<img src=\"images/Bernhard_Riemann.jpeg\" width=\"250px\">\n",
    "    \n",
    "</center>\n",
    "\n",
    "<center>\n",
    "Bernhard Riemann (1826-1866)\n",
    "</center>\n",
    "\n",
    "<!-- From https://en.wikipedia.org/wiki/Bernhard_Riemann#/media/File:Georg_Friedrich_Bernhard_Riemann.jpeg -->"
   ]
  },
  {
   "cell_type": "markdown",
   "id": "236fdfb0-b57b-4d51-b410-fa98fb551633",
   "metadata": {
    "editable": true,
    "slideshow": {
     "slide_type": "fragment"
    },
    "tags": []
   },
   "source": [
    "The sum $\\sum_{k=1}^n f(x_k^{\\ast}) \\Delta x$ is called a _Riemann sum_ after the German mathematician Bernhard Riemann."
   ]
  },
  {
   "cell_type": "markdown",
   "id": "d97f96a0-2439-4674-bb8c-024a4c2ce113",
   "metadata": {
    "editable": true,
    "slideshow": {
     "slide_type": "slide"
    },
    "tags": []
   },
   "source": [
    "If the function $f$ is positive (assumes only positive values) then the Riemann sum can be interpreted as a sum of areas of approximating rectangles. Therefore, for a positive $f$ the integral $\\int_a^b f(x) dx$  is the area under the curve $y=f(x)$ from $a$ to $b$."
   ]
  },
  {
   "cell_type": "markdown",
   "id": "9cbc9dc7-a98f-4b5f-9b1c-829020ca6cc8",
   "metadata": {
    "editable": true,
    "slideshow": {
     "slide_type": "fragment"
    },
    "tags": []
   },
   "source": [
    "<center>\n",
    "\n",
    "<img src=\"images/Riemann_sum.png\" width=\"500px\">\n",
    "    \n",
    "</center>\n",
    "\n",
    "<!-- By Jennifer Balakrishnan, MA124 Calculus II -->"
   ]
  },
  {
   "cell_type": "markdown",
   "id": "152dbba5-30ee-4b44-98de-eeb0ae25fd3e",
   "metadata": {
    "editable": true,
    "slideshow": {
     "slide_type": "slide"
    },
    "tags": []
   },
   "source": [
    "Note: The symbol $\\int$ was introduced by Leibniz and is called an _integral sign_. It is an elongated $S$ and was chosen because an integral is a limit of sums. In the notation $\\int_a^bf(x) dx$, $f(x)$ is the _integrand_ and $a$ and $b$ are called the _limits of integration_: $a$ is the _lower limit_ and $b$ is the _upper limit_. The symbol $dx$ has no official meaning by itself. A _definite integral_ is the integral that represents the area under a curve between two __fixed__ limits of integration. We say that a function $f$ defined on $[a,b]$ is _integrable_ on $[a,b]$ if $\\lim_{n \\to \\infty} \\sum_{k=1}^n f(x_k^{\\ast}) \\Delta x$ exists."
   ]
  },
  {
   "cell_type": "markdown",
   "id": "89f50a39-86f3-47f5-a938-ff346908849b",
   "metadata": {
    "editable": true,
    "slideshow": {
     "slide_type": "slide"
    },
    "tags": []
   },
   "source": [
    "### Properties of the integral\n",
    "\n",
    "Here are some very important properties of definite integrals.\n",
    "\n",
    "Let $f$ and $g$ be integrable functions on $[a,b]$ and let $c$ be any constant.\n",
    "\n",
    "- $\\int_a^a f(x) dx = 0$.\n",
    "- $\\int_b^a f(x) dx = -\\int_a^b f(x) dx$.\n",
    "- $\\int_a^b \\left(f(x)+g(x)\\right) dx = \\int_a^b f(x)dx + \\int_a^b g(x)dx$.\n",
    "- $\\int_a^b c f(x) dx = c \\int_a^b f(x) dx$.\n",
    "- $\\int_a^b f(x) dx = \\int_a^p f(x) dx + \\int_p^b f(x)dx$ for any $p \\in [a,b].$"
   ]
  },
  {
   "cell_type": "markdown",
   "id": "8c4d9e08-e0b5-44e9-a0af-29217fbe8691",
   "metadata": {
    "editable": true,
    "slideshow": {
     "slide_type": "slide"
    },
    "tags": []
   },
   "source": [
    "### The Fundamental Theorem of Calculus\n",
    "\n",
    "The Fundamental Theorem of Calculus establishes a connection between the two branches of calculus: differential calculus and integral calculus. Differential calculus arose from the tangent problem, whereas the integral calculus arose from a seemingly unrelated problem, the area problem.  \n",
    "\n",
    "<center>\n",
    "\n",
    "<img src=\"images/Isaac_Barrow.jpg\" width=\"250px\">\n",
    "    \n",
    "</center>\n",
    "\n",
    "<center>\n",
    "Isaac Barrow (1630 - 1677)\n",
    "</center>\n",
    "\n",
    "<!-- From https://en.wikipedia.org/wiki/Isaac_Barrow#/media/File:Isaac_Barrow_by_Mary_Beale.jpg -->\n",
    "\n",
    "Isaac Barrow discovered that these two problems are actually closely related. In fact, he realized that differentiation and integration are inverse processes. The Fundamental Theorem of Calculus gives the precise inverse relationship between the derivative and the integral."
   ]
  },
  {
   "cell_type": "markdown",
   "id": "cc8fca25-7206-46fa-a597-026cc1bfd085",
   "metadata": {
    "editable": true,
    "slideshow": {
     "slide_type": "slide"
    },
    "tags": []
   },
   "source": [
    "A function $F$ is called an _antiderivative_ of $f$ on an interval $I$ if $F'(x) = f(x)$ for all $x$ in $I$.\n",
    "\n",
    "__Example__. Let $f(x) = x^2$. If $F(x) = \\frac{1}{3}x^3$, then $F'(x) = x^2 = f(x).$ Thus, $F(x) = \\frac{1}{3}x^3$ is an antiderivative of $f(x) = x^2$. It should be noted that $F_1(x) = \\frac{1}{3}x^3 + 100$ also satisfies $F_1'(x) = x^2$ and, hence, is also an antiderivative of $f(x) = x^2$."
   ]
  },
  {
   "cell_type": "markdown",
   "id": "71063a07-bae7-4af3-adf8-016e21e9bfa6",
   "metadata": {
    "editable": true,
    "slideshow": {
     "slide_type": "fragment"
    },
    "tags": []
   },
   "source": [
    "__The Fundamental Theorem of Calculus. Part 1.__ If $f$ is continuous on $[a,b]$, then the function $g$ defined by \n",
    "\n",
    "$$g(x) = \\int_a^x f(t) dt \\quad a\\leq x \\leq b$$\n",
    "\n",
    "is continuous on $[a,b]$ and differentiable on $(a,b)$, and $g'(x) = f(x)$."
   ]
  },
  {
   "cell_type": "markdown",
   "id": "b22d2f24-e1bc-41da-803e-c7fda2ba6c01",
   "metadata": {
    "editable": true,
    "slideshow": {
     "slide_type": ""
    },
    "tags": []
   },
   "source": [
    "__The Fundamental Theorem of Calculus. Part 2.__ If $f$ is continuous on $[a,b]$, then \n",
    "\n",
    "$$\\int_a^b f(x) dx = F(b) - F(a),$$\n",
    "\n",
    "where $F$ is any antiderivative of $f$, that is, a function such that $F' = f$."
   ]
  },
  {
   "cell_type": "markdown",
   "id": "98ba465d-d8c8-4980-ad0c-09935d213b1d",
   "metadata": {
    "editable": true,
    "slideshow": {
     "slide_type": "slide"
    },
    "tags": []
   },
   "source": [
    "### Elementary integrals\n",
    "\n",
    "Here is the list of integrals that you should know for this course.\n",
    "\n",
    "- $\\int_a^b c dx = c(b - a)$ for any constant $c$.\n",
    "- $\\int_a^b x^n dx = \\frac{1}{n+1}\\left[x^{n+1}\\right]_{x=a}^{x=b}$ for $n \\neq -1.$\n",
    "- $\\int_a^b \\frac{1}{x}dx = \\left[\\ln |x| \\right]_{x=a}^{x=b}$\n"
   ]
  },
  {
   "cell_type": "markdown",
   "id": "69096b37-7a7b-44e9-93cd-e3c5493dee41",
   "metadata": {
    "editable": true,
    "slideshow": {
     "slide_type": "slide"
    },
    "tags": []
   },
   "source": [
    "### Examples\n",
    "1. Find $\\int_{-2}^2 (2 + 5x) dx.$\n",
    "   \n",
    "   $$\\int_{-2}^2 (2 + 5x) dx = \\int_{-2}^2 2 dx + \\int_{-2}^2 5 x dx = 2(2-(-2)) + 5 \\left[\\frac{1}{2}x^2\\right]_{x=-2}^{x=2} = 8 + \\frac{5}{2} (2^2 - (-2)^2) = 8 + 0 =8.$$"
   ]
  },
  {
   "cell_type": "markdown",
   "id": "9ffda80d-894b-461f-98b2-b229f393cefb",
   "metadata": {
    "editable": true,
    "slideshow": {
     "slide_type": "fragment"
    },
    "tags": []
   },
   "source": [
    "2. Find the area under the parabola $y=x^2$ from 0 to 1.\n",
    "   The required area is equal to\n",
    "\n",
    "   $$\\int_0^1  x^2 dx = \\left[\\frac{1}{3}x^3 \\right]_{x=0}^{x=1} = \\frac{1}{3}\\left[x^3 \\right]_{x=0}^{x=1} = \\frac{1}{3} (1^3 - 0^3) = \\frac{1}{3}.$$"
   ]
  },
  {
   "cell_type": "markdown",
   "id": "2e1195e3-ae01-4a2a-9e02-2439d0dbdc96",
   "metadata": {
    "editable": true,
    "slideshow": {
     "slide_type": "fragment"
    },
    "tags": []
   },
   "source": [
    "3. Evaluate $\\int_3^6 \\frac{1}{x}dx.$\n",
    "\n",
    "$$\\int_3^6 \\frac{1}{x}dx = [\\ln x]_{x=3}^{x=6} = \\ln 6 - \\ln 3 = \\ln \\frac{6}{3} = \\ln 2.$$"
   ]
  },
  {
   "cell_type": "markdown",
   "id": "9f9007da-8e06-43f2-8dcf-1e2f518d88da",
   "metadata": {
    "editable": true,
    "slideshow": {
     "slide_type": "slide"
    },
    "tags": []
   },
   "source": [
    "## Probability density function\n",
    "\n",
    "We have discussed previously that continuous random variables are described by their probability density functions. If $f$ is a PDF, then it has the following properties:\n",
    "\n",
    "- $ f(x) \\geq 0,$\n",
    "- $ \\int_{- \\infty}^{\\infty} f(x) dx = 1.$\n",
    "\n",
    " "
   ]
  },
  {
   "cell_type": "markdown",
   "id": "2c18961e-b0ac-436d-9c62-9ec1c1907279",
   "metadata": {
    "editable": true,
    "slideshow": {
     "slide_type": "fragment"
    },
    "tags": []
   },
   "source": [
    "In addition, if $F$ is the corresponding CDF, then\n",
    "\n",
    "- $f(x) = \\frac{d F(x)}{dx},$ and\n",
    "- $F(a) = P(X\\leq a) = \\int_{-\\infty}^a f(x) dx.$"
   ]
  },
  {
   "cell_type": "markdown",
   "id": "abdcf27c-5e7f-4234-9373-8eff2ed37a6b",
   "metadata": {
    "editable": true,
    "slideshow": {
     "slide_type": "slide"
    },
    "tags": []
   },
   "source": [
    "The probability density function plays a central role in probability theory, because all probability statements about a continuous random variable can be answered in terms of its PDF. For instance, for a continuous variable $X$ from $P(X\\leq a) = \\int_{-\\infty}^a f(x) dx$, we obtain\n",
    "\n",
    "$$P(a \\leq X \\leq b) = P(X \\leq b) - P(X \\leq a) = \\int_{-\\infty}^b f(x) dx - \\int_{-\\infty}^a f(x) dx = \\int_a^b f(x) dx.$$"
   ]
  },
  {
   "cell_type": "markdown",
   "id": "e22c8a47-36af-453a-8450-424784c8bcfa",
   "metadata": {
    "editable": true,
    "slideshow": {
     "slide_type": "fragment"
    },
    "tags": []
   },
   "source": [
    "<center>\n",
    "\n",
    "<img src=\"images/Pdf_integral.png\" width=\"400px\">\n",
    "    \n",
    "</center>\n"
   ]
  },
  {
   "cell_type": "markdown",
   "id": "370de02b-41c6-467c-b9ca-09435c534b50",
   "metadata": {
    "editable": true,
    "slideshow": {
     "slide_type": "fragment"
    },
    "tags": []
   },
   "source": [
    "Note: If we let $a = b$, then\n",
    "\n",
    "$$P(b\\leq X \\leq b) = P(X = b) = \\int_b^b f(x) dx = 0.$$"
   ]
  },
  {
   "cell_type": "markdown",
   "id": "1254e93e-a6d0-48eb-8b71-f31ec1252cba",
   "metadata": {
    "editable": true,
    "slideshow": {
     "slide_type": "fragment"
    },
    "tags": []
   },
   "source": [
    "Although this result might seem strange initially, it is really quite natural. Imagine that a continuous variable had a positive probability of being any particular value, then the same should hold for all its possible values. In that case, the total sum of the probabilities would be infinite."
   ]
  },
  {
   "cell_type": "markdown",
   "id": "6706028a-a334-4f30-a91c-0ad2d2a7d4c5",
   "metadata": {
    "editable": true,
    "slideshow": {
     "slide_type": "slide"
    },
    "tags": []
   },
   "source": [
    "__Example.__ Suppose that $X$ is a continuous random variable with probability density function \n",
    "\n",
    "$$ f(x) = \\;\\left\\{\\begin{array}{cr} c(4x - 2x^2) & \\text{for  } 0<x<2,\\\\ 0 & \\text{otherwise. }\\end{array}\\right.$$ \n",
    "\n",
    "Here $c$ is a constant. <br>\n",
    "a. What is the value of $c$? <br>\n",
    "b. Find $P(X>1).$\n"
   ]
  },
  {
   "cell_type": "markdown",
   "id": "72eba2f9-a172-41c3-b02b-33dbe1f6128b",
   "metadata": {
    "editable": true,
    "slideshow": {
     "slide_type": "fragment"
    },
    "tags": []
   },
   "source": [
    "__Solution.__ a. Since $f$ is a probability density function, we must have $\\int_{-\\infty}^{\\infty} f(x)dx = 1.$ This is equivalent to\n",
    "\n",
    "$$\\int_0^2 c(4x-2x^2) dx = 1,$$\n",
    "\n",
    "because the PDF is non-zero only on the interval $(0,2)$. "
   ]
  },
  {
   "cell_type": "markdown",
   "id": "4fd143ec-5dea-4e10-8242-4ab483be1c2e",
   "metadata": {
    "editable": true,
    "slideshow": {
     "slide_type": "slide"
    },
    "tags": []
   },
   "source": [
    "Let us first compute the integral \n",
    "\n",
    "$$\\int_0^2 c(4x-2x^2) dx = c \\int_0^2 (4x-2x^2) dx = c \\left[ \\frac{4}{2}x^2 - \\frac{2}{3} x^3 \\right]_{x=0}^{x=2} $$"
   ]
  },
  {
   "cell_type": "markdown",
   "id": "132698ff-eb14-438b-89c2-47d0c32427e6",
   "metadata": {
    "editable": true,
    "slideshow": {
     "slide_type": "fragment"
    },
    "tags": []
   },
   "source": [
    "$$ = c \\left[2x^2 -  \\frac{2}{3} x^3 \\right]_{x=0}^{x=2} = c\\left(2\\cdot 2^2 - \\frac{2}{3}\\cdot 2^3\\right) - 0 = c\\left(8 - \\frac{16}{3}\\right) = \\frac{8}{3}c.$$"
   ]
  },
  {
   "cell_type": "markdown",
   "id": "45529f76-f835-432b-8485-8adf362a001c",
   "metadata": {
    "editable": true,
    "slideshow": {
     "slide_type": "fragment"
    },
    "tags": []
   },
   "source": [
    "Since $\\frac{8}{3}c = 1$, we find that $c = \\frac{3}{8}.$"
   ]
  },
  {
   "cell_type": "markdown",
   "id": "bba369ed-8c35-4a95-8848-9f07a23534ad",
   "metadata": {
    "editable": true,
    "slideshow": {
     "slide_type": "slide"
    },
    "tags": []
   },
   "source": [
    "b. \n",
    "\n",
    "$$P(X>1) = \\int_1^{\\infty} f(x) dx = \\int_1^{2} \\frac{3}{8} (4x - 2x^2) dx = \\frac{3}{8} \\left[ 2x^2 -  \\frac{2}{3} x^3  \\right]_{x=1}^{x=2}$$"
   ]
  },
  {
   "cell_type": "markdown",
   "id": "c30885fe-326a-4119-be11-379930a43951",
   "metadata": {
    "editable": true,
    "slideshow": {
     "slide_type": "fragment"
    },
    "tags": []
   },
   "source": [
    "$$ = \\frac{3}{8} \\left[ 2x^2 -  \\frac{2}{3} x^3  \\right]_{x=1}^{x=2} = \\frac{3}{8} \\left[\\left(2\\cdot4 - \\frac{2}{3}\\cdot 8\\right) - \\left( 2 - \\frac{2}{3} \\right) \\right] = \\frac{1}{2}.$$"
   ]
  },
  {
   "cell_type": "markdown",
   "id": "fa7eee45-cf6e-42d2-97e4-aec7fbf945c0",
   "metadata": {
    "editable": true,
    "slideshow": {
     "slide_type": "slide"
    },
    "tags": []
   },
   "source": [
    "## Expectation\n",
    "\n",
    "In one of the previous lectures we defined the expected value of a continuous random variable $X$ as\n",
    "\n",
    "$$E[X] = \\int_{-\\infty}^{\\infty} x f(x) dx.$$"
   ]
  },
  {
   "cell_type": "markdown",
   "id": "222439bc-0bfd-480d-9c07-a7e6da171261",
   "metadata": {
    "editable": true,
    "slideshow": {
     "slide_type": "fragment"
    },
    "tags": []
   },
   "source": [
    "Since often the set of possible values of $X$ is restricted to a certain interval, we can use definite integrals to compute the expected values using the above definition."
   ]
  },
  {
   "cell_type": "markdown",
   "id": "ff608984-7994-4aa0-bb58-8d26fff4fb98",
   "metadata": {
    "editable": true,
    "slideshow": {
     "slide_type": "slide"
    },
    "tags": []
   },
   "source": [
    "__Example.__ Find $E[X]$ when the density function of $X$ is \n",
    "\n",
    "$$ f(x) = \\;\\left\\{\\begin{array}{cr} 2x & \\text{for  } 0\\leq x \\leq 1, \\\\ 0 & \\text{otherwise. }\\end{array}\\right.$$ \n"
   ]
  },
  {
   "cell_type": "markdown",
   "id": "dfc80a2e-74ef-43e3-b06a-49c2db4374ec",
   "metadata": {
    "editable": true,
    "slideshow": {
     "slide_type": ""
    },
    "tags": []
   },
   "source": [
    "__Solution.__ \n",
    "\n",
    "$$E[X] = \\int_{-\\infty}^{\\infty} x f(x) dx = \\int_0^1 x \\cdot 2x \\:dx = \\int_0^1 2x^2 dx = 2 \\int_0^1 x^2 dx = 2 \\left[ \\frac{1}{3}x^3\\right]_{x=0}^{x=1} = \\frac{2}{3}.$$"
   ]
  },
  {
   "cell_type": "markdown",
   "id": "b9935c46-3414-464a-b862-519dd1fd947e",
   "metadata": {
    "editable": true,
    "slideshow": {
     "slide_type": "slide"
    },
    "tags": []
   },
   "source": [
    "## Variance\n",
    "\n",
    "We have defined the variance of a random variable $X$ as \n",
    "\n",
    "$$\\text{Var} (X) = E\\left[(X- \\overline{X})^2 \\right].$$ \n",
    "\n",
    "We also said that for a discrete random variable with PMF $p$ and $\\overline{X} = \\mu$, the variance can be computed from\n",
    "\n",
    "$$\\text{Var} (X) = \\sum_{x= -\\infty}^{\\infty} (x - \\mu)^2 p(x).$$"
   ]
  },
  {
   "cell_type": "markdown",
   "id": "1d9b099d-48d4-42a5-a83b-76155a88b8e3",
   "metadata": {
    "editable": true,
    "slideshow": {
     "slide_type": "fragment"
    },
    "tags": []
   },
   "source": [
    "Similarly, for a continuous random variable with density function $f(x)$ and $\\overline{X} = \\mu$\n",
    "\n",
    "$$\\text{Var}(X) = \\int_{-\\infty}^{\\infty} (x - \\mu)^2 f(x) dx.$$"
   ]
  },
  {
   "cell_type": "markdown",
   "id": "9b380242-450a-4c07-aa97-09d9eed88b06",
   "metadata": {
    "editable": true,
    "slideshow": {
     "slide_type": "slide"
    },
    "tags": []
   },
   "source": [
    "## Uniform distribution\n",
    "\n",
    "What if I ask you to choose a random number between 0 and 1, inclusive 0 and 1?\n",
    "\n",
    "You might pick 1, or 0.5, or 0.01, or 0.9999997, etc. Any number from the interval $[0,1]$ would have the same probability of being picked. This is an example of a uniformly distributed continuous random variable."
   ]
  },
  {
   "cell_type": "markdown",
   "id": "0cf183de-17ae-4260-9c04-912180cfb0fa",
   "metadata": {
    "editable": true,
    "slideshow": {
     "slide_type": "fragment"
    },
    "tags": []
   },
   "source": [
    "The PDF of a continuous uniform distribution on $[0,1]$ is given by\n",
    "\n",
    "$$f(x) = \\;\\left\\{\\begin{array}{cr} 1 & \\text{for  } 0\\leq x \\leq 1, \\\\ 0 & \\text{otherwise. }\\end{array}\\right.$$\n",
    "\n",
    "This is called _uniform density_ on $[0,1]$. "
   ]
  },
  {
   "cell_type": "markdown",
   "id": "1e51542e-2bbf-4be5-9444-2df4b3eca830",
   "metadata": {
    "editable": true,
    "slideshow": {
     "slide_type": "fragment"
    },
    "tags": []
   },
   "source": [
    "For a general interval $[a,b]$, this function would become \n",
    "\n",
    "$$f(x) = \\;\\left\\{\\begin{array}{cr} \\frac{1}{b-a} & \\text{for  } a\\leq x \\leq b, \\\\ 0 & \\text{otherwise. }\\end{array}\\right.$$"
   ]
  },
  {
   "cell_type": "markdown",
   "id": "47b5238b-e3f4-4edf-9c46-faf8c0baea25",
   "metadata": {
    "editable": true,
    "raw_mimetype": "",
    "slideshow": {
     "slide_type": "slide"
    },
    "tags": []
   },
   "source": [
    "__Example.__ Let $X$ be a continuous random variable that is uniformly distributed over $[0,10]$. Find $E[X].$"
   ]
  },
  {
   "cell_type": "markdown",
   "id": "f3e4aa6e-d375-4452-b106-7f93c652795e",
   "metadata": {
    "editable": true,
    "raw_mimetype": "",
    "slideshow": {
     "slide_type": "slide"
    },
    "tags": []
   },
   "source": [
    "__Solution.__ Our intuition tells us that $E[X]$ should be equal to 5, the midpoint of $[0,10].$ Let us confirm this by a computation.\n",
    "\n",
    "$$E[X] = \\int_{-\\infty}^{\\infty} x f(x) \\:dx = \\int_0^{10} x \\cdot \\frac{1}{10-0} dx = \\frac{1}{10} \\int_0^{10} x \\:dx = \\frac{1}{10}\\cdot \\frac{1}{2} \\left[x^2\\right]_{x=0}^{x=10} = \\frac{1}{20} \\cdot 100 = 5.$$\n",
    "\n"
   ]
  },
  {
   "cell_type": "markdown",
   "id": "795ded68-9b38-466d-b818-ad75a58ade22",
   "metadata": {
    "editable": true,
    "slideshow": {
     "slide_type": "fragment"
    },
    "tags": []
   },
   "source": [
    "The expected value and the variance of a continuous uniform distribution are, respectively\n",
    "\n",
    "$$\\frac{a+b}{2} \\quad \\text{ and } \\quad \\frac{(b-a)^2}{12}.$$"
   ]
  },
  {
   "cell_type": "markdown",
   "id": "84824db2-fddd-4f7e-a9b7-2d505c09bef9",
   "metadata": {
    "editable": true,
    "slideshow": {
     "slide_type": "slide"
    },
    "tags": []
   },
   "source": [
    "Let us look next at a more interesting example."
   ]
  },
  {
   "cell_type": "markdown",
   "id": "6e25f7fc-aa7e-42f5-91f1-f22114dcfb13",
   "metadata": {
    "editable": true,
    "slideshow": {
     "slide_type": "fragment"
    },
    "tags": []
   },
   "source": [
    "__Example.__ Buses arrive at a specified stop at 15-minute intervals starting at 7 am. That is, they arrive at 7, 7:15, 7:30, 7:45, and so on. If a passenger arrives at the stop at a time that is uniformly distributed between 7 and 7:30, find the probability that he waits less than 5 minutes for a bus."
   ]
  },
  {
   "cell_type": "markdown",
   "id": "c0426aec-5e9e-4df6-853b-be457f48838d",
   "metadata": {
    "editable": true,
    "slideshow": {
     "slide_type": "slide"
    },
    "tags": []
   },
   "source": [
    "__Solution.__ Let $X$ denote the number of minutes past 7 that the passenger arrives at the stop. Since $X$ is a uniform random variable over the interval $(0, 30)$, it follows that the passenger will have to wait less than 5 minutes if (and only if) he arrives between 7:10 and 7:15 or between 7:25 and 7:30. Hence, the desired probability is \n",
    "\n",
    "$$P(10 < X < 15) + P(25 < X < 30) = \\int_{10}^{15} \\frac{1}{30} dx + \\int_{25}^{30} \\frac{1}{30} dx = \\frac{1}{30} (5+5) = \\frac{1}{3}.$$ "
   ]
  }
 ],
 "metadata": {
  "celltoolbar": "Slideshow",
  "kernelspec": {
   "display_name": "Python 3 (ipykernel)",
   "language": "python",
   "name": "python3"
  },
  "language_info": {
   "codemirror_mode": {
    "name": "ipython",
    "version": 3
   },
   "file_extension": ".py",
   "mimetype": "text/x-python",
   "name": "python",
   "nbconvert_exporter": "python",
   "pygments_lexer": "ipython3",
   "version": "3.11.8"
  },
  "rise": {
   "scroll": true,
   "theme": "serif",
   "transition": "fade"
  }
 },
 "nbformat": 4,
 "nbformat_minor": 5
}
